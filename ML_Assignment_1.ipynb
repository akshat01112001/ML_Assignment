{
  "nbformat": 4,
  "nbformat_minor": 0,
  "metadata": {
    "colab": {
      "provenance": [],
      "toc_visible": true,
      "include_colab_link": true
    },
    "kernelspec": {
      "name": "python3",
      "display_name": "Python 3"
    },
    "language_info": {
      "name": "python"
    }
  },
  "cells": [
    {
      "cell_type": "markdown",
      "metadata": {
        "id": "view-in-github",
        "colab_type": "text"
      },
      "source": [
        "<a href=\"https://colab.research.google.com/github/akshat01112001/ML_Assignment/blob/main/ML_Assignment_1.ipynb\" target=\"_parent\"><img src=\"https://colab.research.google.com/assets/colab-badge.svg\" alt=\"Open In Colab\"/></a>"
      ]
    },
    {
      "cell_type": "markdown",
      "source": [
        "# Initialisation"
      ],
      "metadata": {
        "id": "98YnZJMBxMxo"
      }
    },
    {
      "cell_type": "markdown",
      "source": [
        "## Importing Necessary Libraries"
      ],
      "metadata": {
        "id": "lumaeTmjd0zt"
      }
    },
    {
      "cell_type": "code",
      "execution_count": null,
      "metadata": {
        "id": "EsH4BjGQcWvM"
      },
      "outputs": [],
      "source": [
        "# Done by\n",
        "# 2019B1A31551H Deepak Gouni\n",
        "# 2020A8PS1162H Srikanth Mangipudi\n",
        "# 2020A7PS0034H Akshat Kumar\n",
        "\n",
        "import random\n",
        "import pandas as pd\n",
        "import numpy as np\n",
        "import matplotlib.pyplot as plt\n",
        "%matplotlib inline"
      ]
    },
    {
      "cell_type": "markdown",
      "source": [
        "## Importing Dataset"
      ],
      "metadata": {
        "id": "TG9Crn9Wd5v9"
      }
    },
    {
      "cell_type": "code",
      "source": [
        "df = pd.read_csv('Dsata Set for Assignment 1.csv')"
      ],
      "metadata": {
        "id": "Aia900vzc96q"
      },
      "execution_count": null,
      "outputs": []
    },
    {
      "cell_type": "markdown",
      "source": [
        "# Feature Engineering"
      ],
      "metadata": {
        "id": "kCPxlK8Cu-Tj"
      }
    },
    {
      "cell_type": "markdown",
      "source": [
        "## Deletion of NaN Values"
      ],
      "metadata": {
        "id": "cWS9mEkU6BwD"
      }
    },
    {
      "cell_type": "code",
      "source": [
        "df = df.dropna()"
      ],
      "metadata": {
        "id": "qM1qS6246FIo"
      },
      "execution_count": null,
      "outputs": []
    },
    {
      "cell_type": "markdown",
      "source": [
        "## Missing Values"
      ],
      "metadata": {
        "id": "pNam_MVKZJDN"
      }
    },
    {
      "cell_type": "code",
      "source": [
        "df.isnull().sum()"
      ],
      "metadata": {
        "id": "88-fc407d8Zb",
        "colab": {
          "base_uri": "https://localhost:8080/"
        },
        "outputId": "88967432-c272-487d-e53e-77fc9883799f"
      },
      "execution_count": null,
      "outputs": [
        {
          "output_type": "execute_result",
          "data": {
            "text/plain": [
              "id                         0\n",
              "diagnosis                  0\n",
              "radius_mean                1\n",
              "texture_mean               0\n",
              "perimeter_mean             1\n",
              "area_mean                  0\n",
              "smoothness_mean            0\n",
              "compactness_mean           0\n",
              "concavity_mean             1\n",
              "concave points_mean        0\n",
              "symmetry_mean              0\n",
              "fractal_dimension_mean     0\n",
              "radius_se                  0\n",
              "texture_se                 0\n",
              "perimeter_se               0\n",
              "area_se                    0\n",
              "smoothness_se              0\n",
              "compactness_se             1\n",
              "concavity_se               0\n",
              "concave points_se          0\n",
              "symmetry_se                0\n",
              "fractal_dimension_se       0\n",
              "radius_worst               0\n",
              "texture_worst              0\n",
              "perimeter_worst            0\n",
              "area_worst                 2\n",
              "smoothness_worst           0\n",
              "compactness_worst          0\n",
              "concavity_worst            1\n",
              "concave points_worst       0\n",
              "symmetry_worst             0\n",
              "fractal_dimension_worst    0\n",
              "dtype: int64"
            ]
          },
          "metadata": {},
          "execution_count": 4
        }
      ]
    },
    {
      "cell_type": "code",
      "source": [
        "df['radius_mean'].fillna(np.mean(df['radius_mean']),inplace = True)"
      ],
      "metadata": {
        "id": "7FdIgK4jfoUP"
      },
      "execution_count": null,
      "outputs": []
    },
    {
      "cell_type": "code",
      "source": [
        "df['perimeter_mean'].fillna(np.mean(df['perimeter_mean']),inplace = True)"
      ],
      "metadata": {
        "id": "Sbhaq4y_gcs7"
      },
      "execution_count": null,
      "outputs": []
    },
    {
      "cell_type": "code",
      "source": [
        "df['concavity_mean'].fillna(np.mean(df['concavity_mean']),inplace = True)"
      ],
      "metadata": {
        "id": "VS2QAKjJg4pP"
      },
      "execution_count": null,
      "outputs": []
    },
    {
      "cell_type": "code",
      "source": [
        "df['compactness_se'].fillna(np.mean(df['compactness_se']),inplace = True)"
      ],
      "metadata": {
        "id": "h_fBbap7g_Ye"
      },
      "execution_count": null,
      "outputs": []
    },
    {
      "cell_type": "code",
      "source": [
        "df['area_worst'].fillna(np.mean(df['area_worst']),inplace = True)"
      ],
      "metadata": {
        "id": "Bbqn1_zHhJnB"
      },
      "execution_count": null,
      "outputs": []
    },
    {
      "cell_type": "code",
      "source": [
        "df['concavity_worst'].fillna(np.mean(df['concavity_worst']),inplace = True)"
      ],
      "metadata": {
        "id": "U1-ZT2UIhSD_"
      },
      "execution_count": null,
      "outputs": []
    },
    {
      "cell_type": "code",
      "source": [
        "df.isnull().sum()"
      ],
      "metadata": {
        "colab": {
          "base_uri": "https://localhost:8080/"
        },
        "id": "JRWkbS1anp0f",
        "outputId": "843f3c8a-4c69-44fe-a559-ed656b5d44dd"
      },
      "execution_count": null,
      "outputs": [
        {
          "output_type": "execute_result",
          "data": {
            "text/plain": [
              "id                         0\n",
              "diagnosis                  0\n",
              "radius_mean                0\n",
              "texture_mean               0\n",
              "perimeter_mean             0\n",
              "area_mean                  0\n",
              "smoothness_mean            0\n",
              "compactness_mean           0\n",
              "concavity_mean             0\n",
              "concave points_mean        0\n",
              "symmetry_mean              0\n",
              "fractal_dimension_mean     0\n",
              "radius_se                  0\n",
              "texture_se                 0\n",
              "perimeter_se               0\n",
              "area_se                    0\n",
              "smoothness_se              0\n",
              "compactness_se             0\n",
              "concavity_se               0\n",
              "concave points_se          0\n",
              "symmetry_se                0\n",
              "fractal_dimension_se       0\n",
              "radius_worst               0\n",
              "texture_worst              0\n",
              "perimeter_worst            0\n",
              "area_worst                 0\n",
              "smoothness_worst           0\n",
              "compactness_worst          0\n",
              "concavity_worst            0\n",
              "concave points_worst       0\n",
              "symmetry_worst             0\n",
              "fractal_dimension_worst    0\n",
              "dtype: int64"
            ]
          },
          "metadata": {},
          "execution_count": 10
        }
      ]
    },
    {
      "cell_type": "markdown",
      "source": [
        "## Standard Score (Z-Score) Conversion"
      ],
      "metadata": {
        "id": "R9ZSl5UFZNR9"
      }
    },
    {
      "cell_type": "code",
      "source": [
        "# Z-score conversion\n",
        "for column in df.columns:\n",
        "  if(column=='diagnosis' or column=='id'):\n",
        "    continue\n",
        "  mean = np.mean(df[column])\n",
        "  std_dev = np.std(df[column])\n",
        "  df[column] = np.divide(np.subtract(df[column], mean), std_dev)\n",
        "\n",
        "# Separation of features and label\n",
        "X = df.drop(['diagnosis','id'],axis=1).values\n",
        "y = df['diagnosis'].values\n",
        "\n",
        "# Splitting of dataset in training set and test set\n",
        "test_size = 0.33\n",
        "n_samples = X.shape[0]\n",
        "test_idx = np.random.choice(n_samples, int(n_samples * test_size), replace=False) # randomly select test indices\n",
        "train_idx = np.setdiff1d(np.arange(n_samples), test_idx) # use remaining indices for training\n",
        "X_train, X_test = X[train_idx], X[test_idx] # split features into training and test sets\n",
        "y_train, y_test = y[train_idx], y[test_idx] # split labels into training and test sets"
      ],
      "metadata": {
        "id": "Xekgh7GIjkc3"
      },
      "execution_count": null,
      "outputs": []
    },
    {
      "cell_type": "markdown",
      "source": [
        "# Label Encoding and Dataset Splitting"
      ],
      "metadata": {
        "id": "hImpyZU6vk4D"
      }
    },
    {
      "cell_type": "code",
      "source": [
        "# Label encoding of diagnosis\n",
        "df.loc[df['diagnosis'] == 'M', 'diagnosis'] = 0\n",
        "df.loc[df['diagnosis'] == 'B', 'diagnosis'] = 1\n",
        "\n",
        "# Separation of features and label\n",
        "X = df.drop(['diagnosis','id'],axis=1).values\n",
        "y = df['diagnosis'].values\n",
        "\n",
        "# Splitting of dataset in training set and test set\n",
        "test_size = 0.33\n",
        "n_samples = X.shape[0]\n",
        "test_idx = np.random.choice(n_samples, int(n_samples * test_size), replace=False) # randomly select test indices\n",
        "train_idx = np.setdiff1d(np.arange(n_samples), test_idx) # use remaining indices for training\n",
        "X_train, X_test = X[train_idx], X[test_idx] # split features into training and test sets\n",
        "y_train, y_test = y[train_idx], y[test_idx] # split labels into training and test sets"
      ],
      "metadata": {
        "id": "ATCM4RJzpT3c"
      },
      "execution_count": null,
      "outputs": []
    },
    {
      "cell_type": "markdown",
      "source": [
        "# Part A - Perceptron Learning Algorithm"
      ],
      "metadata": {
        "id": "luh2h6_0vTEy"
      }
    },
    {
      "cell_type": "markdown",
      "source": [
        "## Perception class"
      ],
      "metadata": {
        "id": "OsAAkGFvvuOD"
      }
    },
    {
      "cell_type": "code",
      "source": [
        "class Perceptron:\n",
        "    def __init__(self, learning_rate=0.1, max_iter=1000, random_state=None):\n",
        "        self.learning_rate = learning_rate\n",
        "        self.max_iter = max_iter\n",
        "        self.random_state = random_state\n",
        "    \n",
        "    def fit(self, X, y):\n",
        "        # Set random seed\n",
        "        if self.random_state is not None:\n",
        "            random.seed(self.random_state)\n",
        "        \n",
        "        # Initialize weights and bias\n",
        "        self.w = np.array([random.random() for i in range(X.shape[1])])\n",
        "        self.b = random.random()\n",
        "        \n",
        "        # Train the perceptron\n",
        "        for i in range(self.max_iter):\n",
        "            for xi, yi in zip(X, y):\n",
        "                if yi * (np.dot(xi, self.w) + self.b) <= 0:\n",
        "                    self.w += self.learning_rate * yi * xi\n",
        "                    self.b += self.learning_rate * yi\n",
        "    \n",
        "    def predict(self, X):\n",
        "        return np.sign(np.dot(X, self.w) + self.b)"
      ],
      "metadata": {
        "id": "mi9-gFBNmNOp"
      },
      "execution_count": null,
      "outputs": []
    },
    {
      "cell_type": "markdown",
      "source": [
        "## Perceptron Model - PM1"
      ],
      "metadata": {
        "id": "hW0zIOQmv1ZF"
      }
    },
    {
      "cell_type": "markdown",
      "source": [
        "### Model Fitting and Prediction"
      ],
      "metadata": {
        "id": "-buDLW1fxEHr"
      }
    },
    {
      "cell_type": "code",
      "source": [
        "# Define the number of iterations\n",
        "num_iterations = 10\n",
        "\n",
        "# Create an empty array to store the accuracy results\n",
        "acc_results = np.zeros(num_iterations)\n",
        "\n",
        "# Create empty arrays to store precision and recall scores\n",
        "precision_scores = np.zeros(num_iterations)\n",
        "recall_scores = np.zeros(num_iterations)\n",
        "\n",
        "for i in range(num_iterations):\n",
        "    # Separation of features and label\n",
        "    X = df.drop(['diagnosis','id'],axis=1).values\n",
        "    y = df['diagnosis'].values\n",
        "\n",
        "    # Splitting of dataset in training set and test set\n",
        "    test_size = 0.33\n",
        "    n_samples = X.shape[0]\n",
        "    test_idx = np.random.choice(n_samples, int(n_samples * test_size), replace=False) # randomly select test indices\n",
        "    train_idx = np.setdiff1d(np.arange(n_samples), test_idx) # use remaining indices for training\n",
        "    X_train, X_test = X[train_idx], X[test_idx] # split features into training and test sets\n",
        "    y_train, y_test = y[train_idx], y[test_idx] # split labels into training and test sets\n",
        "    \n",
        "    # Create a Perceptron model\n",
        "    pm1 = Perceptron()\n",
        "\n",
        "    # Fit the model to the training data\n",
        "    pm1.fit(X_train, y_train)\n",
        "\n",
        "    # Make predictions on the test data\n",
        "    y_pred = pm1.predict(X_test)\n",
        "    y_pred[y_pred == -1] = 0\n",
        "\n",
        "    # Calculate the accuracy of the model\n",
        "    pm1_acc = np.mean(y_pred == y_test)\n",
        "    acc_results[i] = pm1_acc\n",
        "    print(f\"PM1 accuracy for iteration {i+1}: {pm1_acc}\")\n",
        "\n",
        "    # Calculate the precision and recall scores\n",
        "    true_positives = np.sum((y_test == 1) & (y_pred == 1))\n",
        "    false_positives = np.sum((y_test == 0) & (y_pred == 1))\n",
        "    false_negatives = np.sum((y_test == 1) & (y_pred == 0))\n",
        "\n",
        "    precision_scores[i] = true_positives / (true_positives + false_positives)\n",
        "    recall_scores[i] = true_positives / (true_positives + false_negatives)\n",
        "\n",
        "# Calculate the mean, variance, precision, and recall of the accuracy results\n",
        "mean_acc = np.mean(acc_results)\n",
        "acc_var = np.var(acc_results)\n",
        "mean_precision = np.mean(precision_scores)\n",
        "mean_recall = np.mean(recall_scores)\n",
        "\n",
        "# Print the final results\n",
        "print(f\"Average PM1 accuracy over {num_iterations} iterations: {mean_acc}\")\n",
        "print(f\"Variance of PM1 accuracy over {num_iterations} iterations: {acc_var}\")\n",
        "print(f\"Mean precision score of PM1 over {num_iterations} iterations: {mean_precision}\")\n",
        "print(f\"Mean recall score of PM1 over {num_iterations} iterations: {mean_recall}\")"
      ],
      "metadata": {
        "colab": {
          "base_uri": "https://localhost:8080/"
        },
        "id": "QNkTjtlhqHSJ",
        "outputId": "87f00196-31dd-4975-d2e5-0ed35c160f6c"
      },
      "execution_count": null,
      "outputs": [
        {
          "output_type": "stream",
          "name": "stdout",
          "text": [
            "PM1 accuracy for iteration 1: 0.572972972972973\n",
            "PM1 accuracy for iteration 2: 0.6270270270270271\n",
            "PM1 accuracy for iteration 3: 0.6378378378378379\n",
            "PM1 accuracy for iteration 4: 0.6432432432432432\n",
            "PM1 accuracy for iteration 5: 0.654054054054054\n",
            "PM1 accuracy for iteration 6: 0.5783783783783784\n",
            "PM1 accuracy for iteration 7: 0.5891891891891892\n",
            "PM1 accuracy for iteration 8: 0.6486486486486487\n",
            "PM1 accuracy for iteration 9: 0.654054054054054\n",
            "PM1 accuracy for iteration 10: 0.654054054054054\n",
            "Average PM1 accuracy over 10 iterations: 0.625945945945946\n",
            "Variance of PM1 accuracy over 10 iterations: 0.0009747260774287799\n",
            "Mean precision score of PM1 over 10 iterations: 0.625945945945946\n",
            "Mean recall score of PM1 over 10 iterations: 1.0\n"
          ]
        }
      ]
    },
    {
      "cell_type": "markdown",
      "source": [
        "## Perceptron Model - PM2"
      ],
      "metadata": {
        "id": "2AreGstNv_nc"
      }
    },
    {
      "cell_type": "markdown",
      "source": [
        "### Model Fitting and Prediction"
      ],
      "metadata": {
        "id": "ulJg-zmgxBQb"
      }
    },
    {
      "cell_type": "code",
      "source": [
        "# Define the number of iterations\n",
        "num_iterations = 10\n",
        "\n",
        "# Create an empty array to store the accuracy results\n",
        "acc_results = np.zeros(num_iterations)\n",
        "\n",
        "# Create empty arrays to store precision and recall scores\n",
        "precision_scores = np.zeros(num_iterations)\n",
        "recall_scores = np.zeros(num_iterations)\n",
        "\n",
        "for i in range(num_iterations):\n",
        "    # Separation of features and label\n",
        "    X = df.drop(['diagnosis','id'],axis=1).values\n",
        "    y = df['diagnosis'].values\n",
        "\n",
        "    # Splitting of dataset in training set and test set\n",
        "    test_size = 0.33\n",
        "    n_samples = X.shape[0]\n",
        "    test_idx = np.random.choice(n_samples, int(n_samples * test_size), replace=False) # randomly select test indices\n",
        "    train_idx = np.setdiff1d(np.arange(n_samples), test_idx) # use remaining indices for training\n",
        "    X_train, X_test = X[train_idx], X[test_idx] # split features into training and test sets\n",
        "    y_train, y_test = y[train_idx], y[test_idx] # split labels into training and test sets\n",
        "    \n",
        "    # Create a Perceptron model\n",
        "    pm2 = Perceptron()\n",
        "\n",
        "    # Fit the model to the training data (with reversed order)\n",
        "    pm2.fit(X_train[::-1], y_train[::-1])\n",
        "\n",
        "    # Make predictions on the test data\n",
        "    y_pred = pm2.predict(X_test)\n",
        "    y_pred[y_pred == -1] = 0\n",
        "\n",
        "    # Calculate the accuracy of the model\n",
        "    pm2_acc = np.mean(y_pred == y_test)\n",
        "    acc_results[i] = pm2_acc\n",
        "    print(f\"PM2 accuracy for iteration {i+1}: {pm2_acc}\")\n",
        "\n",
        "    # Calculate the precision and recall scores\n",
        "    true_positives = np.sum((y_test == 1) & (y_pred == 1))\n",
        "    false_positives = np.sum((y_test == 0) & (y_pred == 1))\n",
        "    false_negatives = np.sum((y_test == 1) & (y_pred == 0))\n",
        "\n",
        "    precision_scores[i] = true_positives / (true_positives + false_positives)\n",
        "    recall_scores[i] = true_positives / (true_positives + false_negatives)\n",
        "\n",
        "# Calculate the mean, variance, precision, and recall of the accuracy results\n",
        "mean_acc = np.mean(acc_results)\n",
        "acc_var = np.var(acc_results)\n",
        "mean_precision = np.mean(precision_scores)\n",
        "mean_recall = np.mean(recall_scores)\n",
        "\n",
        "# Print the final results\n",
        "print(f\"Average PM2 accuracy over {num_iterations} iterations: {mean_acc}\")\n",
        "print(f\"Variance of PM2 accuracy over {num_iterations} iterations: {acc_var}\")\n",
        "print(f\"Mean precision score of PM2 over {num_iterations} iterations: {mean_precision}\")\n",
        "print(f\"Mean recall score of PM2 over {num_iterations} iterations: {mean_recall}\")"
      ],
      "metadata": {
        "colab": {
          "base_uri": "https://localhost:8080/"
        },
        "id": "J9K8fDSp1KO9",
        "outputId": "c68b4cf7-6ebb-4489-ac11-3b69bf0a3714"
      },
      "execution_count": null,
      "outputs": [
        {
          "output_type": "stream",
          "name": "stdout",
          "text": [
            "PM2 accuracy for iteration 1: 0.6594594594594595\n",
            "PM2 accuracy for iteration 2: 0.6270270270270271\n",
            "PM2 accuracy for iteration 3: 0.6486486486486487\n",
            "PM2 accuracy for iteration 4: 0.6054054054054054\n",
            "PM2 accuracy for iteration 5: 0.5837837837837838\n",
            "PM2 accuracy for iteration 6: 0.6594594594594595\n",
            "PM2 accuracy for iteration 7: 0.6378378378378379\n",
            "PM2 accuracy for iteration 8: 0.6378378378378379\n",
            "PM2 accuracy for iteration 9: 0.6702702702702703\n",
            "PM2 accuracy for iteration 10: 0.5837837837837838\n",
            "Average PM2 accuracy over 10 iterations: 0.6313513513513513\n",
            "Variance of PM2 accuracy over 10 iterations: 0.0008695398100803508\n",
            "Mean precision score of PM2 over 10 iterations: 0.6313513513513513\n",
            "Mean recall score of PM2 over 10 iterations: 1.0\n"
          ]
        }
      ]
    },
    {
      "cell_type": "markdown",
      "source": [
        "## Perceptron Model - PM3"
      ],
      "metadata": {
        "id": "pf5E0xmfwC2u"
      }
    },
    {
      "cell_type": "markdown",
      "source": [
        "### Model Fitting and Prediction\n"
      ],
      "metadata": {
        "id": "dpQl5cxCwY7Q"
      }
    },
    {
      "cell_type": "code",
      "source": [
        "# Define the number of iterations\n",
        "num_iterations = 10\n",
        "\n",
        "# Create an empty array to store the accuracy results\n",
        "acc_results = np.zeros(num_iterations)\n",
        "\n",
        "# Create empty arrays to store precision and recall scores\n",
        "precision_scores = np.zeros(num_iterations)\n",
        "recall_scores = np.zeros(num_iterations)\n",
        "\n",
        "for i in range(num_iterations):\n",
        "    # Separation of features and label\n",
        "    X = df.drop(['diagnosis','id'],axis=1).values\n",
        "    y = df['diagnosis'].values\n",
        "\n",
        "    # Splitting of dataset in training set and test set\n",
        "    test_size = 0.33\n",
        "    n_samples = X.shape[0]\n",
        "    test_idx = np.random.choice(n_samples, int(n_samples * test_size), replace=False) # randomly select test indices\n",
        "    train_idx = np.setdiff1d(np.arange(n_samples), test_idx) # use remaining indices for training\n",
        "    X_train, X_test = X[train_idx], X[test_idx] # split features into training and test sets\n",
        "    y_train, y_test = y[train_idx], y[test_idx] # split labels into training and test sets\n",
        "    \n",
        "    # Create a Perceptron model\n",
        "    pm3 = Perceptron()\n",
        "\n",
        "    # Fit the model to the training data\n",
        "    pm3.fit(X_train, y_train)\n",
        "\n",
        "    # Make predictions on the test data\n",
        "    y_pred = pm3.predict(X_test)\n",
        "    y_pred[y_pred == -1] = 0\n",
        "\n",
        "    # Calculate the accuracy of the model\n",
        "    pm3_acc = np.mean(y_pred == y_test)\n",
        "    acc_results[i] = pm3_acc\n",
        "    print(f\"PM3 accuracy for iteration {i+1}: {pm3_acc}\")\n",
        "\n",
        "    # Calculate the precision and recall scores\n",
        "    true_positives = np.sum((y_test == 1) & (y_pred == 1))\n",
        "    false_positives = np.sum((y_test == 0) & (y_pred == 1))\n",
        "    false_negatives = np.sum((y_test == 1) & (y_pred == 0))\n",
        "\n",
        "    precision_scores[i] = true_positives / (true_positives + false_positives)\n",
        "    recall_scores[i] = true_positives / (true_positives + false_negatives)\n",
        "\n",
        "# Calculate the mean, variance, precision, and recall of the accuracy results\n",
        "mean_acc = np.mean(acc_results)\n",
        "acc_var = np.var(acc_results)\n",
        "mean_precision = np.mean(precision_scores)\n",
        "mean_recall = np.mean(recall_scores)\n",
        "\n",
        "# Print the final results\n",
        "print(f\"Average PM3 accuracy over {num_iterations} iterations: {mean_acc}\")\n",
        "print(f\"Variance of PM3 accuracy over {num_iterations} iterations: {acc_var}\")\n",
        "print(f\"Mean precision score of PM3 over {num_iterations} iterations: {mean_precision}\")\n",
        "print(f\"Mean recall score of PM3 over {num_iterations} iterations: {mean_recall}\")"
      ],
      "metadata": {
        "colab": {
          "base_uri": "https://localhost:8080/"
        },
        "id": "uvNjsWwc8297",
        "outputId": "b3e5f005-5c73-44f7-9c29-20241a23e27f"
      },
      "execution_count": null,
      "outputs": [
        {
          "output_type": "stream",
          "name": "stdout",
          "text": [
            "PM3 accuracy for iteration 1: 0.8648648648648649\n",
            "PM3 accuracy for iteration 2: 0.7783783783783784\n",
            "PM3 accuracy for iteration 3: 0.7243243243243244\n",
            "PM3 accuracy for iteration 4: 0.745945945945946\n",
            "PM3 accuracy for iteration 5: 0.772972972972973\n",
            "PM3 accuracy for iteration 6: 0.8162162162162162\n",
            "PM3 accuracy for iteration 7: 0.918918918918919\n",
            "PM3 accuracy for iteration 8: 0.9459459459459459\n",
            "PM3 accuracy for iteration 9: 0.7891891891891892\n",
            "PM3 accuracy for iteration 10: 0.8162162162162162\n",
            "Average PM3 accuracy over 10 iterations: 0.8172972972972973\n",
            "Variance of PM3 accuracy over 10 iterations: 0.004714682249817385\n",
            "Mean precision score of PM3 over 10 iterations: 0.7841382135359278\n",
            "Mean recall score of PM3 over 10 iterations: 0.998326330532213\n"
          ]
        }
      ]
    },
    {
      "cell_type": "markdown",
      "source": [
        "## Perceptron Model - PM4"
      ],
      "metadata": {
        "id": "0CbFjMKrwo4c"
      }
    },
    {
      "cell_type": "markdown",
      "source": [
        "### Randomisation of Features"
      ],
      "metadata": {
        "id": "3apcAdkMwxf6"
      }
    },
    {
      "cell_type": "code",
      "source": [
        "# Randomize the order of the features\n",
        "cols = list(df.columns)\n",
        "np.random.shuffle(cols)\n",
        "\n",
        "# use the shuffled list of column names to reorder the DataFrame\n",
        "df = df[cols]\n",
        "X = df.drop(['diagnosis','id'],axis=1).values\n",
        "y = df['diagnosis'].values\n",
        "\n",
        "# Splitting of dataset in training set and test set\n",
        "test_size = 0.33\n",
        "n_samples = X.shape[0]\n",
        "test_idx = np.random.choice(n_samples, int(n_samples * test_size), replace=False) # randomly select test indices\n",
        "train_idx = np.setdiff1d(np.arange(n_samples), test_idx) # use remaining indices for training\n",
        "X_train, X_test = X[train_idx], X[test_idx] # split features into training and test sets\n",
        "y_train, y_test = y[train_idx], y[test_idx] # split labels into training and test sets"
      ],
      "metadata": {
        "id": "AzSQ3LIDE0Un"
      },
      "execution_count": null,
      "outputs": []
    },
    {
      "cell_type": "markdown",
      "source": [
        "### Model Fitting and Prediction"
      ],
      "metadata": {
        "id": "tDJOZ0IZw1eY"
      }
    },
    {
      "cell_type": "code",
      "source": [
        "y[test_idx] # split labels into training and test sets\n",
        "    # Define the number of iterations\n",
        "num_iterations = 10\n",
        "\n",
        "# Create an empty array to store the accuracy results\n",
        "acc_results = np.zeros(num_iterations)\n",
        "\n",
        "# Create empty arrays to store precision and recall scores\n",
        "precision_scores = np.zeros(num_iterations)\n",
        "recall_scores = np.zeros(num_iterations)\n",
        "\n",
        "for i in range(num_iterations):\n",
        "    # Separation of features and label\n",
        "    X = df.drop(['diagnosis','id'],axis=1).values\n",
        "    y = df['diagnosis'].values\n",
        "\n",
        "    # Splitting of dataset in training set and test set\n",
        "    test_size = 0.33\n",
        "    n_samples = X.shape[0]\n",
        "    test_idx = np.random.choice(n_samples, int(n_samples * test_size), replace=False) # randomly select test indices\n",
        "    train_idx = np.setdiff1d(np.arange(n_samples), test_idx) # use remaining indices for training\n",
        "    X_train, X_test = X[train_idx], X[test_idx] # split features into training and test sets\n",
        "    y_train, y_test = y[train_idx], \n",
        "    # Create a Perceptron model\n",
        "    pm4 = Perceptron()\n",
        "\n",
        "    # Fit the model to the training data\n",
        "    pm4.fit(X_train, y_train)\n",
        "\n",
        "    # Make predictions on the test data\n",
        "    y_pred = pm4.predict(X_test)\n",
        "    y_pred[y_pred == -1] = 0\n",
        "\n",
        "    # Calculate the accuracy of the model\n",
        "    pm4_acc = np.mean(y_pred == y_test)\n",
        "    acc_results[i] = pm4_acc\n",
        "    print(f\"PM4 accuracy for iteration {i+1}: {pm4_acc}\")\n",
        "\n",
        "    # Calculate the precision and recall scores\n",
        "    true_positives = np.sum((y_test == 1) & (y_pred == 1))\n",
        "    false_positives = np.sum((y_test == 0) & (y_pred == 1))\n",
        "    false_negatives = np.sum((y_test == 1) & (y_pred == 0))\n",
        "\n",
        "    precision_scores[i] = true_positives / (true_positives + false_positives)\n",
        "    recall_scores[i] = true_positives / (true_positives + false_negatives)\n",
        "\n",
        "# Calculate the mean, variance, precision, and recall of the accuracy results\n",
        "mean_acc = np.mean(acc_results)\n",
        "acc_var = np.var(acc_results)\n",
        "mean_precision = np.mean(precision_scores)\n",
        "mean_recall = np.mean(recall_scores)\n",
        "\n",
        "# Print the final results\n",
        "print(f\"Average PM4 accuracy over {num_iterations} iterations: {mean_acc}\")\n",
        "print(f\"Variance of PM4 accuracy over {num_iterations} iterations: {acc_var}\")\n",
        "print(f\"Mean precision score of PM4 over {num_iterations} iterations: {mean_precision}\")\n",
        "print(f\"Mean recall score of PM4 over {num_iterations} iterations: {mean_recall}\")"
      ],
      "metadata": {
        "colab": {
          "base_uri": "https://localhost:8080/"
        },
        "outputId": "ddaafb2c-6574-41a9-eec1-49b4009c1ad7",
        "id": "i8n5a_c7Vrn9"
      },
      "execution_count": null,
      "outputs": [
        {
          "output_type": "stream",
          "name": "stdout",
          "text": [
            "PM4 accuracy for iteration 1: 0.7647058823529411\n",
            "PM4 accuracy for iteration 2: 0.9037433155080213\n",
            "PM4 accuracy for iteration 3: 0.8181818181818182\n",
            "PM4 accuracy for iteration 4: 0.8181818181818182\n",
            "PM4 accuracy for iteration 5: 0.8074866310160428\n",
            "PM4 accuracy for iteration 6: 0.786096256684492\n",
            "PM4 accuracy for iteration 7: 0.839572192513369\n",
            "PM4 accuracy for iteration 8: 0.7914438502673797\n",
            "PM4 accuracy for iteration 9: 0.8609625668449198\n",
            "PM4 accuracy for iteration 10: 0.8235294117647058\n",
            "Average PM4 accuracy over 10 iterations: 0.8213903743315509\n",
            "Variance of PM4 accuracy over 10 iterations: 0.001425262375246646\n",
            "Mean precision score of PM4 over 10 iterations: 0.7778004337426032\n",
            "Mean recall score of PM4 over 10 iterations: 0.995582298136646\n"
          ]
        }
      ]
    },
    {
      "cell_type": "markdown",
      "source": [
        "# Part B – Fisher’s Linear Discriminant Analysis"
      ],
      "metadata": {
        "id": "Hz4JGaOJyjsU"
      }
    },
    {
      "cell_type": "markdown",
      "source": [
        "## Fisher’s linear discriminant model (FLDM1)"
      ],
      "metadata": {
        "id": "wmimnZDX14IP"
      }
    },
    {
      "cell_type": "code",
      "source": [
        "# Compute class means and scatter matrices of Negative and Positive classes\n",
        "mean1 = np.mean(X_train[y_train==0], axis=0)\n",
        "mean2 = np.mean(X_train[y_train==1], axis=0)\n",
        "\n",
        "# Variance of Negative and Positive classes\n",
        "S1 = (X_train[y_train==0] - mean1).T.dot(X_train[y_train==0] - mean1)\n",
        "S2 = (X_train[y_train==1] - mean2).T.dot(X_train[y_train==1] - mean2)\n",
        "Sw = S1 + S2 \n",
        "Sb = np.outer(mean2 - mean1, mean2 - mean1) \n",
        "\n",
        "# Compute eigenvectors and eigenvalues of Sw^-1*Sb\n",
        "A = np.linalg.inv(Sw).dot(Sb)\n",
        "eigenvalues, eigenvectors = np.linalg.eig(A)\n",
        "eigenvectors = eigenvectors[:, np.argsort(eigenvalues)[::-1]]\n",
        "w = eigenvectors[:, 0:2]\n",
        "\n",
        "# Project data onto 2D using w\n",
        "X_lda = X_test.dot(w)\n",
        "\n",
        "# Compute decision boundary\n",
        "threshold1 = (mean1.dot(w[:, 0]) + mean2.dot(w[:, 0])) / 2\n",
        "\n",
        "# Plot data points and decision boundary\n",
        "fig, ax = plt.subplots()\n",
        "ax.scatter(X_lda[y_test==0, 0], X_lda[y_test==0, 1], label='Negative Class', alpha=0.5)\n",
        "ax.scatter(X_lda[y_test==1, 0], X_lda[y_test==1, 1], label='Positive Class', alpha=0.5)\n",
        "ax.plot([threshold1, threshold1], [np.min(X_lda[:, 1]), np.max(X_lda[:, 1])], color='k', linestyle='--', label='Boundary')\n",
        "ax.set_xlabel('LD1')\n",
        "ax.set_ylabel('LD2')\n",
        "ax.set_title('Linear Discriminant Analysis')\n",
        "ax.legend()\n",
        "plt.show()"
      ],
      "metadata": {
        "colab": {
          "base_uri": "https://localhost:8080/",
          "height": 295
        },
        "id": "0l4PY3oxEf0C",
        "outputId": "ef546c85-f1d2-467b-ccc6-4ec2209a1cae"
      },
      "execution_count": null,
      "outputs": [
        {
          "output_type": "display_data",
          "data": {
            "text/plain": [
              "<Figure size 432x288 with 1 Axes>"
            ],
            "image/png": "[encoded data removed]"
          },
          "metadata": {
            "needs_background": "light"
          }
        }
      ]
    },
    {
      "cell_type": "markdown",
      "source": [
        "## Fisher’s linear discriminant model (FLDM2)"
      ],
      "metadata": {
        "id": "BbhwKBTj2F9f"
      }
    },
    {
      "cell_type": "code",
      "source": [
        "# Randomize the order of the features\n",
        "cols = list(df.columns)\n",
        "np.random.shuffle(cols)\n",
        "\n",
        "# use the shuffled list of column names to reorder the DataFrame\n",
        "df = df[cols]\n",
        "X = df.drop(['diagnosis','id'],axis=1).values\n",
        "y = df['diagnosis'].values\n",
        "\n",
        "# Splitting of dataset in training set and test set\n",
        "test_size = 0.33\n",
        "n_samples = X.shape[0]\n",
        "test_idx = np.random.choice(n_samples, int(n_samples * test_size), replace=False) # randomly select test indices\n",
        "train_idx = np.setdiff1d(np.arange(n_samples), test_idx) # use remaining indices for training\n",
        "X_train, X_test = X[train_idx], X[test_idx] # split features into training and test sets\n",
        "y_train, y_test = y[train_idx], y[test_idx] # split labels into training and test sets\n",
        "\n",
        "# Randomize the order of the features\n",
        "train_X_permuted = np.random.permutation(X_train)\n",
        "test_X_permuted = np.random.permutation(X_test)\n",
        "\n",
        "# Compute class means and scatter matrices\n",
        "mean1 = np.mean(X_train[y_train==0], axis=0)\n",
        "mean2 = np.mean(X_train[y_train==1], axis=0)\n",
        "\n",
        "S1 = (train_X_permuted[y_train==0] - mean1).T.dot(train_X_permuted[y_train==0] - mean1)\n",
        "S2 = (train_X_permuted[y_train==1] - mean2).T.dot(train_X_permuted[y_train==1] - mean2)\n",
        "Sw = S1 + S2\n",
        "Sb = np.outer(mean2 - mean1, mean2 - mean1) \n",
        "\n",
        "# Compute eigenvectors and eigenvalues of Sw^-1*Sb\n",
        "A = np.linalg.inv(Sw).dot(Sb)\n",
        "eigenvalues, eigenvectors = np.linalg.eig(A)\n",
        "eigenvectors = eigenvectors[:, np.argsort(eigenvalues)[::-1]]\n",
        "w = eigenvectors[:, 0:2]\n",
        "\n",
        "# Project data onto 2D using w\n",
        "X_lda = test_X_permuted.dot(w)\n",
        "\n",
        "# Compute decision boundary\n",
        "threshold1 = (mean1.dot(w[:, 0]) + mean2.dot(w[:, 0])) / 2\n",
        "\n",
        "# Plot data points and decision boundary\n",
        "fig, ax = plt.subplots()\n",
        "ax.scatter(X_lda[y_test==0, 0], X_lda[y_test==0, 1], label='Negative Class', alpha=0.5)\n",
        "ax.scatter(X_lda[y_test==1, 0], X_lda[y_test==1, 1], label='Positive Class', alpha=0.5)\n",
        "ax.plot([threshold1, threshold1], [np.min(X_lda[:, 1]), np.max(X_lda[:, 1])], color='k', linestyle='--', label='Boundary')\n",
        "ax.set_xlabel('LD1')\n",
        "ax.set_ylabel('LD2')\n",
        "ax.set_title('Linear Discriminant Analysis')\n",
        "ax.legend()\n",
        "plt.show()"
      ],
      "metadata": {
        "colab": {
          "base_uri": "https://localhost:8080/",
          "height": 386
        },
        "id": "D8Bx8Lll05gH",
        "outputId": "8fce95c1-2437-43f5-91b1-99f8c4a48481"
      },
      "execution_count": null,
      "outputs": [
        {
          "output_type": "stream",
          "name": "stderr",
          "text": [
            "/usr/local/lib/python3.9/dist-packages/matplotlib/collections.py:192: ComplexWarning: Casting complex values to real discards the imaginary part\n",
            "  offsets = np.asanyarray(offsets, float)\n",
            "/usr/local/lib/python3.9/dist-packages/matplotlib/cbook/__init__.py:1335: ComplexWarning: Casting complex values to real discards the imaginary part\n",
            "  return np.asarray(x, float)\n"
          ]
        },
        {
          "output_type": "display_data",
          "data": {
            "text/plain": [
              "<Figure size 432x288 with 1 Axes>"
            ],
            "image/png": "[encoded data removed]"
          },
          "metadata": {
            "needs_background": "light"
          }
        }
      ]
    },
    {
      "cell_type": "markdown",
      "source": [
        "# Part C – Logistic Regression"
      ],
      "metadata": {
        "id": "5nzcXNx23D61"
      }
    },
    {
      "cell_type": "markdown",
      "source": [
        "## Logistic Regression Class"
      ],
      "metadata": {
        "id": "QoyQYYXlcFcT"
      }
    },
    {
      "cell_type": "code",
      "source": [
        "class LogisticRegression:\n",
        "    def __init__(self, alpha=0.01, iterations=1000, batch_size=32):\n",
        "        self.alpha = alpha\n",
        "        self.iterations = iterations\n",
        "        self.batch_size = batch_size\n",
        "        \n",
        "    def sigmoid(self, z):\n",
        "        return 1 / (1 + np.exp(-z))\n",
        "\n",
        "    def cost_function(self, X, y, theta):\n",
        "        m = len(y)\n",
        "        h = self.sigmoid(X.dot(theta))\n",
        "        J = (-1/m) * (y.T.dot(np.log(h)) + (1-y).T.dot(np.log(1-h)))\n",
        "        return J\n",
        "\n",
        "    def batch_gradient_descent(self, X, y):\n",
        "        m, n = X.shape\n",
        "        theta = np.zeros(n)\n",
        "        cost_history = []\n",
        "        for i in range(self.iterations):\n",
        "            for j in range(0, m, self.batch_size):\n",
        "                X_batch = X[j:j+self.batch_size]\n",
        "                y_batch = y[j:j+self.batch_size]\n",
        "                h = self.sigmoid(X_batch.dot(theta))\n",
        "                theta = theta - self.alpha * (1/self.batch_size) * X_batch.T.dot(h-y_batch)\n",
        "                cost_history.append(self.cost_function(X_batch, y_batch, theta))\n",
        "        return theta, cost_history\n",
        "\n",
        "    def mini_batch_gradient_descent(self, X, y):\n",
        "        m, n = X.shape\n",
        "        theta = np.zeros(n)\n",
        "        cost_history = []\n",
        "        for i in range(self.iterations):\n",
        "            permutation = np.random.permutation(m)\n",
        "            X_permuted = X[permutation]\n",
        "            y_permuted = y[permutation]\n",
        "            for j in range(0, m, self.batch_size):\n",
        "                X_batch = X_permuted[j:j+self.batch_size]\n",
        "                y_batch = y_permuted[j:j+self.batch_size]\n",
        "                h = self.sigmoid(X_batch.dot(theta))\n",
        "                theta = theta - self.alpha * (1/self.batch_size) * X_batch.T.dot(h-y_batch)\n",
        "                cost_history.append(self.cost_function(X_batch, y_batch, theta))\n",
        "        return theta, cost_history\n",
        "\n",
        "    def stochastic_gradient_descent(self, X, y):\n",
        "        m, n = X.shape\n",
        "        theta = np.zeros(n)\n",
        "        cost_history = []\n",
        "        for i in range(self.iterations):\n",
        "            permutation = np.random.permutation(m)\n",
        "            X_permuted = X[permutation]\n",
        "            y_permuted = y[permutation]\n",
        "            for j in range(m):\n",
        "                x_j = X_permuted[j:]\n",
        "                y_j = y_permuted[j:]\n",
        "                h = self.sigmoid(x_j.dot(theta))\n",
        "                theta = theta - self.alpha * (1/m) * x_j.T.dot(h-y_j)\n",
        "                cost_history.append(self.cost_function(x_j, y_j, theta))\n",
        "        return theta, cost_history\n",
        "\n",
        "    def predict(self, X, theta, threshold=0.5):\n",
        "        h = self.sigmoid(X.dot(theta))\n",
        "        return (h >= threshold).astype(int)"
      ],
      "metadata": {
        "id": "7jk-VCBIb17k"
      },
      "execution_count": null,
      "outputs": []
    },
    {
      "cell_type": "markdown",
      "source": [
        "## Bias Term Addition"
      ],
      "metadata": {
        "id": "eBhtqJtccBqY"
      }
    },
    {
      "cell_type": "code",
      "source": [
        "X = np.column_stack((np.ones(len(X)), X))\n",
        "\n",
        "# Splitting of dataset in training set and test set\n",
        "test_size = 0.33\n",
        "n_samples = X.shape[0]\n",
        "test_idx = np.random.choice(n_samples, int(n_samples * test_size), replace=False) # randomly select test indices\n",
        "train_idx = np.setdiff1d(np.arange(n_samples), test_idx) # use remaining indices for training\n",
        "X_train, X_test = X[train_idx], X[test_idx] # split features into training and test sets\n",
        "y_train, y_test = y[train_idx], y[test_idx] # split labels into training and test sets"
      ],
      "metadata": {
        "id": "FtyxoGbU1SZc"
      },
      "execution_count": null,
      "outputs": []
    },
    {
      "cell_type": "markdown",
      "source": [
        "## LR1"
      ],
      "metadata": {
        "id": "0XPx4JjGcMJa"
      }
    },
    {
      "cell_type": "markdown",
      "source": [
        "### Batch Gradient Descent With Different Learning Rates (Alpha)"
      ],
      "metadata": {
        "id": "Pm1TzdcYRQ6W"
      }
    },
    {
      "cell_type": "code",
      "source": [
        "accuracies = np.zeros((10, 5))\n",
        "precisions = np.zeros((10, 5))\n",
        "recalls = np.zeros((10, 5))\n",
        "\n",
        "for i in range(10):\n",
        "    lr1 = LogisticRegression(alpha=0.01)\n",
        "    theta1, cost_history1 = lr1.batch_gradient_descent(X.astype(float), y.astype(float))\n",
        "    thresholds = [0.5, 0.3, 0.4, 0.6, 0.7]\n",
        "    for j, threshold in enumerate(thresholds):\n",
        "        y_pred = lr1.predict(X, theta1, threshold=threshold)\n",
        "        accuracy = np.mean(y_pred == y)\n",
        "        precision = np.sum((y_pred == 1) & (y == 1)) / np.sum(y_pred == 1)\n",
        "        recall = np.sum((y_pred == 1) & (y == 1)) / np.sum(y == 1)\n",
        "        accuracies[i, j] = accuracy\n",
        "        precisions[i, j] = precision\n",
        "        recalls[i, j] = recall\n",
        "        print(f\"Iteration {i+1}, LR1 with threshold {threshold}: Accuracy = {accuracy:.3f}, Precision = {precision:.3f}, Recall = {recall:.3f}\")\n",
        "\n",
        "print(f\"Average accuracy for 0.5, 0.3, 0.4, 0.6, 0.7 threshold: {np.mean(accuracies, axis=0)}\")\n",
        "print(f\"Average precision for 0.5, 0.3, 0.4, 0.6, 0.7 threshold: {np.mean(precisions, axis=0)}\")\n",
        "print(f\"Average recall for 0.5, 0.3, 0.4, 0.6, 0.7 threshold: {np.mean(recalls, axis=0)}\")"
      ],
      "metadata": {
        "colab": {
          "base_uri": "https://localhost:8080/"
        },
        "id": "Q6UZpcZRb5Hj",
        "outputId": "9087a418-8588-4c22-99e9-ccc0d3cb5cce"
      },
      "execution_count": null,
      "outputs": [
        {
          "output_type": "stream",
          "name": "stderr",
          "text": [
            "<ipython-input-5-7bdc6e4aa47a>:8: RuntimeWarning: overflow encountered in exp\n",
            "  return 1 / (1 + np.exp(-z))\n",
            "<ipython-input-5-7bdc6e4aa47a>:13: RuntimeWarning: divide by zero encountered in log\n",
            "  J = (-1/m) * (y.T.dot(np.log(h)) + (1-y).T.dot(np.log(1-h)))\n"
          ]
        },
        {
          "output_type": "stream",
          "name": "stdout",
          "text": [
            "Iteration 1, LR1 with threshold 0.5: Accuracy = 0.929, Precision = 0.917, Recall = 0.974\n",
            "Iteration 1, LR1 with threshold 0.3: Accuracy = 0.929, Precision = 0.917, Recall = 0.974\n",
            "Iteration 1, LR1 with threshold 0.4: Accuracy = 0.929, Precision = 0.917, Recall = 0.974\n",
            "Iteration 1, LR1 with threshold 0.6: Accuracy = 0.929, Precision = 0.917, Recall = 0.974\n",
            "Iteration 1, LR1 with threshold 0.7: Accuracy = 0.929, Precision = 0.917, Recall = 0.974\n",
            "Iteration 2, LR1 with threshold 0.5: Accuracy = 0.929, Precision = 0.917, Recall = 0.974\n",
            "Iteration 2, LR1 with threshold 0.3: Accuracy = 0.929, Precision = 0.917, Recall = 0.974\n",
            "Iteration 2, LR1 with threshold 0.4: Accuracy = 0.929, Precision = 0.917, Recall = 0.974\n",
            "Iteration 2, LR1 with threshold 0.6: Accuracy = 0.929, Precision = 0.917, Recall = 0.974\n",
            "Iteration 2, LR1 with threshold 0.7: Accuracy = 0.929, Precision = 0.917, Recall = 0.974\n",
            "Iteration 3, LR1 with threshold 0.5: Accuracy = 0.929, Precision = 0.917, Recall = 0.974\n",
            "Iteration 3, LR1 with threshold 0.3: Accuracy = 0.929, Precision = 0.917, Recall = 0.974\n",
            "Iteration 3, LR1 with threshold 0.4: Accuracy = 0.929, Precision = 0.917, Recall = 0.974\n",
            "Iteration 3, LR1 with threshold 0.6: Accuracy = 0.929, Precision = 0.917, Recall = 0.974\n",
            "Iteration 3, LR1 with threshold 0.7: Accuracy = 0.929, Precision = 0.917, Recall = 0.974\n",
            "Iteration 4, LR1 with threshold 0.5: Accuracy = 0.929, Precision = 0.917, Recall = 0.974\n",
            "Iteration 4, LR1 with threshold 0.3: Accuracy = 0.929, Precision = 0.917, Recall = 0.974\n",
            "Iteration 4, LR1 with threshold 0.4: Accuracy = 0.929, Precision = 0.917, Recall = 0.974\n",
            "Iteration 4, LR1 with threshold 0.6: Accuracy = 0.929, Precision = 0.917, Recall = 0.974\n",
            "Iteration 4, LR1 with threshold 0.7: Accuracy = 0.929, Precision = 0.917, Recall = 0.974\n",
            "Iteration 5, LR1 with threshold 0.5: Accuracy = 0.929, Precision = 0.917, Recall = 0.974\n",
            "Iteration 5, LR1 with threshold 0.3: Accuracy = 0.929, Precision = 0.917, Recall = 0.974\n",
            "Iteration 5, LR1 with threshold 0.4: Accuracy = 0.929, Precision = 0.917, Recall = 0.974\n",
            "Iteration 5, LR1 with threshold 0.6: Accuracy = 0.929, Precision = 0.917, Recall = 0.974\n",
            "Iteration 5, LR1 with threshold 0.7: Accuracy = 0.929, Precision = 0.917, Recall = 0.974\n",
            "Iteration 6, LR1 with threshold 0.5: Accuracy = 0.929, Precision = 0.917, Recall = 0.974\n",
            "Iteration 6, LR1 with threshold 0.3: Accuracy = 0.929, Precision = 0.917, Recall = 0.974\n",
            "Iteration 6, LR1 with threshold 0.4: Accuracy = 0.929, Precision = 0.917, Recall = 0.974\n",
            "Iteration 6, LR1 with threshold 0.6: Accuracy = 0.929, Precision = 0.917, Recall = 0.974\n",
            "Iteration 6, LR1 with threshold 0.7: Accuracy = 0.929, Precision = 0.917, Recall = 0.974\n",
            "Iteration 7, LR1 with threshold 0.5: Accuracy = 0.929, Precision = 0.917, Recall = 0.974\n",
            "Iteration 7, LR1 with threshold 0.3: Accuracy = 0.929, Precision = 0.917, Recall = 0.974\n",
            "Iteration 7, LR1 with threshold 0.4: Accuracy = 0.929, Precision = 0.917, Recall = 0.974\n",
            "Iteration 7, LR1 with threshold 0.6: Accuracy = 0.929, Precision = 0.917, Recall = 0.974\n",
            "Iteration 7, LR1 with threshold 0.7: Accuracy = 0.929, Precision = 0.917, Recall = 0.974\n",
            "Iteration 8, LR1 with threshold 0.5: Accuracy = 0.929, Precision = 0.917, Recall = 0.974\n",
            "Iteration 8, LR1 with threshold 0.3: Accuracy = 0.929, Precision = 0.917, Recall = 0.974\n",
            "Iteration 8, LR1 with threshold 0.4: Accuracy = 0.929, Precision = 0.917, Recall = 0.974\n",
            "Iteration 8, LR1 with threshold 0.6: Accuracy = 0.929, Precision = 0.917, Recall = 0.974\n",
            "Iteration 8, LR1 with threshold 0.7: Accuracy = 0.929, Precision = 0.917, Recall = 0.974\n",
            "Iteration 9, LR1 with threshold 0.5: Accuracy = 0.929, Precision = 0.917, Recall = 0.974\n",
            "Iteration 9, LR1 with threshold 0.3: Accuracy = 0.929, Precision = 0.917, Recall = 0.974\n",
            "Iteration 9, LR1 with threshold 0.4: Accuracy = 0.929, Precision = 0.917, Recall = 0.974\n",
            "Iteration 9, LR1 with threshold 0.6: Accuracy = 0.929, Precision = 0.917, Recall = 0.974\n",
            "Iteration 9, LR1 with threshold 0.7: Accuracy = 0.929, Precision = 0.917, Recall = 0.974\n",
            "Iteration 10, LR1 with threshold 0.5: Accuracy = 0.929, Precision = 0.917, Recall = 0.974\n",
            "Iteration 10, LR1 with threshold 0.3: Accuracy = 0.929, Precision = 0.917, Recall = 0.974\n",
            "Iteration 10, LR1 with threshold 0.4: Accuracy = 0.929, Precision = 0.917, Recall = 0.974\n",
            "Iteration 10, LR1 with threshold 0.6: Accuracy = 0.929, Precision = 0.917, Recall = 0.974\n",
            "Iteration 10, LR1 with threshold 0.7: Accuracy = 0.929, Precision = 0.917, Recall = 0.974\n",
            "Average accuracy for 0.5, 0.3, 0.4, 0.6, 0.7 threshold: [0.92895204 0.92895204 0.92895204 0.92895204 0.92895204]\n",
            "Average precision for 0.5, 0.3, 0.4, 0.6, 0.7 threshold: [0.9171123 0.9171123 0.9171123 0.9171123 0.9171123]\n",
            "Average recall for 0.5, 0.3, 0.4, 0.6, 0.7 threshold: [0.97443182 0.97443182 0.97443182 0.97443182 0.97443182]\n"
          ]
        }
      ]
    },
    {
      "cell_type": "code",
      "source": [
        "accuracies = np.zeros((10, 5))\n",
        "precisions = np.zeros((10, 5))\n",
        "recalls = np.zeros((10, 5))\n",
        "\n",
        "for i in range(10):\n",
        "    lr1 = LogisticRegression(alpha=0.001)\n",
        "    theta1, cost_history1 = lr1.batch_gradient_descent(X.astype(float), y.astype(float))\n",
        "    thresholds = [0.5, 0.3, 0.4, 0.6, 0.7]\n",
        "    for j, threshold in enumerate(thresholds):\n",
        "        y_pred = lr1.predict(X, theta1, threshold=threshold)\n",
        "        accuracy = np.mean(y_pred == y)\n",
        "        precision = np.sum((y_pred == 1) & (y == 1)) / np.sum(y_pred == 1)\n",
        "        recall = np.sum((y_pred == 1) & (y == 1)) / np.sum(y == 1)\n",
        "        accuracies[i, j] = accuracy\n",
        "        precisions[i, j] = precision\n",
        "        recalls[i, j] = recall\n",
        "        print(f\"Iteration {i+1}, LR1 with threshold {threshold}: Accuracy = {accuracy:.3f}, Precision = {precision:.3f}, Recall = {recall:.3f}\")\n",
        "    \n",
        "print(f\"Average accuracy for 0.5, 0.3, 0.4, 0.6, 0.7 threshold: {np.mean(accuracies, axis=0)}\")\n",
        "print(f\"Average precision for 0.5, 0.3, 0.4, 0.6, 0.7 threshold: {np.mean(precisions, axis=0)}\")\n",
        "print(f\"Average recall for 0.5, 0.3, 0.4, 0.6, 0.7 threshold: {np.mean(recalls, axis=0)}\")"
      ],
      "metadata": {
        "id": "ZnuYjvJk_Nr1",
        "colab": {
          "base_uri": "https://localhost:8080/"
        },
        "outputId": "ecbb306d-cffb-440d-9390-ee90c989c5f5"
      },
      "execution_count": null,
      "outputs": [
        {
          "output_type": "stream",
          "name": "stderr",
          "text": [
            "<ipython-input-5-7bdc6e4aa47a>:8: RuntimeWarning: overflow encountered in exp\n",
            "  return 1 / (1 + np.exp(-z))\n",
            "<ipython-input-5-7bdc6e4aa47a>:13: RuntimeWarning: divide by zero encountered in log\n",
            "  J = (-1/m) * (y.T.dot(np.log(h)) + (1-y).T.dot(np.log(1-h)))\n"
          ]
        },
        {
          "output_type": "stream",
          "name": "stdout",
          "text": [
            "Iteration 1, LR1 with threshold 0.5: Accuracy = 0.931, Precision = 0.915, Recall = 0.980\n",
            "Iteration 1, LR1 with threshold 0.3: Accuracy = 0.929, Precision = 0.913, Recall = 0.980\n",
            "Iteration 1, LR1 with threshold 0.4: Accuracy = 0.931, Precision = 0.915, Recall = 0.980\n",
            "Iteration 1, LR1 with threshold 0.6: Accuracy = 0.933, Precision = 0.918, Recall = 0.980\n",
            "Iteration 1, LR1 with threshold 0.7: Accuracy = 0.933, Precision = 0.918, Recall = 0.980\n",
            "Iteration 2, LR1 with threshold 0.5: Accuracy = 0.931, Precision = 0.915, Recall = 0.980\n",
            "Iteration 2, LR1 with threshold 0.3: Accuracy = 0.929, Precision = 0.913, Recall = 0.980\n",
            "Iteration 2, LR1 with threshold 0.4: Accuracy = 0.931, Precision = 0.915, Recall = 0.980\n",
            "Iteration 2, LR1 with threshold 0.6: Accuracy = 0.933, Precision = 0.918, Recall = 0.980\n",
            "Iteration 2, LR1 with threshold 0.7: Accuracy = 0.933, Precision = 0.918, Recall = 0.980\n",
            "Iteration 3, LR1 with threshold 0.5: Accuracy = 0.931, Precision = 0.915, Recall = 0.980\n",
            "Iteration 3, LR1 with threshold 0.3: Accuracy = 0.929, Precision = 0.913, Recall = 0.980\n",
            "Iteration 3, LR1 with threshold 0.4: Accuracy = 0.931, Precision = 0.915, Recall = 0.980\n",
            "Iteration 3, LR1 with threshold 0.6: Accuracy = 0.933, Precision = 0.918, Recall = 0.980\n",
            "Iteration 3, LR1 with threshold 0.7: Accuracy = 0.933, Precision = 0.918, Recall = 0.980\n",
            "Iteration 4, LR1 with threshold 0.5: Accuracy = 0.931, Precision = 0.915, Recall = 0.980\n",
            "Iteration 4, LR1 with threshold 0.3: Accuracy = 0.929, Precision = 0.913, Recall = 0.980\n",
            "Iteration 4, LR1 with threshold 0.4: Accuracy = 0.931, Precision = 0.915, Recall = 0.980\n",
            "Iteration 4, LR1 with threshold 0.6: Accuracy = 0.933, Precision = 0.918, Recall = 0.980\n",
            "Iteration 4, LR1 with threshold 0.7: Accuracy = 0.933, Precision = 0.918, Recall = 0.980\n",
            "Iteration 5, LR1 with threshold 0.5: Accuracy = 0.931, Precision = 0.915, Recall = 0.980\n",
            "Iteration 5, LR1 with threshold 0.3: Accuracy = 0.929, Precision = 0.913, Recall = 0.980\n",
            "Iteration 5, LR1 with threshold 0.4: Accuracy = 0.931, Precision = 0.915, Recall = 0.980\n",
            "Iteration 5, LR1 with threshold 0.6: Accuracy = 0.933, Precision = 0.918, Recall = 0.980\n",
            "Iteration 5, LR1 with threshold 0.7: Accuracy = 0.933, Precision = 0.918, Recall = 0.980\n",
            "Iteration 6, LR1 with threshold 0.5: Accuracy = 0.931, Precision = 0.915, Recall = 0.980\n",
            "Iteration 6, LR1 with threshold 0.3: Accuracy = 0.929, Precision = 0.913, Recall = 0.980\n",
            "Iteration 6, LR1 with threshold 0.4: Accuracy = 0.931, Precision = 0.915, Recall = 0.980\n",
            "Iteration 6, LR1 with threshold 0.6: Accuracy = 0.933, Precision = 0.918, Recall = 0.980\n",
            "Iteration 6, LR1 with threshold 0.7: Accuracy = 0.933, Precision = 0.918, Recall = 0.980\n",
            "Iteration 7, LR1 with threshold 0.5: Accuracy = 0.931, Precision = 0.915, Recall = 0.980\n",
            "Iteration 7, LR1 with threshold 0.3: Accuracy = 0.929, Precision = 0.913, Recall = 0.980\n",
            "Iteration 7, LR1 with threshold 0.4: Accuracy = 0.931, Precision = 0.915, Recall = 0.980\n",
            "Iteration 7, LR1 with threshold 0.6: Accuracy = 0.933, Precision = 0.918, Recall = 0.980\n",
            "Iteration 7, LR1 with threshold 0.7: Accuracy = 0.933, Precision = 0.918, Recall = 0.980\n",
            "Iteration 8, LR1 with threshold 0.5: Accuracy = 0.931, Precision = 0.915, Recall = 0.980\n",
            "Iteration 8, LR1 with threshold 0.3: Accuracy = 0.929, Precision = 0.913, Recall = 0.980\n",
            "Iteration 8, LR1 with threshold 0.4: Accuracy = 0.931, Precision = 0.915, Recall = 0.980\n",
            "Iteration 8, LR1 with threshold 0.6: Accuracy = 0.933, Precision = 0.918, Recall = 0.980\n",
            "Iteration 8, LR1 with threshold 0.7: Accuracy = 0.933, Precision = 0.918, Recall = 0.980\n",
            "Iteration 9, LR1 with threshold 0.5: Accuracy = 0.931, Precision = 0.915, Recall = 0.980\n",
            "Iteration 9, LR1 with threshold 0.3: Accuracy = 0.929, Precision = 0.913, Recall = 0.980\n",
            "Iteration 9, LR1 with threshold 0.4: Accuracy = 0.931, Precision = 0.915, Recall = 0.980\n",
            "Iteration 9, LR1 with threshold 0.6: Accuracy = 0.933, Precision = 0.918, Recall = 0.980\n",
            "Iteration 9, LR1 with threshold 0.7: Accuracy = 0.933, Precision = 0.918, Recall = 0.980\n",
            "Iteration 10, LR1 with threshold 0.5: Accuracy = 0.931, Precision = 0.915, Recall = 0.980\n",
            "Iteration 10, LR1 with threshold 0.3: Accuracy = 0.929, Precision = 0.913, Recall = 0.980\n",
            "Iteration 10, LR1 with threshold 0.4: Accuracy = 0.931, Precision = 0.915, Recall = 0.980\n",
            "Iteration 10, LR1 with threshold 0.6: Accuracy = 0.933, Precision = 0.918, Recall = 0.980\n",
            "Iteration 10, LR1 with threshold 0.7: Accuracy = 0.933, Precision = 0.918, Recall = 0.980\n",
            "Average accuracy for 0.5, 0.3, 0.4, 0.6, 0.7 threshold: [0.93072824 0.92895204 0.93072824 0.93250444 0.93250444]\n",
            "Average precision for 0.5, 0.3, 0.4, 0.6, 0.7 threshold: [0.91511936 0.91269841 0.91511936 0.91755319 0.91755319]\n",
            "Average recall for 0.5, 0.3, 0.4, 0.6, 0.7 threshold: [0.98011364 0.98011364 0.98011364 0.98011364 0.98011364]\n"
          ]
        }
      ]
    },
    {
      "cell_type": "code",
      "source": [
        "accuracies = np.zeros((10, 5))\n",
        "precisions = np.zeros((10, 5))\n",
        "recalls = np.zeros((10, 5))\n",
        "\n",
        "for i in range(10):\n",
        "    lr1 = LogisticRegression(alpha=0.0001)\n",
        "    theta1, cost_history1 = lr1.batch_gradient_descent(X.astype(float), y.astype(float))\n",
        "    thresholds = [0.5, 0.3, 0.4, 0.6, 0.7]\n",
        "    for j, threshold in enumerate(thresholds):\n",
        "        y_pred = lr1.predict(X, theta1, threshold=threshold)\n",
        "        accuracy = np.mean(y_pred == y)\n",
        "        precision = np.sum((y_pred == 1) & (y == 1)) / np.sum(y_pred == 1)\n",
        "        recall = np.sum((y_pred == 1) & (y == 1)) / np.sum(y == 1)\n",
        "        accuracies[i, j] = accuracy\n",
        "        precisions[i, j] = precision\n",
        "        recalls[i, j] = recall\n",
        "        print(f\"Iteration {i+1}, LR1 with threshold {threshold}: Accuracy = {accuracy:.3f}, Precision = {precision:.3f}, Recall = {recall:.3f}\")\n",
        "    \n",
        "print(f\"Average accuracy for 0.5, 0.3, 0.4, 0.6, 0.7 threshold: {np.mean(accuracies, axis=0)}\")\n",
        "print(f\"Average precision for 0.5, 0.3, 0.4, 0.6, 0.7 threshold: {np.mean(precisions, axis=0)}\")\n",
        "print(f\"Average recall for 0.5, 0.3, 0.4, 0.6, 0.7 threshold: {np.mean(recalls, axis=0)}\")"
      ],
      "metadata": {
        "id": "RMn-7DVw_UdW",
        "colab": {
          "base_uri": "https://localhost:8080/"
        },
        "outputId": "26e723db-f534-4bcc-85b5-a5111aa08120"
      },
      "execution_count": null,
      "outputs": [
        {
          "output_type": "stream",
          "name": "stderr",
          "text": [
            "<ipython-input-5-7bdc6e4aa47a>:13: RuntimeWarning: divide by zero encountered in log\n",
            "  J = (-1/m) * (y.T.dot(np.log(h)) + (1-y).T.dot(np.log(1-h)))\n"
          ]
        },
        {
          "output_type": "stream",
          "name": "stdout",
          "text": [
            "Iteration 1, LR1 with threshold 0.5: Accuracy = 0.922, Precision = 0.935, Recall = 0.940\n",
            "Iteration 1, LR1 with threshold 0.3: Accuracy = 0.925, Precision = 0.926, Recall = 0.957\n",
            "Iteration 1, LR1 with threshold 0.4: Accuracy = 0.922, Precision = 0.930, Recall = 0.946\n",
            "Iteration 1, LR1 with threshold 0.6: Accuracy = 0.922, Precision = 0.938, Recall = 0.938\n",
            "Iteration 1, LR1 with threshold 0.7: Accuracy = 0.917, Precision = 0.945, Recall = 0.920\n",
            "Iteration 2, LR1 with threshold 0.5: Accuracy = 0.922, Precision = 0.935, Recall = 0.940\n",
            "Iteration 2, LR1 with threshold 0.3: Accuracy = 0.925, Precision = 0.926, Recall = 0.957\n",
            "Iteration 2, LR1 with threshold 0.4: Accuracy = 0.922, Precision = 0.930, Recall = 0.946\n",
            "Iteration 2, LR1 with threshold 0.6: Accuracy = 0.922, Precision = 0.938, Recall = 0.938\n",
            "Iteration 2, LR1 with threshold 0.7: Accuracy = 0.917, Precision = 0.945, Recall = 0.920\n",
            "Iteration 3, LR1 with threshold 0.5: Accuracy = 0.922, Precision = 0.935, Recall = 0.940\n",
            "Iteration 3, LR1 with threshold 0.3: Accuracy = 0.925, Precision = 0.926, Recall = 0.957\n",
            "Iteration 3, LR1 with threshold 0.4: Accuracy = 0.922, Precision = 0.930, Recall = 0.946\n",
            "Iteration 3, LR1 with threshold 0.6: Accuracy = 0.922, Precision = 0.938, Recall = 0.938\n",
            "Iteration 3, LR1 with threshold 0.7: Accuracy = 0.917, Precision = 0.945, Recall = 0.920\n",
            "Iteration 4, LR1 with threshold 0.5: Accuracy = 0.922, Precision = 0.935, Recall = 0.940\n",
            "Iteration 4, LR1 with threshold 0.3: Accuracy = 0.925, Precision = 0.926, Recall = 0.957\n",
            "Iteration 4, LR1 with threshold 0.4: Accuracy = 0.922, Precision = 0.930, Recall = 0.946\n",
            "Iteration 4, LR1 with threshold 0.6: Accuracy = 0.922, Precision = 0.938, Recall = 0.938\n",
            "Iteration 4, LR1 with threshold 0.7: Accuracy = 0.917, Precision = 0.945, Recall = 0.920\n",
            "Iteration 5, LR1 with threshold 0.5: Accuracy = 0.922, Precision = 0.935, Recall = 0.940\n",
            "Iteration 5, LR1 with threshold 0.3: Accuracy = 0.925, Precision = 0.926, Recall = 0.957\n",
            "Iteration 5, LR1 with threshold 0.4: Accuracy = 0.922, Precision = 0.930, Recall = 0.946\n",
            "Iteration 5, LR1 with threshold 0.6: Accuracy = 0.922, Precision = 0.938, Recall = 0.938\n",
            "Iteration 5, LR1 with threshold 0.7: Accuracy = 0.917, Precision = 0.945, Recall = 0.920\n",
            "Iteration 6, LR1 with threshold 0.5: Accuracy = 0.922, Precision = 0.935, Recall = 0.940\n",
            "Iteration 6, LR1 with threshold 0.3: Accuracy = 0.925, Precision = 0.926, Recall = 0.957\n",
            "Iteration 6, LR1 with threshold 0.4: Accuracy = 0.922, Precision = 0.930, Recall = 0.946\n",
            "Iteration 6, LR1 with threshold 0.6: Accuracy = 0.922, Precision = 0.938, Recall = 0.938\n",
            "Iteration 6, LR1 with threshold 0.7: Accuracy = 0.917, Precision = 0.945, Recall = 0.920\n",
            "Iteration 7, LR1 with threshold 0.5: Accuracy = 0.922, Precision = 0.935, Recall = 0.940\n",
            "Iteration 7, LR1 with threshold 0.3: Accuracy = 0.925, Precision = 0.926, Recall = 0.957\n",
            "Iteration 7, LR1 with threshold 0.4: Accuracy = 0.922, Precision = 0.930, Recall = 0.946\n",
            "Iteration 7, LR1 with threshold 0.6: Accuracy = 0.922, Precision = 0.938, Recall = 0.938\n",
            "Iteration 7, LR1 with threshold 0.7: Accuracy = 0.917, Precision = 0.945, Recall = 0.920\n",
            "Iteration 8, LR1 with threshold 0.5: Accuracy = 0.922, Precision = 0.935, Recall = 0.940\n",
            "Iteration 8, LR1 with threshold 0.3: Accuracy = 0.925, Precision = 0.926, Recall = 0.957\n",
            "Iteration 8, LR1 with threshold 0.4: Accuracy = 0.922, Precision = 0.930, Recall = 0.946\n",
            "Iteration 8, LR1 with threshold 0.6: Accuracy = 0.922, Precision = 0.938, Recall = 0.938\n",
            "Iteration 8, LR1 with threshold 0.7: Accuracy = 0.917, Precision = 0.945, Recall = 0.920\n",
            "Iteration 9, LR1 with threshold 0.5: Accuracy = 0.922, Precision = 0.935, Recall = 0.940\n",
            "Iteration 9, LR1 with threshold 0.3: Accuracy = 0.925, Precision = 0.926, Recall = 0.957\n",
            "Iteration 9, LR1 with threshold 0.4: Accuracy = 0.922, Precision = 0.930, Recall = 0.946\n",
            "Iteration 9, LR1 with threshold 0.6: Accuracy = 0.922, Precision = 0.938, Recall = 0.938\n",
            "Iteration 9, LR1 with threshold 0.7: Accuracy = 0.917, Precision = 0.945, Recall = 0.920\n",
            "Iteration 10, LR1 with threshold 0.5: Accuracy = 0.922, Precision = 0.935, Recall = 0.940\n",
            "Iteration 10, LR1 with threshold 0.3: Accuracy = 0.925, Precision = 0.926, Recall = 0.957\n",
            "Iteration 10, LR1 with threshold 0.4: Accuracy = 0.922, Precision = 0.930, Recall = 0.946\n",
            "Iteration 10, LR1 with threshold 0.6: Accuracy = 0.922, Precision = 0.938, Recall = 0.938\n",
            "Iteration 10, LR1 with threshold 0.7: Accuracy = 0.917, Precision = 0.945, Recall = 0.920\n",
            "Average accuracy for 0.5, 0.3, 0.4, 0.6, 0.7 threshold: [0.92184725 0.92539964 0.92184725 0.92184725 0.91651865]\n",
            "Average precision for 0.5, 0.3, 0.4, 0.6, 0.7 threshold: [0.93502825 0.92582418 0.9301676  0.9375     0.94460641]\n",
            "Average recall for 0.5, 0.3, 0.4, 0.6, 0.7 threshold: [0.94034091 0.95738636 0.94602273 0.9375     0.92045455]\n"
          ]
        }
      ]
    },
    {
      "cell_type": "markdown",
      "source": [
        "###  Mini Batch Gradient Descent With Different Learning Rates (Alpha)"
      ],
      "metadata": {
        "id": "uNRB2985Rc0a"
      }
    },
    {
      "cell_type": "code",
      "source": [
        "accuracies = np.zeros((10, 5))\n",
        "precisions = np.zeros((10, 5))\n",
        "recalls = np.zeros((10, 5))\n",
        "\n",
        "for i in range(10):\n",
        "    lr1 = LogisticRegression(alpha=0.01)\n",
        "    theta1, cost_history1 = lr1.mini_batch_gradient_descent(X.astype(float), y.astype(float))\n",
        "    thresholds = [0.5, 0.3, 0.4, 0.6, 0.7]\n",
        "    for j, threshold in enumerate(thresholds):\n",
        "        y_pred = lr1.predict(X, theta1, threshold=threshold)\n",
        "        accuracy = np.mean(y_pred == y)\n",
        "        precision = np.sum((y_pred == 1) & (y == 1)) / np.sum(y_pred == 1)\n",
        "        recall = np.sum((y_pred == 1) & (y == 1)) / np.sum(y == 1)\n",
        "        accuracies[i, j] = accuracy\n",
        "        precisions[i, j] = precision\n",
        "        recalls[i, j] = recall\n",
        "        print(f\"Iteration {i+1}, LR1 with threshold {threshold}: Accuracy = {accuracy:.3f}, Precision = {precision:.3f}, Recall = {recall:.3f}\")\n",
        "\n",
        "print(f\"Average accuracy for 0.5, 0.3, 0.4, 0.6, 0.7 threshold: {np.mean(accuracies, axis=0)}\")\n",
        "print(f\"Average precision for 0.5, 0.3, 0.4, 0.6, 0.7 threshold: {np.mean(precisions, axis=0)}\")\n",
        "print(f\"Average recall for 0.5, 0.3, 0.4, 0.6, 0.7 threshold: {np.mean(recalls, axis=0)}\")"
      ],
      "metadata": {
        "id": "wldIYt6RRmqZ",
        "colab": {
          "base_uri": "https://localhost:8080/"
        },
        "outputId": "34d9890d-4128-45e3-8816-55a000c16b9a"
      },
      "execution_count": null,
      "outputs": [
        {
          "output_type": "stream",
          "name": "stderr",
          "text": [
            "<ipython-input-5-7bdc6e4aa47a>:8: RuntimeWarning: overflow encountered in exp\n",
            "  return 1 / (1 + np.exp(-z))\n",
            "<ipython-input-5-7bdc6e4aa47a>:13: RuntimeWarning: divide by zero encountered in log\n",
            "  J = (-1/m) * (y.T.dot(np.log(h)) + (1-y).T.dot(np.log(1-h)))\n"
          ]
        },
        {
          "output_type": "stream",
          "name": "stdout",
          "text": [
            "Iteration 1, LR1 with threshold 0.5: Accuracy = 0.924, Precision = 0.933, Recall = 0.946\n",
            "Iteration 1, LR1 with threshold 0.3: Accuracy = 0.924, Precision = 0.933, Recall = 0.946\n",
            "Iteration 1, LR1 with threshold 0.4: Accuracy = 0.924, Precision = 0.933, Recall = 0.946\n",
            "Iteration 1, LR1 with threshold 0.6: Accuracy = 0.924, Precision = 0.933, Recall = 0.946\n",
            "Iteration 1, LR1 with threshold 0.7: Accuracy = 0.924, Precision = 0.933, Recall = 0.946\n",
            "Iteration 2, LR1 with threshold 0.5: Accuracy = 0.906, Precision = 0.873, Recall = 0.994\n",
            "Iteration 2, LR1 with threshold 0.3: Accuracy = 0.906, Precision = 0.873, Recall = 0.994\n",
            "Iteration 2, LR1 with threshold 0.4: Accuracy = 0.906, Precision = 0.873, Recall = 0.994\n",
            "Iteration 2, LR1 with threshold 0.6: Accuracy = 0.906, Precision = 0.873, Recall = 0.994\n",
            "Iteration 2, LR1 with threshold 0.7: Accuracy = 0.906, Precision = 0.873, Recall = 0.994\n",
            "Iteration 3, LR1 with threshold 0.5: Accuracy = 0.911, Precision = 0.952, Recall = 0.903\n",
            "Iteration 3, LR1 with threshold 0.3: Accuracy = 0.911, Precision = 0.952, Recall = 0.903\n",
            "Iteration 3, LR1 with threshold 0.4: Accuracy = 0.911, Precision = 0.952, Recall = 0.903\n",
            "Iteration 3, LR1 with threshold 0.6: Accuracy = 0.911, Precision = 0.952, Recall = 0.903\n",
            "Iteration 3, LR1 with threshold 0.7: Accuracy = 0.911, Precision = 0.952, Recall = 0.903\n",
            "Iteration 4, LR1 with threshold 0.5: Accuracy = 0.929, Precision = 0.908, Recall = 0.986\n",
            "Iteration 4, LR1 with threshold 0.3: Accuracy = 0.929, Precision = 0.908, Recall = 0.986\n",
            "Iteration 4, LR1 with threshold 0.4: Accuracy = 0.929, Precision = 0.908, Recall = 0.986\n",
            "Iteration 4, LR1 with threshold 0.6: Accuracy = 0.929, Precision = 0.908, Recall = 0.986\n",
            "Iteration 4, LR1 with threshold 0.7: Accuracy = 0.929, Precision = 0.908, Recall = 0.986\n",
            "Iteration 5, LR1 with threshold 0.5: Accuracy = 0.922, Precision = 0.935, Recall = 0.940\n",
            "Iteration 5, LR1 with threshold 0.3: Accuracy = 0.922, Precision = 0.935, Recall = 0.940\n",
            "Iteration 5, LR1 with threshold 0.4: Accuracy = 0.922, Precision = 0.935, Recall = 0.940\n",
            "Iteration 5, LR1 with threshold 0.6: Accuracy = 0.922, Precision = 0.935, Recall = 0.940\n",
            "Iteration 5, LR1 with threshold 0.7: Accuracy = 0.922, Precision = 0.935, Recall = 0.940\n",
            "Iteration 6, LR1 with threshold 0.5: Accuracy = 0.918, Precision = 0.935, Recall = 0.935\n",
            "Iteration 6, LR1 with threshold 0.3: Accuracy = 0.918, Precision = 0.935, Recall = 0.935\n",
            "Iteration 6, LR1 with threshold 0.4: Accuracy = 0.918, Precision = 0.935, Recall = 0.935\n",
            "Iteration 6, LR1 with threshold 0.6: Accuracy = 0.918, Precision = 0.935, Recall = 0.935\n",
            "Iteration 6, LR1 with threshold 0.7: Accuracy = 0.918, Precision = 0.935, Recall = 0.935\n",
            "Iteration 7, LR1 with threshold 0.5: Accuracy = 0.837, Precision = 0.974, Recall = 0.759\n",
            "Iteration 7, LR1 with threshold 0.3: Accuracy = 0.837, Precision = 0.974, Recall = 0.759\n",
            "Iteration 7, LR1 with threshold 0.4: Accuracy = 0.837, Precision = 0.974, Recall = 0.759\n",
            "Iteration 7, LR1 with threshold 0.6: Accuracy = 0.837, Precision = 0.974, Recall = 0.759\n",
            "Iteration 7, LR1 with threshold 0.7: Accuracy = 0.837, Precision = 0.974, Recall = 0.759\n",
            "Iteration 8, LR1 with threshold 0.5: Accuracy = 0.931, Precision = 0.911, Recall = 0.986\n",
            "Iteration 8, LR1 with threshold 0.3: Accuracy = 0.931, Precision = 0.911, Recall = 0.986\n",
            "Iteration 8, LR1 with threshold 0.4: Accuracy = 0.931, Precision = 0.911, Recall = 0.986\n",
            "Iteration 8, LR1 with threshold 0.6: Accuracy = 0.931, Precision = 0.911, Recall = 0.986\n",
            "Iteration 8, LR1 with threshold 0.7: Accuracy = 0.931, Precision = 0.911, Recall = 0.986\n",
            "Iteration 9, LR1 with threshold 0.5: Accuracy = 0.922, Precision = 0.925, Recall = 0.952\n",
            "Iteration 9, LR1 with threshold 0.3: Accuracy = 0.922, Precision = 0.925, Recall = 0.952\n",
            "Iteration 9, LR1 with threshold 0.4: Accuracy = 0.922, Precision = 0.925, Recall = 0.952\n",
            "Iteration 9, LR1 with threshold 0.6: Accuracy = 0.922, Precision = 0.925, Recall = 0.952\n",
            "Iteration 9, LR1 with threshold 0.7: Accuracy = 0.924, Precision = 0.928, Recall = 0.952\n",
            "Iteration 10, LR1 with threshold 0.5: Accuracy = 0.934, Precision = 0.916, Recall = 0.986\n",
            "Iteration 10, LR1 with threshold 0.3: Accuracy = 0.934, Precision = 0.916, Recall = 0.986\n",
            "Iteration 10, LR1 with threshold 0.4: Accuracy = 0.934, Precision = 0.916, Recall = 0.986\n",
            "Iteration 10, LR1 with threshold 0.6: Accuracy = 0.934, Precision = 0.916, Recall = 0.986\n",
            "Iteration 10, LR1 with threshold 0.7: Accuracy = 0.934, Precision = 0.916, Recall = 0.986\n",
            "Average accuracy for 0.5, 0.3, 0.4, 0.6, 0.7 threshold: [0.91332149 0.91332149 0.91332149 0.91332149 0.91349911]\n",
            "Average precision for 0.5, 0.3, 0.4, 0.6, 0.7 threshold: [0.92619465 0.92619465 0.92619465 0.92619465 0.926451  ]\n",
            "Average recall for 0.5, 0.3, 0.4, 0.6, 0.7 threshold: [0.93863636 0.93863636 0.93863636 0.93863636 0.93863636]\n"
          ]
        }
      ]
    },
    {
      "cell_type": "code",
      "source": [
        "accuracies = np.zeros((10, 5))\n",
        "precisions = np.zeros((10, 5))\n",
        "recalls = np.zeros((10, 5))\n",
        "\n",
        "for i in range(10):\n",
        "    lr1 = LogisticRegression(alpha=0.001)\n",
        "    theta1, cost_history1 = lr1.mini_batch_gradient_descent(X.astype(float), y.astype(float))\n",
        "    thresholds = [0.5, 0.3, 0.4, 0.6, 0.7]\n",
        "    for j, threshold in enumerate(thresholds):\n",
        "        y_pred = lr1.predict(X, theta1, threshold=threshold)\n",
        "        accuracy = np.mean(y_pred == y)\n",
        "        precision = np.sum((y_pred == 1) & (y == 1)) / np.sum(y_pred == 1)\n",
        "        recall = np.sum((y_pred == 1) & (y == 1)) / np.sum(y == 1)\n",
        "        accuracies[i, j] = accuracy\n",
        "        precisions[i, j] = precision\n",
        "        recalls[i, j] = recall\n",
        "        print(f\"Iteration {i+1}, LR1 with threshold {threshold}: Accuracy = {accuracy:.3f}, Precision = {precision:.3f}, Recall = {recall:.3f}\")\n",
        "\n",
        "print(f\"Average accuracy for 0.5, 0.3, 0.4, 0.6, 0.7 threshold: {np.mean(accuracies, axis=0)}\")\n",
        "print(f\"Average precision for 0.5, 0.3, 0.4, 0.6, 0.7 threshold: {np.mean(precisions, axis=0)}\")\n",
        "print(f\"Average recall for 0.5, 0.3, 0.4, 0.6, 0.7 threshold: {np.mean(recalls, axis=0)}\")"
      ],
      "metadata": {
        "id": "KBe2z-BPRp7V",
        "colab": {
          "base_uri": "https://localhost:8080/"
        },
        "outputId": "57f6c0b2-0fc1-4d5f-81a5-ffa2e90a42c4"
      },
      "execution_count": null,
      "outputs": [
        {
          "output_type": "stream",
          "name": "stderr",
          "text": [
            "<ipython-input-5-7bdc6e4aa47a>:13: RuntimeWarning: divide by zero encountered in log\n",
            "  J = (-1/m) * (y.T.dot(np.log(h)) + (1-y).T.dot(np.log(1-h)))\n",
            "<ipython-input-5-7bdc6e4aa47a>:8: RuntimeWarning: overflow encountered in exp\n",
            "  return 1 / (1 + np.exp(-z))\n"
          ]
        },
        {
          "output_type": "stream",
          "name": "stdout",
          "text": [
            "Iteration 1, LR1 with threshold 0.5: Accuracy = 0.913, Precision = 0.950, Recall = 0.909\n",
            "Iteration 1, LR1 with threshold 0.3: Accuracy = 0.915, Precision = 0.950, Recall = 0.912\n",
            "Iteration 1, LR1 with threshold 0.4: Accuracy = 0.915, Precision = 0.950, Recall = 0.912\n",
            "Iteration 1, LR1 with threshold 0.6: Accuracy = 0.913, Precision = 0.950, Recall = 0.909\n",
            "Iteration 1, LR1 with threshold 0.7: Accuracy = 0.913, Precision = 0.950, Recall = 0.909\n",
            "Iteration 2, LR1 with threshold 0.5: Accuracy = 0.920, Precision = 0.932, Recall = 0.940\n",
            "Iteration 2, LR1 with threshold 0.3: Accuracy = 0.922, Precision = 0.933, Recall = 0.943\n",
            "Iteration 2, LR1 with threshold 0.4: Accuracy = 0.920, Precision = 0.932, Recall = 0.940\n",
            "Iteration 2, LR1 with threshold 0.6: Accuracy = 0.920, Precision = 0.932, Recall = 0.940\n",
            "Iteration 2, LR1 with threshold 0.7: Accuracy = 0.920, Precision = 0.932, Recall = 0.940\n",
            "Iteration 3, LR1 with threshold 0.5: Accuracy = 0.876, Precision = 0.973, Recall = 0.824\n",
            "Iteration 3, LR1 with threshold 0.3: Accuracy = 0.876, Precision = 0.973, Recall = 0.824\n",
            "Iteration 3, LR1 with threshold 0.4: Accuracy = 0.876, Precision = 0.973, Recall = 0.824\n",
            "Iteration 3, LR1 with threshold 0.6: Accuracy = 0.876, Precision = 0.973, Recall = 0.824\n",
            "Iteration 3, LR1 with threshold 0.7: Accuracy = 0.874, Precision = 0.973, Recall = 0.821\n",
            "Iteration 4, LR1 with threshold 0.5: Accuracy = 0.925, Precision = 0.917, Recall = 0.969\n",
            "Iteration 4, LR1 with threshold 0.3: Accuracy = 0.927, Precision = 0.917, Recall = 0.972\n",
            "Iteration 4, LR1 with threshold 0.4: Accuracy = 0.925, Precision = 0.917, Recall = 0.969\n",
            "Iteration 4, LR1 with threshold 0.6: Accuracy = 0.925, Precision = 0.917, Recall = 0.969\n",
            "Iteration 4, LR1 with threshold 0.7: Accuracy = 0.925, Precision = 0.917, Recall = 0.969\n",
            "Iteration 5, LR1 with threshold 0.5: Accuracy = 0.933, Precision = 0.913, Recall = 0.986\n",
            "Iteration 5, LR1 with threshold 0.3: Accuracy = 0.931, Precision = 0.911, Recall = 0.986\n",
            "Iteration 5, LR1 with threshold 0.4: Accuracy = 0.933, Precision = 0.913, Recall = 0.986\n",
            "Iteration 5, LR1 with threshold 0.6: Accuracy = 0.933, Precision = 0.913, Recall = 0.986\n",
            "Iteration 5, LR1 with threshold 0.7: Accuracy = 0.933, Precision = 0.913, Recall = 0.986\n",
            "Iteration 6, LR1 with threshold 0.5: Accuracy = 0.833, Precision = 0.985, Recall = 0.744\n",
            "Iteration 6, LR1 with threshold 0.3: Accuracy = 0.835, Precision = 0.985, Recall = 0.747\n",
            "Iteration 6, LR1 with threshold 0.4: Accuracy = 0.835, Precision = 0.985, Recall = 0.747\n",
            "Iteration 6, LR1 with threshold 0.6: Accuracy = 0.828, Precision = 0.985, Recall = 0.736\n",
            "Iteration 6, LR1 with threshold 0.7: Accuracy = 0.826, Precision = 0.985, Recall = 0.733\n",
            "Iteration 7, LR1 with threshold 0.5: Accuracy = 0.924, Precision = 0.899, Recall = 0.989\n",
            "Iteration 7, LR1 with threshold 0.3: Accuracy = 0.924, Precision = 0.899, Recall = 0.989\n",
            "Iteration 7, LR1 with threshold 0.4: Accuracy = 0.924, Precision = 0.899, Recall = 0.989\n",
            "Iteration 7, LR1 with threshold 0.6: Accuracy = 0.924, Precision = 0.899, Recall = 0.989\n",
            "Iteration 7, LR1 with threshold 0.7: Accuracy = 0.924, Precision = 0.899, Recall = 0.989\n",
            "Iteration 8, LR1 with threshold 0.5: Accuracy = 0.895, Precision = 0.965, Recall = 0.864\n",
            "Iteration 8, LR1 with threshold 0.3: Accuracy = 0.897, Precision = 0.965, Recall = 0.866\n",
            "Iteration 8, LR1 with threshold 0.4: Accuracy = 0.895, Precision = 0.965, Recall = 0.864\n",
            "Iteration 8, LR1 with threshold 0.6: Accuracy = 0.893, Precision = 0.965, Recall = 0.861\n",
            "Iteration 8, LR1 with threshold 0.7: Accuracy = 0.893, Precision = 0.968, Recall = 0.858\n",
            "Iteration 9, LR1 with threshold 0.5: Accuracy = 0.876, Precision = 0.973, Recall = 0.824\n",
            "Iteration 9, LR1 with threshold 0.3: Accuracy = 0.876, Precision = 0.973, Recall = 0.824\n",
            "Iteration 9, LR1 with threshold 0.4: Accuracy = 0.876, Precision = 0.973, Recall = 0.824\n",
            "Iteration 9, LR1 with threshold 0.6: Accuracy = 0.876, Precision = 0.973, Recall = 0.824\n",
            "Iteration 9, LR1 with threshold 0.7: Accuracy = 0.876, Precision = 0.973, Recall = 0.824\n",
            "Iteration 10, LR1 with threshold 0.5: Accuracy = 0.897, Precision = 0.962, Recall = 0.869\n",
            "Iteration 10, LR1 with threshold 0.3: Accuracy = 0.897, Precision = 0.962, Recall = 0.869\n",
            "Iteration 10, LR1 with threshold 0.4: Accuracy = 0.897, Precision = 0.962, Recall = 0.869\n",
            "Iteration 10, LR1 with threshold 0.6: Accuracy = 0.897, Precision = 0.962, Recall = 0.869\n",
            "Iteration 10, LR1 with threshold 0.7: Accuracy = 0.899, Precision = 0.965, Recall = 0.869\n",
            "Average accuracy for 0.5, 0.3, 0.4, 0.6, 0.7 threshold: [0.8991119  0.89982238 0.89946714 0.89840142 0.8982238 ]\n",
            "Average precision for 0.5, 0.3, 0.4, 0.6, 0.7 threshold: [0.94696133 0.94679459 0.94698188 0.94693305 0.94751982]\n",
            "Average recall for 0.5, 0.3, 0.4, 0.6, 0.7 threshold: [0.89176136 0.89318182 0.89232955 0.890625   0.88977273]\n"
          ]
        }
      ]
    },
    {
      "cell_type": "code",
      "source": [
        "accuracies = np.zeros((10, 5))\n",
        "precisions = np.zeros((10, 5))\n",
        "recalls = np.zeros((10, 5))\n",
        "\n",
        "for i in range(10):\n",
        "    lr1 = LogisticRegression(alpha=0.0001)\n",
        "    theta1, cost_history1 = lr1.mini_batch_gradient_descent(X.astype(float), y.astype(float))\n",
        "    thresholds = [0.5, 0.3, 0.4, 0.6, 0.7]\n",
        "    for j, threshold in enumerate(thresholds):\n",
        "        y_pred = lr1.predict(X, theta1, threshold=threshold)\n",
        "        accuracy = np.mean(y_pred == y)\n",
        "        precision = np.sum((y_pred == 1) & (y == 1)) / np.sum(y_pred == 1)\n",
        "        recall = np.sum((y_pred == 1) & (y == 1)) / np.sum(y == 1)\n",
        "        accuracies[i, j] = accuracy\n",
        "        precisions[i, j] = precision\n",
        "        recalls[i, j] = recall\n",
        "        print(f\"Iteration {i+1}, LR1 with threshold {threshold}: Accuracy = {accuracy:.3f}, Precision = {precision:.3f}, Recall = {recall:.3f}\")\n",
        "\n",
        "print(f\"Average accuracy for 0.5, 0.3, 0.4, 0.6, 0.7 threshold: {np.mean(accuracies, axis=0)}\")\n",
        "print(f\"Average precision for 0.5, 0.3, 0.4, 0.6, 0.7 threshold: {np.mean(precisions, axis=0)}\")\n",
        "print(f\"Average recall for 0.5, 0.3, 0.4, 0.6, 0.7 threshold: {np.mean(recalls, axis=0)}\")"
      ],
      "metadata": {
        "colab": {
          "base_uri": "https://localhost:8080/"
        },
        "id": "LNsncApZh_T_",
        "outputId": "67f835c4-ecdf-4187-bc4a-8599ea9862f8"
      },
      "execution_count": null,
      "outputs": [
        {
          "output_type": "stream",
          "name": "stderr",
          "text": [
            "<ipython-input-5-7bdc6e4aa47a>:13: RuntimeWarning: divide by zero encountered in log\n",
            "  J = (-1/m) * (y.T.dot(np.log(h)) + (1-y).T.dot(np.log(1-h)))\n"
          ]
        },
        {
          "output_type": "stream",
          "name": "stdout",
          "text": [
            "Iteration 1, LR1 with threshold 0.5: Accuracy = 0.908, Precision = 0.875, Recall = 0.994\n",
            "Iteration 1, LR1 with threshold 0.3: Accuracy = 0.904, Precision = 0.871, Recall = 0.994\n",
            "Iteration 1, LR1 with threshold 0.4: Accuracy = 0.904, Precision = 0.871, Recall = 0.994\n",
            "Iteration 1, LR1 with threshold 0.6: Accuracy = 0.913, Precision = 0.882, Recall = 0.994\n",
            "Iteration 1, LR1 with threshold 0.7: Accuracy = 0.917, Precision = 0.886, Recall = 0.994\n",
            "Iteration 2, LR1 with threshold 0.5: Accuracy = 0.920, Precision = 0.932, Recall = 0.940\n",
            "Iteration 2, LR1 with threshold 0.3: Accuracy = 0.924, Precision = 0.923, Recall = 0.957\n",
            "Iteration 2, LR1 with threshold 0.4: Accuracy = 0.925, Precision = 0.933, Recall = 0.949\n",
            "Iteration 2, LR1 with threshold 0.6: Accuracy = 0.920, Precision = 0.937, Recall = 0.935\n",
            "Iteration 2, LR1 with threshold 0.7: Accuracy = 0.917, Precision = 0.939, Recall = 0.926\n",
            "Iteration 3, LR1 with threshold 0.5: Accuracy = 0.933, Precision = 0.913, Recall = 0.986\n",
            "Iteration 3, LR1 with threshold 0.3: Accuracy = 0.927, Precision = 0.906, Recall = 0.986\n",
            "Iteration 3, LR1 with threshold 0.4: Accuracy = 0.929, Precision = 0.908, Recall = 0.986\n",
            "Iteration 3, LR1 with threshold 0.6: Accuracy = 0.934, Precision = 0.916, Recall = 0.986\n",
            "Iteration 3, LR1 with threshold 0.7: Accuracy = 0.933, Precision = 0.918, Recall = 0.980\n",
            "Iteration 4, LR1 with threshold 0.5: Accuracy = 0.920, Precision = 0.935, Recall = 0.938\n",
            "Iteration 4, LR1 with threshold 0.3: Accuracy = 0.920, Precision = 0.923, Recall = 0.952\n",
            "Iteration 4, LR1 with threshold 0.4: Accuracy = 0.922, Precision = 0.935, Recall = 0.940\n",
            "Iteration 4, LR1 with threshold 0.6: Accuracy = 0.922, Precision = 0.943, Recall = 0.932\n",
            "Iteration 4, LR1 with threshold 0.7: Accuracy = 0.920, Precision = 0.945, Recall = 0.926\n",
            "Iteration 5, LR1 with threshold 0.5: Accuracy = 0.917, Precision = 0.890, Recall = 0.989\n",
            "Iteration 5, LR1 with threshold 0.3: Accuracy = 0.917, Precision = 0.886, Recall = 0.994\n",
            "Iteration 5, LR1 with threshold 0.4: Accuracy = 0.917, Precision = 0.888, Recall = 0.991\n",
            "Iteration 5, LR1 with threshold 0.6: Accuracy = 0.917, Precision = 0.890, Recall = 0.989\n",
            "Iteration 5, LR1 with threshold 0.7: Accuracy = 0.924, Precision = 0.899, Recall = 0.989\n",
            "Iteration 6, LR1 with threshold 0.5: Accuracy = 0.934, Precision = 0.916, Recall = 0.986\n",
            "Iteration 6, LR1 with threshold 0.3: Accuracy = 0.927, Precision = 0.906, Recall = 0.986\n",
            "Iteration 6, LR1 with threshold 0.4: Accuracy = 0.931, Precision = 0.911, Recall = 0.986\n",
            "Iteration 6, LR1 with threshold 0.6: Accuracy = 0.933, Precision = 0.918, Recall = 0.980\n",
            "Iteration 6, LR1 with threshold 0.7: Accuracy = 0.927, Precision = 0.917, Recall = 0.972\n",
            "Iteration 7, LR1 with threshold 0.5: Accuracy = 0.879, Precision = 0.973, Recall = 0.830\n",
            "Iteration 7, LR1 with threshold 0.3: Accuracy = 0.897, Precision = 0.971, Recall = 0.861\n",
            "Iteration 7, LR1 with threshold 0.4: Accuracy = 0.890, Precision = 0.974, Recall = 0.847\n",
            "Iteration 7, LR1 with threshold 0.6: Accuracy = 0.872, Precision = 0.973, Recall = 0.818\n",
            "Iteration 7, LR1 with threshold 0.7: Accuracy = 0.867, Precision = 0.973, Recall = 0.810\n",
            "Iteration 8, LR1 with threshold 0.5: Accuracy = 0.913, Precision = 0.950, Recall = 0.909\n",
            "Iteration 8, LR1 with threshold 0.3: Accuracy = 0.917, Precision = 0.947, Recall = 0.918\n",
            "Iteration 8, LR1 with threshold 0.4: Accuracy = 0.915, Precision = 0.950, Recall = 0.912\n",
            "Iteration 8, LR1 with threshold 0.6: Accuracy = 0.909, Precision = 0.952, Recall = 0.901\n",
            "Iteration 8, LR1 with threshold 0.7: Accuracy = 0.904, Precision = 0.954, Recall = 0.889\n",
            "Iteration 9, LR1 with threshold 0.5: Accuracy = 0.929, Precision = 0.908, Recall = 0.986\n",
            "Iteration 9, LR1 with threshold 0.3: Accuracy = 0.927, Precision = 0.904, Recall = 0.989\n",
            "Iteration 9, LR1 with threshold 0.4: Accuracy = 0.927, Precision = 0.906, Recall = 0.986\n",
            "Iteration 9, LR1 with threshold 0.6: Accuracy = 0.933, Precision = 0.913, Recall = 0.986\n",
            "Iteration 9, LR1 with threshold 0.7: Accuracy = 0.933, Precision = 0.915, Recall = 0.983\n",
            "Iteration 10, LR1 with threshold 0.5: Accuracy = 0.920, Precision = 0.942, Recall = 0.929\n",
            "Iteration 10, LR1 with threshold 0.3: Accuracy = 0.920, Precision = 0.935, Recall = 0.938\n",
            "Iteration 10, LR1 with threshold 0.4: Accuracy = 0.922, Precision = 0.940, Recall = 0.935\n",
            "Iteration 10, LR1 with threshold 0.6: Accuracy = 0.918, Precision = 0.947, Recall = 0.920\n",
            "Iteration 10, LR1 with threshold 0.7: Accuracy = 0.913, Precision = 0.950, Recall = 0.909\n",
            "Average accuracy for 0.5, 0.3, 0.4, 0.6, 0.7 threshold: [0.91722913 0.91793961 0.91811723 0.91705151 0.91527531]\n",
            "Average precision for 0.5, 0.3, 0.4, 0.6, 0.7 threshold: [0.92346176 0.91719941 0.92153803 0.92700601 0.92960162]\n",
            "Average recall for 0.5, 0.3, 0.4, 0.6, 0.7 threshold: [0.94857955 0.95738636 0.95255682 0.94403409 0.93778409]\n"
          ]
        }
      ]
    },
    {
      "cell_type": "markdown",
      "source": [
        "### Stochaistic Gradient Descent With Different Learning Rates (Alpha)"
      ],
      "metadata": {
        "id": "z2Adoo9SiD5U"
      }
    },
    {
      "cell_type": "code",
      "source": [
        "accuracies = np.zeros((10, 5))\n",
        "precisions = np.zeros((10, 5))\n",
        "recalls = np.zeros((10, 5))\n",
        "\n",
        "for i in range(10):\n",
        "    lr1 = LogisticRegression(alpha=0.01)\n",
        "    theta1, cost_history1 = lr1.stochastic_gradient_descent(X.astype(float), y.astype(float))\n",
        "    thresholds = [0.5, 0.3, 0.4, 0.6, 0.7]\n",
        "    for j, threshold in enumerate(thresholds):\n",
        "        y_pred = lr1.predict(X, theta1, threshold=threshold)\n",
        "        accuracy = np.mean(y_pred == y)\n",
        "        precision = np.sum((y_pred == 1) & (y == 1)) / np.sum(y_pred == 1)\n",
        "        recall = np.sum((y_pred == 1) & (y == 1)) / np.sum(y == 1)\n",
        "        accuracies[i, j] = accuracy\n",
        "        precisions[i, j] = precision\n",
        "        recalls[i, j] = recall\n",
        "        print(f\"Iteration {i+1}, LR1 with threshold {threshold}: Accuracy = {accuracy:.3f}, Precision = {precision:.3f}, Recall = {recall:.3f}\")\n",
        "\n",
        "print(f\"Average accuracy for 0.5, 0.3, 0.4, 0.6, 0.7 threshold: {np.mean(accuracies, axis=0)}\")\n",
        "print(f\"Average precision for 0.5, 0.3, 0.4, 0.6, 0.7 threshold: {np.mean(precisions, axis=0)}\")\n",
        "print(f\"Average recall for 0.5, 0.3, 0.4, 0.6, 0.7 threshold: {np.mean(recalls, axis=0)}\")"
      ],
      "metadata": {
        "id": "ERWUjgbERtpB",
        "colab": {
          "base_uri": "https://localhost:8080/"
        },
        "outputId": "1dd96062-6682-46cb-cbc3-4027f44f33db"
      },
      "execution_count": null,
      "outputs": [
        {
          "output_type": "stream",
          "name": "stderr",
          "text": [
            "<ipython-input-5-7bdc6e4aa47a>:8: RuntimeWarning: overflow encountered in exp\n",
            "  return 1 / (1 + np.exp(-z))\n",
            "<ipython-input-5-7bdc6e4aa47a>:13: RuntimeWarning: divide by zero encountered in log\n",
            "  J = (-1/m) * (y.T.dot(np.log(h)) + (1-y).T.dot(np.log(1-h)))\n"
          ]
        },
        {
          "output_type": "stream",
          "name": "stdout",
          "text": [
            "Iteration 1, LR1 with threshold 0.5: Accuracy = 0.941, Precision = 0.947, Recall = 0.960\n",
            "Iteration 1, LR1 with threshold 0.3: Accuracy = 0.941, Precision = 0.947, Recall = 0.960\n",
            "Iteration 1, LR1 with threshold 0.4: Accuracy = 0.941, Precision = 0.947, Recall = 0.960\n",
            "Iteration 1, LR1 with threshold 0.6: Accuracy = 0.941, Precision = 0.947, Recall = 0.960\n",
            "Iteration 1, LR1 with threshold 0.7: Accuracy = 0.941, Precision = 0.947, Recall = 0.960\n",
            "Iteration 2, LR1 with threshold 0.5: Accuracy = 0.938, Precision = 0.957, Recall = 0.943\n",
            "Iteration 2, LR1 with threshold 0.3: Accuracy = 0.938, Precision = 0.957, Recall = 0.943\n",
            "Iteration 2, LR1 with threshold 0.4: Accuracy = 0.938, Precision = 0.957, Recall = 0.943\n",
            "Iteration 2, LR1 with threshold 0.6: Accuracy = 0.938, Precision = 0.957, Recall = 0.943\n",
            "Iteration 2, LR1 with threshold 0.7: Accuracy = 0.938, Precision = 0.957, Recall = 0.943\n",
            "Iteration 3, LR1 with threshold 0.5: Accuracy = 0.940, Precision = 0.957, Recall = 0.946\n",
            "Iteration 3, LR1 with threshold 0.3: Accuracy = 0.940, Precision = 0.957, Recall = 0.946\n",
            "Iteration 3, LR1 with threshold 0.4: Accuracy = 0.940, Precision = 0.957, Recall = 0.946\n",
            "Iteration 3, LR1 with threshold 0.6: Accuracy = 0.940, Precision = 0.957, Recall = 0.946\n",
            "Iteration 3, LR1 with threshold 0.7: Accuracy = 0.940, Precision = 0.957, Recall = 0.946\n",
            "Iteration 4, LR1 with threshold 0.5: Accuracy = 0.933, Precision = 0.920, Recall = 0.977\n",
            "Iteration 4, LR1 with threshold 0.3: Accuracy = 0.933, Precision = 0.920, Recall = 0.977\n",
            "Iteration 4, LR1 with threshold 0.4: Accuracy = 0.933, Precision = 0.920, Recall = 0.977\n",
            "Iteration 4, LR1 with threshold 0.6: Accuracy = 0.933, Precision = 0.920, Recall = 0.977\n",
            "Iteration 4, LR1 with threshold 0.7: Accuracy = 0.933, Precision = 0.920, Recall = 0.977\n",
            "Iteration 5, LR1 with threshold 0.5: Accuracy = 0.940, Precision = 0.942, Recall = 0.963\n",
            "Iteration 5, LR1 with threshold 0.3: Accuracy = 0.940, Precision = 0.942, Recall = 0.963\n",
            "Iteration 5, LR1 with threshold 0.4: Accuracy = 0.940, Precision = 0.942, Recall = 0.963\n",
            "Iteration 5, LR1 with threshold 0.6: Accuracy = 0.940, Precision = 0.942, Recall = 0.963\n",
            "Iteration 5, LR1 with threshold 0.7: Accuracy = 0.940, Precision = 0.942, Recall = 0.963\n",
            "Iteration 6, LR1 with threshold 0.5: Accuracy = 0.934, Precision = 0.965, Recall = 0.929\n",
            "Iteration 6, LR1 with threshold 0.3: Accuracy = 0.934, Precision = 0.965, Recall = 0.929\n",
            "Iteration 6, LR1 with threshold 0.4: Accuracy = 0.934, Precision = 0.965, Recall = 0.929\n",
            "Iteration 6, LR1 with threshold 0.6: Accuracy = 0.934, Precision = 0.965, Recall = 0.929\n",
            "Iteration 6, LR1 with threshold 0.7: Accuracy = 0.934, Precision = 0.965, Recall = 0.929\n",
            "Iteration 7, LR1 with threshold 0.5: Accuracy = 0.940, Precision = 0.960, Recall = 0.943\n",
            "Iteration 7, LR1 with threshold 0.3: Accuracy = 0.940, Precision = 0.960, Recall = 0.943\n",
            "Iteration 7, LR1 with threshold 0.4: Accuracy = 0.940, Precision = 0.960, Recall = 0.943\n",
            "Iteration 7, LR1 with threshold 0.6: Accuracy = 0.940, Precision = 0.960, Recall = 0.943\n",
            "Iteration 7, LR1 with threshold 0.7: Accuracy = 0.940, Precision = 0.960, Recall = 0.943\n",
            "Iteration 8, LR1 with threshold 0.5: Accuracy = 0.938, Precision = 0.937, Recall = 0.966\n",
            "Iteration 8, LR1 with threshold 0.3: Accuracy = 0.938, Precision = 0.937, Recall = 0.966\n",
            "Iteration 8, LR1 with threshold 0.4: Accuracy = 0.938, Precision = 0.937, Recall = 0.966\n",
            "Iteration 8, LR1 with threshold 0.6: Accuracy = 0.938, Precision = 0.937, Recall = 0.966\n",
            "Iteration 8, LR1 with threshold 0.7: Accuracy = 0.938, Precision = 0.937, Recall = 0.966\n",
            "Iteration 9, LR1 with threshold 0.5: Accuracy = 0.936, Precision = 0.925, Recall = 0.977\n",
            "Iteration 9, LR1 with threshold 0.3: Accuracy = 0.936, Precision = 0.925, Recall = 0.977\n",
            "Iteration 9, LR1 with threshold 0.4: Accuracy = 0.936, Precision = 0.925, Recall = 0.977\n",
            "Iteration 9, LR1 with threshold 0.6: Accuracy = 0.936, Precision = 0.925, Recall = 0.977\n",
            "Iteration 9, LR1 with threshold 0.7: Accuracy = 0.936, Precision = 0.925, Recall = 0.977\n",
            "Iteration 10, LR1 with threshold 0.5: Accuracy = 0.940, Precision = 0.960, Recall = 0.943\n",
            "Iteration 10, LR1 with threshold 0.3: Accuracy = 0.940, Precision = 0.960, Recall = 0.943\n",
            "Iteration 10, LR1 with threshold 0.4: Accuracy = 0.940, Precision = 0.960, Recall = 0.943\n",
            "Iteration 10, LR1 with threshold 0.6: Accuracy = 0.940, Precision = 0.960, Recall = 0.943\n",
            "Iteration 10, LR1 with threshold 0.7: Accuracy = 0.940, Precision = 0.960, Recall = 0.943\n",
            "Average accuracy for 0.5, 0.3, 0.4, 0.6, 0.7 threshold: [0.93783304 0.93783304 0.93783304 0.93783304 0.93783304]\n",
            "Average precision for 0.5, 0.3, 0.4, 0.6, 0.7 threshold: [0.94669476 0.94669476 0.94669476 0.94669476 0.94669476]\n",
            "Average recall for 0.5, 0.3, 0.4, 0.6, 0.7 threshold: [0.95482955 0.95482955 0.95482955 0.95482955 0.95482955]\n"
          ]
        }
      ]
    },
    {
      "cell_type": "code",
      "source": [
        "accuracies = np.zeros((10, 5))\n",
        "precisions = np.zeros((10, 5))\n",
        "recalls = np.zeros((10, 5))\n",
        "\n",
        "for i in range(10):\n",
        "    lr1 = LogisticRegression(alpha=0.001)\n",
        "    theta1, cost_history1 = lr1.stochastic_gradient_descent(X.astype(float), y.astype(float))\n",
        "    thresholds = [0.5, 0.3, 0.4, 0.6, 0.7]\n",
        "    for j, threshold in enumerate(thresholds):\n",
        "        y_pred = lr1.predict(X, theta1, threshold=threshold)\n",
        "        accuracy = np.mean(y_pred == y)\n",
        "        precision = np.sum((y_pred == 1) & (y == 1)) / np.sum(y_pred == 1)\n",
        "        recall = np.sum((y_pred == 1) & (y == 1)) / np.sum(y == 1)\n",
        "        accuracies[i, j] = accuracy\n",
        "        precisions[i, j] = precision\n",
        "        recalls[i, j] = recall\n",
        "        print(f\"Iteration {i+1}, LR1 with threshold {threshold}: Accuracy = {accuracy:.3f}, Precision = {precision:.3f}, Recall = {recall:.3f}\")\n",
        "\n",
        "print(f\"Average accuracy for 0.5, 0.3, 0.4, 0.6, 0.7 threshold: {np.mean(accuracies, axis=0)}\")\n",
        "print(f\"Average precision for 0.5, 0.3, 0.4, 0.6, 0.7 threshold: {np.mean(precisions, axis=0)}\")\n",
        "print(f\"Average recall for 0.5, 0.3, 0.4, 0.6, 0.7 threshold: {np.mean(recalls, axis=0)}\")"
      ],
      "metadata": {
        "colab": {
          "base_uri": "https://localhost:8080/"
        },
        "id": "MlPxujQAiVB4",
        "outputId": "450f16f6-5b9b-4a44-9095-4c751840635b"
      },
      "execution_count": null,
      "outputs": [
        {
          "output_type": "stream",
          "name": "stderr",
          "text": [
            "<ipython-input-5-7bdc6e4aa47a>:13: RuntimeWarning: divide by zero encountered in log\n",
            "  J = (-1/m) * (y.T.dot(np.log(h)) + (1-y).T.dot(np.log(1-h)))\n",
            "<ipython-input-5-7bdc6e4aa47a>:8: RuntimeWarning: overflow encountered in exp\n",
            "  return 1 / (1 + np.exp(-z))\n"
          ]
        },
        {
          "output_type": "stream",
          "name": "stdout",
          "text": [
            "Iteration 1, LR1 with threshold 0.5: Accuracy = 0.940, Precision = 0.944, Recall = 0.960\n",
            "Iteration 1, LR1 with threshold 0.3: Accuracy = 0.941, Precision = 0.944, Recall = 0.963\n",
            "Iteration 1, LR1 with threshold 0.4: Accuracy = 0.941, Precision = 0.944, Recall = 0.963\n",
            "Iteration 1, LR1 with threshold 0.6: Accuracy = 0.940, Precision = 0.944, Recall = 0.960\n",
            "Iteration 1, LR1 with threshold 0.7: Accuracy = 0.940, Precision = 0.944, Recall = 0.960\n",
            "Iteration 2, LR1 with threshold 0.5: Accuracy = 0.940, Precision = 0.952, Recall = 0.952\n",
            "Iteration 2, LR1 with threshold 0.3: Accuracy = 0.941, Precision = 0.952, Recall = 0.955\n",
            "Iteration 2, LR1 with threshold 0.4: Accuracy = 0.940, Precision = 0.952, Recall = 0.952\n",
            "Iteration 2, LR1 with threshold 0.6: Accuracy = 0.940, Precision = 0.952, Recall = 0.952\n",
            "Iteration 2, LR1 with threshold 0.7: Accuracy = 0.940, Precision = 0.952, Recall = 0.952\n",
            "Iteration 3, LR1 with threshold 0.5: Accuracy = 0.877, Precision = 0.996, Recall = 0.807\n",
            "Iteration 3, LR1 with threshold 0.3: Accuracy = 0.877, Precision = 0.993, Recall = 0.810\n",
            "Iteration 3, LR1 with threshold 0.4: Accuracy = 0.879, Precision = 0.997, Recall = 0.810\n",
            "Iteration 3, LR1 with threshold 0.6: Accuracy = 0.877, Precision = 0.996, Recall = 0.807\n",
            "Iteration 3, LR1 with threshold 0.7: Accuracy = 0.877, Precision = 0.996, Recall = 0.807\n",
            "Iteration 4, LR1 with threshold 0.5: Accuracy = 0.929, Precision = 0.967, Recall = 0.918\n",
            "Iteration 4, LR1 with threshold 0.3: Accuracy = 0.931, Precision = 0.967, Recall = 0.920\n",
            "Iteration 4, LR1 with threshold 0.4: Accuracy = 0.929, Precision = 0.967, Recall = 0.918\n",
            "Iteration 4, LR1 with threshold 0.6: Accuracy = 0.929, Precision = 0.967, Recall = 0.918\n",
            "Iteration 4, LR1 with threshold 0.7: Accuracy = 0.925, Precision = 0.967, Recall = 0.912\n",
            "Iteration 5, LR1 with threshold 0.5: Accuracy = 0.934, Precision = 0.925, Recall = 0.974\n",
            "Iteration 5, LR1 with threshold 0.3: Accuracy = 0.934, Precision = 0.925, Recall = 0.974\n",
            "Iteration 5, LR1 with threshold 0.4: Accuracy = 0.934, Precision = 0.925, Recall = 0.974\n",
            "Iteration 5, LR1 with threshold 0.6: Accuracy = 0.934, Precision = 0.925, Recall = 0.974\n",
            "Iteration 5, LR1 with threshold 0.7: Accuracy = 0.934, Precision = 0.927, Recall = 0.972\n",
            "Iteration 6, LR1 with threshold 0.5: Accuracy = 0.888, Precision = 0.997, Recall = 0.824\n",
            "Iteration 6, LR1 with threshold 0.3: Accuracy = 0.890, Precision = 0.997, Recall = 0.827\n",
            "Iteration 6, LR1 with threshold 0.4: Accuracy = 0.890, Precision = 0.997, Recall = 0.827\n",
            "Iteration 6, LR1 with threshold 0.6: Accuracy = 0.886, Precision = 0.997, Recall = 0.821\n",
            "Iteration 6, LR1 with threshold 0.7: Accuracy = 0.886, Precision = 0.997, Recall = 0.821\n",
            "Iteration 7, LR1 with threshold 0.5: Accuracy = 0.922, Precision = 0.961, Recall = 0.912\n",
            "Iteration 7, LR1 with threshold 0.3: Accuracy = 0.925, Precision = 0.961, Recall = 0.918\n",
            "Iteration 7, LR1 with threshold 0.4: Accuracy = 0.924, Precision = 0.961, Recall = 0.915\n",
            "Iteration 7, LR1 with threshold 0.6: Accuracy = 0.922, Precision = 0.961, Recall = 0.912\n",
            "Iteration 7, LR1 with threshold 0.7: Accuracy = 0.922, Precision = 0.964, Recall = 0.909\n",
            "Iteration 8, LR1 with threshold 0.5: Accuracy = 0.929, Precision = 0.967, Recall = 0.918\n",
            "Iteration 8, LR1 with threshold 0.3: Accuracy = 0.931, Precision = 0.967, Recall = 0.920\n",
            "Iteration 8, LR1 with threshold 0.4: Accuracy = 0.929, Precision = 0.967, Recall = 0.918\n",
            "Iteration 8, LR1 with threshold 0.6: Accuracy = 0.927, Precision = 0.967, Recall = 0.915\n",
            "Iteration 8, LR1 with threshold 0.7: Accuracy = 0.924, Precision = 0.967, Recall = 0.909\n",
            "Iteration 9, LR1 with threshold 0.5: Accuracy = 0.941, Precision = 0.942, Recall = 0.966\n",
            "Iteration 9, LR1 with threshold 0.3: Accuracy = 0.941, Precision = 0.942, Recall = 0.966\n",
            "Iteration 9, LR1 with threshold 0.4: Accuracy = 0.941, Precision = 0.942, Recall = 0.966\n",
            "Iteration 9, LR1 with threshold 0.6: Accuracy = 0.941, Precision = 0.942, Recall = 0.966\n",
            "Iteration 9, LR1 with threshold 0.7: Accuracy = 0.941, Precision = 0.944, Recall = 0.963\n",
            "Iteration 10, LR1 with threshold 0.5: Accuracy = 0.940, Precision = 0.954, Recall = 0.949\n",
            "Iteration 10, LR1 with threshold 0.3: Accuracy = 0.940, Precision = 0.954, Recall = 0.949\n",
            "Iteration 10, LR1 with threshold 0.4: Accuracy = 0.940, Precision = 0.954, Recall = 0.949\n",
            "Iteration 10, LR1 with threshold 0.6: Accuracy = 0.938, Precision = 0.954, Recall = 0.946\n",
            "Iteration 10, LR1 with threshold 0.7: Accuracy = 0.938, Precision = 0.954, Recall = 0.946\n",
            "Average accuracy for 0.5, 0.3, 0.4, 0.6, 0.7 threshold: [0.92397869 0.92522202 0.92468917 0.92344583 0.92273535]\n",
            "Average precision for 0.5, 0.3, 0.4, 0.6, 0.7 threshold: [0.96047453 0.96020179 0.96050411 0.96045035 0.96116455]\n",
            "Average recall for 0.5, 0.3, 0.4, 0.6, 0.7 threshold: [0.91789773 0.92017045 0.91903409 0.91704545 0.91505682]\n"
          ]
        }
      ]
    },
    {
      "cell_type": "code",
      "source": [
        "accuracies = np.zeros((10, 5))\n",
        "precisions = np.zeros((10, 5))\n",
        "recalls = np.zeros((10, 5))\n",
        "\n",
        "for i in range(10):\n",
        "    lr1 = LogisticRegression(alpha=0.0001)\n",
        "    theta1, cost_history1 = lr1.stochastic_gradient_descent(X.astype(float), y.astype(float))\n",
        "    thresholds = [0.5, 0.3, 0.4, 0.6, 0.7]\n",
        "    for j, threshold in enumerate(thresholds):\n",
        "        y_pred = lr1.predict(X, theta1, threshold=threshold)\n",
        "        accuracy = np.mean(y_pred == y)\n",
        "        precision = np.sum((y_pred == 1) & (y == 1)) / np.sum(y_pred == 1)\n",
        "        recall = np.sum((y_pred == 1) & (y == 1)) / np.sum(y == 1)\n",
        "        accuracies[i, j] = accuracy\n",
        "        precisions[i, j] = precision\n",
        "        recalls[i, j] = recall\n",
        "        print(f\"Iteration {i+1}, LR1 with threshold {threshold}: Accuracy = {accuracy:.3f}, Precision = {precision:.3f}, Recall = {recall:.3f}\")\n",
        "\n",
        "print(f\"Average accuracy for 0.5, 0.3, 0.4, 0.6, 0.7 threshold: {np.mean(accuracies, axis=0)}\")\n",
        "print(f\"Average precision for 0.5, 0.3, 0.4, 0.6, 0.7 threshold: {np.mean(precisions, axis=0)}\")\n",
        "print(f\"Average recall for 0.5, 0.3, 0.4, 0.6, 0.7 threshold: {np.mean(recalls, axis=0)}\")"
      ],
      "metadata": {
        "colab": {
          "base_uri": "https://localhost:8080/"
        },
        "id": "mktHDJThiZSs",
        "outputId": "b6e216f2-baea-45de-c6e4-356a78fb7cb2"
      },
      "execution_count": null,
      "outputs": [
        {
          "output_type": "stream",
          "name": "stderr",
          "text": [
            "<ipython-input-5-7bdc6e4aa47a>:13: RuntimeWarning: divide by zero encountered in log\n",
            "  J = (-1/m) * (y.T.dot(np.log(h)) + (1-y).T.dot(np.log(1-h)))\n"
          ]
        },
        {
          "output_type": "stream",
          "name": "stdout",
          "text": [
            "Iteration 1, LR1 with threshold 0.5: Accuracy = 0.915, Precision = 0.972, Recall = 0.889\n",
            "Iteration 1, LR1 with threshold 0.3: Accuracy = 0.940, Precision = 0.962, Recall = 0.940\n",
            "Iteration 1, LR1 with threshold 0.4: Accuracy = 0.936, Precision = 0.973, Recall = 0.923\n",
            "Iteration 1, LR1 with threshold 0.6: Accuracy = 0.911, Precision = 0.981, Recall = 0.875\n",
            "Iteration 1, LR1 with threshold 0.7: Accuracy = 0.906, Precision = 0.984, Recall = 0.864\n",
            "Iteration 2, LR1 with threshold 0.5: Accuracy = 0.943, Precision = 0.952, Recall = 0.957\n",
            "Iteration 2, LR1 with threshold 0.3: Accuracy = 0.941, Precision = 0.942, Recall = 0.966\n",
            "Iteration 2, LR1 with threshold 0.4: Accuracy = 0.941, Precision = 0.944, Recall = 0.963\n",
            "Iteration 2, LR1 with threshold 0.6: Accuracy = 0.941, Precision = 0.954, Recall = 0.952\n",
            "Iteration 2, LR1 with threshold 0.7: Accuracy = 0.938, Precision = 0.957, Recall = 0.943\n",
            "Iteration 3, LR1 with threshold 0.5: Accuracy = 0.881, Precision = 0.997, Recall = 0.812\n",
            "Iteration 3, LR1 with threshold 0.3: Accuracy = 0.899, Precision = 0.987, Recall = 0.849\n",
            "Iteration 3, LR1 with threshold 0.4: Accuracy = 0.893, Precision = 0.993, Recall = 0.835\n",
            "Iteration 3, LR1 with threshold 0.6: Accuracy = 0.872, Precision = 0.996, Recall = 0.798\n",
            "Iteration 3, LR1 with threshold 0.7: Accuracy = 0.865, Precision = 1.000, Recall = 0.784\n",
            "Iteration 4, LR1 with threshold 0.5: Accuracy = 0.940, Precision = 0.954, Recall = 0.949\n",
            "Iteration 4, LR1 with threshold 0.3: Accuracy = 0.941, Precision = 0.944, Recall = 0.963\n",
            "Iteration 4, LR1 with threshold 0.4: Accuracy = 0.943, Precision = 0.952, Recall = 0.957\n",
            "Iteration 4, LR1 with threshold 0.6: Accuracy = 0.940, Precision = 0.957, Recall = 0.946\n",
            "Iteration 4, LR1 with threshold 0.7: Accuracy = 0.929, Precision = 0.956, Recall = 0.929\n",
            "Iteration 5, LR1 with threshold 0.5: Accuracy = 0.943, Precision = 0.949, Recall = 0.960\n",
            "Iteration 5, LR1 with threshold 0.3: Accuracy = 0.934, Precision = 0.929, Recall = 0.969\n",
            "Iteration 5, LR1 with threshold 0.4: Accuracy = 0.940, Precision = 0.939, Recall = 0.966\n",
            "Iteration 5, LR1 with threshold 0.6: Accuracy = 0.941, Precision = 0.952, Recall = 0.955\n",
            "Iteration 5, LR1 with threshold 0.7: Accuracy = 0.940, Precision = 0.954, Recall = 0.949\n",
            "Iteration 6, LR1 with threshold 0.5: Accuracy = 0.917, Precision = 0.966, Recall = 0.898\n",
            "Iteration 6, LR1 with threshold 0.3: Accuracy = 0.934, Precision = 0.962, Recall = 0.932\n",
            "Iteration 6, LR1 with threshold 0.4: Accuracy = 0.924, Precision = 0.961, Recall = 0.915\n",
            "Iteration 6, LR1 with threshold 0.6: Accuracy = 0.917, Precision = 0.981, Recall = 0.884\n",
            "Iteration 6, LR1 with threshold 0.7: Accuracy = 0.906, Precision = 0.981, Recall = 0.866\n",
            "Iteration 7, LR1 with threshold 0.5: Accuracy = 0.938, Precision = 0.949, Recall = 0.952\n",
            "Iteration 7, LR1 with threshold 0.3: Accuracy = 0.940, Precision = 0.937, Recall = 0.969\n",
            "Iteration 7, LR1 with threshold 0.4: Accuracy = 0.941, Precision = 0.947, Recall = 0.960\n",
            "Iteration 7, LR1 with threshold 0.6: Accuracy = 0.938, Precision = 0.954, Recall = 0.946\n",
            "Iteration 7, LR1 with threshold 0.7: Accuracy = 0.941, Precision = 0.960, Recall = 0.946\n",
            "Iteration 8, LR1 with threshold 0.5: Accuracy = 0.924, Precision = 0.903, Recall = 0.983\n",
            "Iteration 8, LR1 with threshold 0.3: Accuracy = 0.924, Precision = 0.899, Recall = 0.989\n",
            "Iteration 8, LR1 with threshold 0.4: Accuracy = 0.925, Precision = 0.904, Recall = 0.986\n",
            "Iteration 8, LR1 with threshold 0.6: Accuracy = 0.931, Precision = 0.915, Recall = 0.980\n",
            "Iteration 8, LR1 with threshold 0.7: Accuracy = 0.936, Precision = 0.927, Recall = 0.974\n",
            "Iteration 9, LR1 with threshold 0.5: Accuracy = 0.927, Precision = 0.906, Recall = 0.986\n",
            "Iteration 9, LR1 with threshold 0.3: Accuracy = 0.918, Precision = 0.892, Recall = 0.989\n",
            "Iteration 9, LR1 with threshold 0.4: Accuracy = 0.924, Precision = 0.899, Recall = 0.989\n",
            "Iteration 9, LR1 with threshold 0.6: Accuracy = 0.927, Precision = 0.908, Recall = 0.983\n",
            "Iteration 9, LR1 with threshold 0.7: Accuracy = 0.925, Precision = 0.910, Recall = 0.977\n",
            "Iteration 10, LR1 with threshold 0.5: Accuracy = 0.931, Precision = 0.962, Recall = 0.926\n",
            "Iteration 10, LR1 with threshold 0.3: Accuracy = 0.940, Precision = 0.957, Recall = 0.946\n",
            "Iteration 10, LR1 with threshold 0.4: Accuracy = 0.938, Precision = 0.959, Recall = 0.940\n",
            "Iteration 10, LR1 with threshold 0.6: Accuracy = 0.922, Precision = 0.967, Recall = 0.906\n",
            "Iteration 10, LR1 with threshold 0.7: Accuracy = 0.918, Precision = 0.978, Recall = 0.889\n",
            "Average accuracy for 0.5, 0.3, 0.4, 0.6, 0.7 threshold: [0.92575488 0.93108348 0.93055062 0.92397869 0.92042629]\n",
            "Average precision for 0.5, 0.3, 0.4, 0.6, 0.7 threshold: [0.95106874 0.94114003 0.94720544 0.95656493 0.96065837]\n",
            "Average recall for 0.5, 0.3, 0.4, 0.6, 0.7 threshold: [0.93125    0.95113636 0.94346591 0.92244318 0.91221591]\n"
          ]
        }
      ]
    },
    {
      "cell_type": "markdown",
      "source": [
        "## LR2"
      ],
      "metadata": {
        "id": "QudqilMFcPM1"
      }
    },
    {
      "cell_type": "markdown",
      "source": [
        "### Batch Gradient Descent With Different Learning Rates (Alpha)"
      ],
      "metadata": {
        "id": "2hK9NFspSeTd"
      }
    },
    {
      "cell_type": "code",
      "source": [
        "accuracies = np.zeros((10, 5))\n",
        "precisions = np.zeros((10, 5))\n",
        "recalls = np.zeros((10, 5))\n",
        "\n",
        "for i in range(10):\n",
        "    lr2 = LogisticRegression(alpha=0.01)\n",
        "    theta2, cost_history2 = lr2.batch_gradient_descent(X.astype(float), y.astype(float))\n",
        "    thresholds = [0.5, 0.3, 0.4, 0.6, 0.7]\n",
        "    for j, threshold in enumerate(thresholds):\n",
        "        y_pred = lr2.predict(X, theta2, threshold=threshold)\n",
        "        accuracy = np.mean(y_pred == y)\n",
        "        precision = np.sum((y_pred == 1) & (y == 1)) / np.sum(y_pred == 1)\n",
        "        recall = np.sum((y_pred == 1) & (y == 1)) / np.sum(y == 1)\n",
        "        accuracies[i, j] = accuracy\n",
        "        precisions[i, j] = precision\n",
        "        recalls[i, j] = recall\n",
        "        print(f\"Iteration {i+1}, LR2 with threshold {threshold}: Accuracy = {accuracy:.3f}, Precision = {precision:.3f}, Recall = {recall:.3f}\")\n",
        "\n",
        "print(f\"Average accuracy for 0.5, 0.3, 0.4, 0.6, 0.7 threshold: {np.mean(accuracies, axis=0)}\")\n",
        "print(f\"Average precision for 0.5, 0.3, 0.4, 0.6, 0.7 threshold: {np.mean(precisions, axis=0)}\")\n",
        "print(f\"Average recall for 0.5, 0.3, 0.4, 0.6, 0.7 threshold: {np.mean(recalls, axis=0)}\")"
      ],
      "metadata": {
        "id": "x36gfbhsb7X1",
        "colab": {
          "base_uri": "https://localhost:8080/"
        },
        "outputId": "f3c9b0aa-620d-4ae2-d0e4-9766c4bcfa75"
      },
      "execution_count": null,
      "outputs": [
        {
          "output_type": "stream",
          "name": "stdout",
          "text": [
            "Iteration 1, LR2 with threshold 0.5: Accuracy = 0.988, Precision = 0.986, Recall = 0.994\n",
            "Iteration 1, LR2 with threshold 0.3: Accuracy = 0.984, Precision = 0.975, Recall = 1.000\n",
            "Iteration 1, LR2 with threshold 0.4: Accuracy = 0.988, Precision = 0.981, Recall = 1.000\n",
            "Iteration 1, LR2 with threshold 0.6: Accuracy = 0.984, Precision = 0.986, Recall = 0.989\n",
            "Iteration 1, LR2 with threshold 0.7: Accuracy = 0.975, Precision = 0.989, Recall = 0.972\n",
            "Iteration 2, LR2 with threshold 0.5: Accuracy = 0.988, Precision = 0.986, Recall = 0.994\n",
            "Iteration 2, LR2 with threshold 0.3: Accuracy = 0.984, Precision = 0.975, Recall = 1.000\n",
            "Iteration 2, LR2 with threshold 0.4: Accuracy = 0.988, Precision = 0.981, Recall = 1.000\n",
            "Iteration 2, LR2 with threshold 0.6: Accuracy = 0.984, Precision = 0.986, Recall = 0.989\n",
            "Iteration 2, LR2 with threshold 0.7: Accuracy = 0.975, Precision = 0.989, Recall = 0.972\n",
            "Iteration 3, LR2 with threshold 0.5: Accuracy = 0.988, Precision = 0.986, Recall = 0.994\n",
            "Iteration 3, LR2 with threshold 0.3: Accuracy = 0.984, Precision = 0.975, Recall = 1.000\n",
            "Iteration 3, LR2 with threshold 0.4: Accuracy = 0.988, Precision = 0.981, Recall = 1.000\n",
            "Iteration 3, LR2 with threshold 0.6: Accuracy = 0.984, Precision = 0.986, Recall = 0.989\n",
            "Iteration 3, LR2 with threshold 0.7: Accuracy = 0.975, Precision = 0.989, Recall = 0.972\n",
            "Iteration 4, LR2 with threshold 0.5: Accuracy = 0.988, Precision = 0.986, Recall = 0.994\n",
            "Iteration 4, LR2 with threshold 0.3: Accuracy = 0.984, Precision = 0.975, Recall = 1.000\n",
            "Iteration 4, LR2 with threshold 0.4: Accuracy = 0.988, Precision = 0.981, Recall = 1.000\n",
            "Iteration 4, LR2 with threshold 0.6: Accuracy = 0.984, Precision = 0.986, Recall = 0.989\n",
            "Iteration 4, LR2 with threshold 0.7: Accuracy = 0.975, Precision = 0.989, Recall = 0.972\n",
            "Iteration 5, LR2 with threshold 0.5: Accuracy = 0.988, Precision = 0.986, Recall = 0.994\n",
            "Iteration 5, LR2 with threshold 0.3: Accuracy = 0.984, Precision = 0.975, Recall = 1.000\n",
            "Iteration 5, LR2 with threshold 0.4: Accuracy = 0.988, Precision = 0.981, Recall = 1.000\n",
            "Iteration 5, LR2 with threshold 0.6: Accuracy = 0.984, Precision = 0.986, Recall = 0.989\n",
            "Iteration 5, LR2 with threshold 0.7: Accuracy = 0.975, Precision = 0.989, Recall = 0.972\n",
            "Iteration 6, LR2 with threshold 0.5: Accuracy = 0.988, Precision = 0.986, Recall = 0.994\n",
            "Iteration 6, LR2 with threshold 0.3: Accuracy = 0.984, Precision = 0.975, Recall = 1.000\n",
            "Iteration 6, LR2 with threshold 0.4: Accuracy = 0.988, Precision = 0.981, Recall = 1.000\n",
            "Iteration 6, LR2 with threshold 0.6: Accuracy = 0.984, Precision = 0.986, Recall = 0.989\n",
            "Iteration 6, LR2 with threshold 0.7: Accuracy = 0.975, Precision = 0.989, Recall = 0.972\n",
            "Iteration 7, LR2 with threshold 0.5: Accuracy = 0.988, Precision = 0.986, Recall = 0.994\n",
            "Iteration 7, LR2 with threshold 0.3: Accuracy = 0.984, Precision = 0.975, Recall = 1.000\n",
            "Iteration 7, LR2 with threshold 0.4: Accuracy = 0.988, Precision = 0.981, Recall = 1.000\n",
            "Iteration 7, LR2 with threshold 0.6: Accuracy = 0.984, Precision = 0.986, Recall = 0.989\n",
            "Iteration 7, LR2 with threshold 0.7: Accuracy = 0.975, Precision = 0.989, Recall = 0.972\n",
            "Iteration 8, LR2 with threshold 0.5: Accuracy = 0.988, Precision = 0.986, Recall = 0.994\n",
            "Iteration 8, LR2 with threshold 0.3: Accuracy = 0.984, Precision = 0.975, Recall = 1.000\n",
            "Iteration 8, LR2 with threshold 0.4: Accuracy = 0.988, Precision = 0.981, Recall = 1.000\n",
            "Iteration 8, LR2 with threshold 0.6: Accuracy = 0.984, Precision = 0.986, Recall = 0.989\n",
            "Iteration 8, LR2 with threshold 0.7: Accuracy = 0.975, Precision = 0.989, Recall = 0.972\n",
            "Iteration 9, LR2 with threshold 0.5: Accuracy = 0.988, Precision = 0.986, Recall = 0.994\n",
            "Iteration 9, LR2 with threshold 0.3: Accuracy = 0.984, Precision = 0.975, Recall = 1.000\n",
            "Iteration 9, LR2 with threshold 0.4: Accuracy = 0.988, Precision = 0.981, Recall = 1.000\n",
            "Iteration 9, LR2 with threshold 0.6: Accuracy = 0.984, Precision = 0.986, Recall = 0.989\n",
            "Iteration 9, LR2 with threshold 0.7: Accuracy = 0.975, Precision = 0.989, Recall = 0.972\n",
            "Iteration 10, LR2 with threshold 0.5: Accuracy = 0.988, Precision = 0.986, Recall = 0.994\n",
            "Iteration 10, LR2 with threshold 0.3: Accuracy = 0.984, Precision = 0.975, Recall = 1.000\n",
            "Iteration 10, LR2 with threshold 0.4: Accuracy = 0.988, Precision = 0.981, Recall = 1.000\n",
            "Iteration 10, LR2 with threshold 0.6: Accuracy = 0.984, Precision = 0.986, Recall = 0.989\n",
            "Iteration 10, LR2 with threshold 0.7: Accuracy = 0.975, Precision = 0.989, Recall = 0.972\n",
            "Average accuracy for 0.5, 0.3, 0.4, 0.6, 0.7 threshold: [0.98769772 0.98418278 0.98769772 0.98418278 0.97539543]\n",
            "Average precision for 0.5, 0.3, 0.4, 0.6, 0.7 threshold: [0.98611111 0.97540984 0.98076923 0.98603352 0.98860399]\n",
            "Average recall for 0.5, 0.3, 0.4, 0.6, 0.7 threshold: [0.99439776 1.         1.         0.98879552 0.9719888 ]\n"
          ]
        }
      ]
    },
    {
      "cell_type": "code",
      "source": [
        "accuracies = np.zeros((10, 5))\n",
        "precisions = np.zeros((10, 5))\n",
        "recalls = np.zeros((10, 5))\n",
        "\n",
        "for i in range(10):\n",
        "    lr2 = LogisticRegression(alpha=0.001)\n",
        "    theta2, cost_history2 = lr2.batch_gradient_descent(X.astype(float), y.astype(float))\n",
        "    thresholds = [0.5, 0.3, 0.4, 0.6, 0.7]\n",
        "    for j, threshold in enumerate(thresholds):\n",
        "        y_pred = lr2.predict(X, theta2, threshold=threshold)\n",
        "        accuracy = np.mean(y_pred == y)\n",
        "        precision = np.sum((y_pred == 1) & (y == 1)) / np.sum(y_pred == 1)\n",
        "        recall = np.sum((y_pred == 1) & (y == 1)) / np.sum(y == 1)\n",
        "        accuracies[i, j] = accuracy\n",
        "        precisions[i, j] = precision\n",
        "        recalls[i, j] = recall\n",
        "        print(f\"Iteration {i+1}, LR2 with threshold {threshold}: Accuracy = {accuracy:.3f}, Precision = {precision:.3f}, Recall = {recall:.3f}\")\n",
        "\n",
        "print(f\"Average accuracy for 0.5, 0.3, 0.4, 0.6, 0.7 threshold: {np.mean(accuracies, axis=0)}\")\n",
        "print(f\"Average precision for 0.5, 0.3, 0.4, 0.6, 0.7 threshold: {np.mean(precisions, axis=0)}\")\n",
        "print(f\"Average recall for 0.5, 0.3, 0.4, 0.6, 0.7 threshold: {np.mean(recalls, axis=0)}\")"
      ],
      "metadata": {
        "id": "Wjar4MLK_xwT",
        "colab": {
          "base_uri": "https://localhost:8080/"
        },
        "outputId": "2bcfacc1-ced7-44b8-d6fe-4c152e322f63"
      },
      "execution_count": null,
      "outputs": [
        {
          "output_type": "stream",
          "name": "stdout",
          "text": [
            "Iteration 1, LR2 with threshold 0.5: Accuracy = 0.984, Precision = 0.981, Recall = 0.994\n",
            "Iteration 1, LR2 with threshold 0.3: Accuracy = 0.960, Precision = 0.939, Recall = 1.000\n",
            "Iteration 1, LR2 with threshold 0.4: Accuracy = 0.974, Precision = 0.962, Recall = 0.997\n",
            "Iteration 1, LR2 with threshold 0.6: Accuracy = 0.975, Precision = 0.986, Recall = 0.975\n",
            "Iteration 1, LR2 with threshold 0.7: Accuracy = 0.965, Precision = 0.988, Recall = 0.955\n",
            "Iteration 2, LR2 with threshold 0.5: Accuracy = 0.984, Precision = 0.981, Recall = 0.994\n",
            "Iteration 2, LR2 with threshold 0.3: Accuracy = 0.960, Precision = 0.939, Recall = 1.000\n",
            "Iteration 2, LR2 with threshold 0.4: Accuracy = 0.974, Precision = 0.962, Recall = 0.997\n",
            "Iteration 2, LR2 with threshold 0.6: Accuracy = 0.975, Precision = 0.986, Recall = 0.975\n",
            "Iteration 2, LR2 with threshold 0.7: Accuracy = 0.965, Precision = 0.988, Recall = 0.955\n",
            "Iteration 3, LR2 with threshold 0.5: Accuracy = 0.984, Precision = 0.981, Recall = 0.994\n",
            "Iteration 3, LR2 with threshold 0.3: Accuracy = 0.960, Precision = 0.939, Recall = 1.000\n",
            "Iteration 3, LR2 with threshold 0.4: Accuracy = 0.974, Precision = 0.962, Recall = 0.997\n",
            "Iteration 3, LR2 with threshold 0.6: Accuracy = 0.975, Precision = 0.986, Recall = 0.975\n",
            "Iteration 3, LR2 with threshold 0.7: Accuracy = 0.965, Precision = 0.988, Recall = 0.955\n",
            "Iteration 4, LR2 with threshold 0.5: Accuracy = 0.984, Precision = 0.981, Recall = 0.994\n",
            "Iteration 4, LR2 with threshold 0.3: Accuracy = 0.960, Precision = 0.939, Recall = 1.000\n",
            "Iteration 4, LR2 with threshold 0.4: Accuracy = 0.974, Precision = 0.962, Recall = 0.997\n",
            "Iteration 4, LR2 with threshold 0.6: Accuracy = 0.975, Precision = 0.986, Recall = 0.975\n",
            "Iteration 4, LR2 with threshold 0.7: Accuracy = 0.965, Precision = 0.988, Recall = 0.955\n",
            "Iteration 5, LR2 with threshold 0.5: Accuracy = 0.984, Precision = 0.981, Recall = 0.994\n",
            "Iteration 5, LR2 with threshold 0.3: Accuracy = 0.960, Precision = 0.939, Recall = 1.000\n",
            "Iteration 5, LR2 with threshold 0.4: Accuracy = 0.974, Precision = 0.962, Recall = 0.997\n",
            "Iteration 5, LR2 with threshold 0.6: Accuracy = 0.975, Precision = 0.986, Recall = 0.975\n",
            "Iteration 5, LR2 with threshold 0.7: Accuracy = 0.965, Precision = 0.988, Recall = 0.955\n",
            "Iteration 6, LR2 with threshold 0.5: Accuracy = 0.984, Precision = 0.981, Recall = 0.994\n",
            "Iteration 6, LR2 with threshold 0.3: Accuracy = 0.960, Precision = 0.939, Recall = 1.000\n",
            "Iteration 6, LR2 with threshold 0.4: Accuracy = 0.974, Precision = 0.962, Recall = 0.997\n",
            "Iteration 6, LR2 with threshold 0.6: Accuracy = 0.975, Precision = 0.986, Recall = 0.975\n",
            "Iteration 6, LR2 with threshold 0.7: Accuracy = 0.965, Precision = 0.988, Recall = 0.955\n",
            "Iteration 7, LR2 with threshold 0.5: Accuracy = 0.984, Precision = 0.981, Recall = 0.994\n",
            "Iteration 7, LR2 with threshold 0.3: Accuracy = 0.960, Precision = 0.939, Recall = 1.000\n",
            "Iteration 7, LR2 with threshold 0.4: Accuracy = 0.974, Precision = 0.962, Recall = 0.997\n",
            "Iteration 7, LR2 with threshold 0.6: Accuracy = 0.975, Precision = 0.986, Recall = 0.975\n",
            "Iteration 7, LR2 with threshold 0.7: Accuracy = 0.965, Precision = 0.988, Recall = 0.955\n",
            "Iteration 8, LR2 with threshold 0.5: Accuracy = 0.984, Precision = 0.981, Recall = 0.994\n",
            "Iteration 8, LR2 with threshold 0.3: Accuracy = 0.960, Precision = 0.939, Recall = 1.000\n",
            "Iteration 8, LR2 with threshold 0.4: Accuracy = 0.974, Precision = 0.962, Recall = 0.997\n",
            "Iteration 8, LR2 with threshold 0.6: Accuracy = 0.975, Precision = 0.986, Recall = 0.975\n",
            "Iteration 8, LR2 with threshold 0.7: Accuracy = 0.965, Precision = 0.988, Recall = 0.955\n",
            "Iteration 9, LR2 with threshold 0.5: Accuracy = 0.984, Precision = 0.981, Recall = 0.994\n",
            "Iteration 9, LR2 with threshold 0.3: Accuracy = 0.960, Precision = 0.939, Recall = 1.000\n",
            "Iteration 9, LR2 with threshold 0.4: Accuracy = 0.974, Precision = 0.962, Recall = 0.997\n",
            "Iteration 9, LR2 with threshold 0.6: Accuracy = 0.975, Precision = 0.986, Recall = 0.975\n",
            "Iteration 9, LR2 with threshold 0.7: Accuracy = 0.965, Precision = 0.988, Recall = 0.955\n",
            "Iteration 10, LR2 with threshold 0.5: Accuracy = 0.984, Precision = 0.981, Recall = 0.994\n",
            "Iteration 10, LR2 with threshold 0.3: Accuracy = 0.960, Precision = 0.939, Recall = 1.000\n",
            "Iteration 10, LR2 with threshold 0.4: Accuracy = 0.974, Precision = 0.962, Recall = 0.997\n",
            "Iteration 10, LR2 with threshold 0.6: Accuracy = 0.975, Precision = 0.986, Recall = 0.975\n",
            "Iteration 10, LR2 with threshold 0.7: Accuracy = 0.965, Precision = 0.988, Recall = 0.955\n",
            "Average accuracy for 0.5, 0.3, 0.4, 0.6, 0.7 threshold: [0.98418278 0.95957821 0.97363796 0.97539543 0.96485062]\n",
            "Average precision for 0.5, 0.3, 0.4, 0.6, 0.7 threshold: [0.98066298 0.93947368 0.96216216 0.98583569 0.9884058 ]\n",
            "Average recall for 0.5, 0.3, 0.4, 0.6, 0.7 threshold: [0.99439776 1.         0.99719888 0.97478992 0.95518207]\n"
          ]
        }
      ]
    },
    {
      "cell_type": "code",
      "source": [
        "accuracies = np.zeros((10, 5))\n",
        "precisions = np.zeros((10, 5))\n",
        "recalls = np.zeros((10, 5))\n",
        "\n",
        "for i in range(10):\n",
        "    lr2 = LogisticRegression(alpha=0.0001)\n",
        "    theta2, cost_history2 = lr2.batch_gradient_descent(X.astype(float), y.astype(float))\n",
        "    thresholds = [0.5, 0.3, 0.4, 0.6, 0.7]\n",
        "    for j, threshold in enumerate(thresholds):\n",
        "        y_pred = lr2.predict(X, theta2, threshold=threshold)\n",
        "        accuracy = np.mean(y_pred == y)\n",
        "        precision = np.sum((y_pred == 1) & (y == 1)) / np.sum(y_pred == 1)\n",
        "        recall = np.sum((y_pred == 1) & (y == 1)) / np.sum(y == 1)\n",
        "        accuracies[i, j] = accuracy\n",
        "        precisions[i, j] = precision\n",
        "        recalls[i, j] = recall\n",
        "        print(f\"Iteration {i+1}, LR2 with threshold {threshold}: Accuracy = {accuracy:.3f}, Precision = {precision:.3f}, Recall = {recall:.3f}\")\n",
        "\n",
        "print(f\"Average accuracy for 0.5, 0.3, 0.4, 0.6, 0.7 threshold: {np.mean(accuracies, axis=0)}\")\n",
        "print(f\"Average precision for 0.5, 0.3, 0.4, 0.6, 0.7 threshold: {np.mean(precisions, axis=0)}\")\n",
        "print(f\"Average recall for 0.5, 0.3, 0.4, 0.6, 0.7 threshold: {np.mean(recalls, axis=0)}\")"
      ],
      "metadata": {
        "id": "47F-jjyg_yVi",
        "colab": {
          "base_uri": "https://localhost:8080/"
        },
        "outputId": "63ffa76d-3044-4f8c-901d-8ac8c1acb0bb"
      },
      "execution_count": null,
      "outputs": [
        {
          "output_type": "stream",
          "name": "stdout",
          "text": [
            "Iteration 1, LR2 with threshold 0.5: Accuracy = 0.963, Precision = 0.969, Recall = 0.972\n",
            "Iteration 1, LR2 with threshold 0.3: Accuracy = 0.938, Precision = 0.911, Recall = 1.000\n",
            "Iteration 1, LR2 with threshold 0.4: Accuracy = 0.951, Precision = 0.932, Recall = 0.994\n",
            "Iteration 1, LR2 with threshold 0.6: Accuracy = 0.942, Precision = 0.985, Recall = 0.922\n",
            "Iteration 1, LR2 with threshold 0.7: Accuracy = 0.896, Precision = 0.990, Recall = 0.843\n",
            "Iteration 2, LR2 with threshold 0.5: Accuracy = 0.963, Precision = 0.969, Recall = 0.972\n",
            "Iteration 2, LR2 with threshold 0.3: Accuracy = 0.938, Precision = 0.911, Recall = 1.000\n",
            "Iteration 2, LR2 with threshold 0.4: Accuracy = 0.951, Precision = 0.932, Recall = 0.994\n",
            "Iteration 2, LR2 with threshold 0.6: Accuracy = 0.942, Precision = 0.985, Recall = 0.922\n",
            "Iteration 2, LR2 with threshold 0.7: Accuracy = 0.896, Precision = 0.990, Recall = 0.843\n",
            "Iteration 3, LR2 with threshold 0.5: Accuracy = 0.963, Precision = 0.969, Recall = 0.972\n",
            "Iteration 3, LR2 with threshold 0.3: Accuracy = 0.938, Precision = 0.911, Recall = 1.000\n",
            "Iteration 3, LR2 with threshold 0.4: Accuracy = 0.951, Precision = 0.932, Recall = 0.994\n",
            "Iteration 3, LR2 with threshold 0.6: Accuracy = 0.942, Precision = 0.985, Recall = 0.922\n",
            "Iteration 3, LR2 with threshold 0.7: Accuracy = 0.896, Precision = 0.990, Recall = 0.843\n",
            "Iteration 4, LR2 with threshold 0.5: Accuracy = 0.963, Precision = 0.969, Recall = 0.972\n",
            "Iteration 4, LR2 with threshold 0.3: Accuracy = 0.938, Precision = 0.911, Recall = 1.000\n",
            "Iteration 4, LR2 with threshold 0.4: Accuracy = 0.951, Precision = 0.932, Recall = 0.994\n",
            "Iteration 4, LR2 with threshold 0.6: Accuracy = 0.942, Precision = 0.985, Recall = 0.922\n",
            "Iteration 4, LR2 with threshold 0.7: Accuracy = 0.896, Precision = 0.990, Recall = 0.843\n",
            "Iteration 5, LR2 with threshold 0.5: Accuracy = 0.963, Precision = 0.969, Recall = 0.972\n",
            "Iteration 5, LR2 with threshold 0.3: Accuracy = 0.938, Precision = 0.911, Recall = 1.000\n",
            "Iteration 5, LR2 with threshold 0.4: Accuracy = 0.951, Precision = 0.932, Recall = 0.994\n",
            "Iteration 5, LR2 with threshold 0.6: Accuracy = 0.942, Precision = 0.985, Recall = 0.922\n",
            "Iteration 5, LR2 with threshold 0.7: Accuracy = 0.896, Precision = 0.990, Recall = 0.843\n",
            "Iteration 6, LR2 with threshold 0.5: Accuracy = 0.963, Precision = 0.969, Recall = 0.972\n",
            "Iteration 6, LR2 with threshold 0.3: Accuracy = 0.938, Precision = 0.911, Recall = 1.000\n",
            "Iteration 6, LR2 with threshold 0.4: Accuracy = 0.951, Precision = 0.932, Recall = 0.994\n",
            "Iteration 6, LR2 with threshold 0.6: Accuracy = 0.942, Precision = 0.985, Recall = 0.922\n",
            "Iteration 6, LR2 with threshold 0.7: Accuracy = 0.896, Precision = 0.990, Recall = 0.843\n",
            "Iteration 7, LR2 with threshold 0.5: Accuracy = 0.963, Precision = 0.969, Recall = 0.972\n",
            "Iteration 7, LR2 with threshold 0.3: Accuracy = 0.938, Precision = 0.911, Recall = 1.000\n",
            "Iteration 7, LR2 with threshold 0.4: Accuracy = 0.951, Precision = 0.932, Recall = 0.994\n",
            "Iteration 7, LR2 with threshold 0.6: Accuracy = 0.942, Precision = 0.985, Recall = 0.922\n",
            "Iteration 7, LR2 with threshold 0.7: Accuracy = 0.896, Precision = 0.990, Recall = 0.843\n",
            "Iteration 8, LR2 with threshold 0.5: Accuracy = 0.963, Precision = 0.969, Recall = 0.972\n",
            "Iteration 8, LR2 with threshold 0.3: Accuracy = 0.938, Precision = 0.911, Recall = 1.000\n",
            "Iteration 8, LR2 with threshold 0.4: Accuracy = 0.951, Precision = 0.932, Recall = 0.994\n",
            "Iteration 8, LR2 with threshold 0.6: Accuracy = 0.942, Precision = 0.985, Recall = 0.922\n",
            "Iteration 8, LR2 with threshold 0.7: Accuracy = 0.896, Precision = 0.990, Recall = 0.843\n",
            "Iteration 9, LR2 with threshold 0.5: Accuracy = 0.963, Precision = 0.969, Recall = 0.972\n",
            "Iteration 9, LR2 with threshold 0.3: Accuracy = 0.938, Precision = 0.911, Recall = 1.000\n",
            "Iteration 9, LR2 with threshold 0.4: Accuracy = 0.951, Precision = 0.932, Recall = 0.994\n",
            "Iteration 9, LR2 with threshold 0.6: Accuracy = 0.942, Precision = 0.985, Recall = 0.922\n",
            "Iteration 9, LR2 with threshold 0.7: Accuracy = 0.896, Precision = 0.990, Recall = 0.843\n",
            "Iteration 10, LR2 with threshold 0.5: Accuracy = 0.963, Precision = 0.969, Recall = 0.972\n",
            "Iteration 10, LR2 with threshold 0.3: Accuracy = 0.938, Precision = 0.911, Recall = 1.000\n",
            "Iteration 10, LR2 with threshold 0.4: Accuracy = 0.951, Precision = 0.932, Recall = 0.994\n",
            "Iteration 10, LR2 with threshold 0.6: Accuracy = 0.942, Precision = 0.985, Recall = 0.922\n",
            "Iteration 10, LR2 with threshold 0.7: Accuracy = 0.896, Precision = 0.990, Recall = 0.843\n",
            "Average accuracy for 0.5, 0.3, 0.4, 0.6, 0.7 threshold: [0.96309315 0.93848858 0.95079086 0.94200351 0.89630931]\n",
            "Average precision for 0.5, 0.3, 0.4, 0.6, 0.7 threshold: [0.96927374 0.91071429 0.93175853 0.98502994 0.99013158]\n",
            "Average recall for 0.5, 0.3, 0.4, 0.6, 0.7 threshold: [0.9719888  1.         0.99439776 0.92156863 0.84313725]\n"
          ]
        }
      ]
    },
    {
      "cell_type": "markdown",
      "source": [
        "###  Mini Batch Gradient Descent With Different Learning Rates (Alpha)"
      ],
      "metadata": {
        "id": "Iw5wE24dSkSp"
      }
    },
    {
      "cell_type": "code",
      "source": [
        "accuracies = np.zeros((10, 5))\n",
        "precisions = np.zeros((10, 5))\n",
        "recalls = np.zeros((10, 5))\n",
        "\n",
        "for i in range(10):\n",
        "    lr2 = LogisticRegression(alpha=0.01)\n",
        "    theta2, cost_history2 = lr2.mini_batch_gradient_descent(X.astype(float), y.astype(float))\n",
        "    thresholds = [0.5, 0.3, 0.4, 0.6, 0.7]\n",
        "    for j, threshold in enumerate(thresholds):\n",
        "        y_pred = lr2.predict(X, theta2, threshold=threshold)\n",
        "        accuracy = np.mean(y_pred == y)\n",
        "        precision = np.sum((y_pred == 1) & (y == 1)) / np.sum(y_pred == 1)\n",
        "        recall = np.sum((y_pred == 1) & (y == 1)) / np.sum(y == 1)\n",
        "        accuracies[i, j] = accuracy\n",
        "        precisions[i, j] = precision\n",
        "        recalls[i, j] = recall\n",
        "        print(f\"Iteration {i+1}, LR2 with threshold {threshold}: Accuracy = {accuracy:.3f}, Precision = {precision:.3f}, Recall = {recall:.3f}\")\n",
        "\n",
        "print(f\"Average accuracy for 0.5, 0.3, 0.4, 0.6, 0.7 threshold: {np.mean(accuracies, axis=0)}\")\n",
        "print(f\"Average precision for 0.5, 0.3, 0.4, 0.6, 0.7 threshold: {np.mean(precisions, axis=0)}\")\n",
        "print(f\"Average recall for 0.5, 0.3, 0.4, 0.6, 0.7 threshold: {np.mean(recalls, axis=0)}\")"
      ],
      "metadata": {
        "id": "XX3k_IzgSvoV",
        "colab": {
          "base_uri": "https://localhost:8080/"
        },
        "outputId": "d8ba4ff2-8799-485d-9e15-06084aaa4baf"
      },
      "execution_count": null,
      "outputs": [
        {
          "output_type": "stream",
          "name": "stdout",
          "text": [
            "Iteration 1, LR2 with threshold 0.5: Accuracy = 0.988, Precision = 0.986, Recall = 0.994\n",
            "Iteration 1, LR2 with threshold 0.3: Accuracy = 0.984, Precision = 0.975, Recall = 1.000\n",
            "Iteration 1, LR2 with threshold 0.4: Accuracy = 0.988, Precision = 0.981, Recall = 1.000\n",
            "Iteration 1, LR2 with threshold 0.6: Accuracy = 0.984, Precision = 0.986, Recall = 0.989\n",
            "Iteration 1, LR2 with threshold 0.7: Accuracy = 0.975, Precision = 0.989, Recall = 0.972\n",
            "Iteration 2, LR2 with threshold 0.5: Accuracy = 0.988, Precision = 0.986, Recall = 0.994\n",
            "Iteration 2, LR2 with threshold 0.3: Accuracy = 0.984, Precision = 0.975, Recall = 1.000\n",
            "Iteration 2, LR2 with threshold 0.4: Accuracy = 0.988, Precision = 0.981, Recall = 1.000\n",
            "Iteration 2, LR2 with threshold 0.6: Accuracy = 0.984, Precision = 0.986, Recall = 0.989\n",
            "Iteration 2, LR2 with threshold 0.7: Accuracy = 0.975, Precision = 0.989, Recall = 0.972\n",
            "Iteration 3, LR2 with threshold 0.5: Accuracy = 0.988, Precision = 0.986, Recall = 0.994\n",
            "Iteration 3, LR2 with threshold 0.3: Accuracy = 0.984, Precision = 0.975, Recall = 1.000\n",
            "Iteration 3, LR2 with threshold 0.4: Accuracy = 0.988, Precision = 0.981, Recall = 1.000\n",
            "Iteration 3, LR2 with threshold 0.6: Accuracy = 0.984, Precision = 0.986, Recall = 0.989\n",
            "Iteration 3, LR2 with threshold 0.7: Accuracy = 0.975, Precision = 0.989, Recall = 0.972\n",
            "Iteration 4, LR2 with threshold 0.5: Accuracy = 0.988, Precision = 0.986, Recall = 0.994\n",
            "Iteration 4, LR2 with threshold 0.3: Accuracy = 0.984, Precision = 0.975, Recall = 1.000\n",
            "Iteration 4, LR2 with threshold 0.4: Accuracy = 0.988, Precision = 0.981, Recall = 1.000\n",
            "Iteration 4, LR2 with threshold 0.6: Accuracy = 0.984, Precision = 0.986, Recall = 0.989\n",
            "Iteration 4, LR2 with threshold 0.7: Accuracy = 0.975, Precision = 0.989, Recall = 0.972\n",
            "Iteration 5, LR2 with threshold 0.5: Accuracy = 0.988, Precision = 0.986, Recall = 0.994\n",
            "Iteration 5, LR2 with threshold 0.3: Accuracy = 0.984, Precision = 0.975, Recall = 1.000\n",
            "Iteration 5, LR2 with threshold 0.4: Accuracy = 0.988, Precision = 0.981, Recall = 1.000\n",
            "Iteration 5, LR2 with threshold 0.6: Accuracy = 0.984, Precision = 0.986, Recall = 0.989\n",
            "Iteration 5, LR2 with threshold 0.7: Accuracy = 0.975, Precision = 0.989, Recall = 0.972\n",
            "Iteration 6, LR2 with threshold 0.5: Accuracy = 0.988, Precision = 0.986, Recall = 0.994\n",
            "Iteration 6, LR2 with threshold 0.3: Accuracy = 0.984, Precision = 0.975, Recall = 1.000\n",
            "Iteration 6, LR2 with threshold 0.4: Accuracy = 0.988, Precision = 0.981, Recall = 1.000\n",
            "Iteration 6, LR2 with threshold 0.6: Accuracy = 0.984, Precision = 0.986, Recall = 0.989\n",
            "Iteration 6, LR2 with threshold 0.7: Accuracy = 0.975, Precision = 0.989, Recall = 0.972\n",
            "Iteration 7, LR2 with threshold 0.5: Accuracy = 0.988, Precision = 0.986, Recall = 0.994\n",
            "Iteration 7, LR2 with threshold 0.3: Accuracy = 0.984, Precision = 0.975, Recall = 1.000\n",
            "Iteration 7, LR2 with threshold 0.4: Accuracy = 0.988, Precision = 0.981, Recall = 1.000\n",
            "Iteration 7, LR2 with threshold 0.6: Accuracy = 0.984, Precision = 0.986, Recall = 0.989\n",
            "Iteration 7, LR2 with threshold 0.7: Accuracy = 0.975, Precision = 0.989, Recall = 0.972\n",
            "Iteration 8, LR2 with threshold 0.5: Accuracy = 0.988, Precision = 0.986, Recall = 0.994\n",
            "Iteration 8, LR2 with threshold 0.3: Accuracy = 0.984, Precision = 0.975, Recall = 1.000\n",
            "Iteration 8, LR2 with threshold 0.4: Accuracy = 0.988, Precision = 0.981, Recall = 1.000\n",
            "Iteration 8, LR2 with threshold 0.6: Accuracy = 0.984, Precision = 0.986, Recall = 0.989\n",
            "Iteration 8, LR2 with threshold 0.7: Accuracy = 0.975, Precision = 0.989, Recall = 0.972\n",
            "Iteration 9, LR2 with threshold 0.5: Accuracy = 0.988, Precision = 0.986, Recall = 0.994\n",
            "Iteration 9, LR2 with threshold 0.3: Accuracy = 0.984, Precision = 0.975, Recall = 1.000\n",
            "Iteration 9, LR2 with threshold 0.4: Accuracy = 0.988, Precision = 0.981, Recall = 1.000\n",
            "Iteration 9, LR2 with threshold 0.6: Accuracy = 0.984, Precision = 0.986, Recall = 0.989\n",
            "Iteration 9, LR2 with threshold 0.7: Accuracy = 0.975, Precision = 0.989, Recall = 0.972\n",
            "Iteration 10, LR2 with threshold 0.5: Accuracy = 0.988, Precision = 0.986, Recall = 0.994\n",
            "Iteration 10, LR2 with threshold 0.3: Accuracy = 0.984, Precision = 0.975, Recall = 1.000\n",
            "Iteration 10, LR2 with threshold 0.4: Accuracy = 0.988, Precision = 0.981, Recall = 1.000\n",
            "Iteration 10, LR2 with threshold 0.6: Accuracy = 0.984, Precision = 0.986, Recall = 0.989\n",
            "Iteration 10, LR2 with threshold 0.7: Accuracy = 0.975, Precision = 0.989, Recall = 0.972\n",
            "Average accuracy for 0.5, 0.3, 0.4, 0.6, 0.7 threshold: [0.98769772 0.98418278 0.98769772 0.98418278 0.97539543]\n",
            "Average precision for 0.5, 0.3, 0.4, 0.6, 0.7 threshold: [0.98611111 0.97540984 0.98076923 0.98603352 0.98860399]\n",
            "Average recall for 0.5, 0.3, 0.4, 0.6, 0.7 threshold: [0.99439776 1.         1.         0.98879552 0.9719888 ]\n"
          ]
        }
      ]
    },
    {
      "cell_type": "code",
      "source": [
        "accuracies = np.zeros((10, 5))\n",
        "precisions = np.zeros((10, 5))\n",
        "recalls = np.zeros((10, 5))\n",
        "\n",
        "for i in range(10):\n",
        "    lr2 = LogisticRegression(alpha=0.001)\n",
        "    theta2, cost_history2 = lr2.mini_batch_gradient_descent(X.astype(float), y.astype(float))\n",
        "    thresholds = [0.5, 0.3, 0.4, 0.6, 0.7]\n",
        "    for j, threshold in enumerate(thresholds):\n",
        "        y_pred = lr2.predict(X, theta2, threshold=threshold)\n",
        "        accuracy = np.mean(y_pred == y)\n",
        "        precision = np.sum((y_pred == 1) & (y == 1)) / np.sum(y_pred == 1)\n",
        "        recall = np.sum((y_pred == 1) & (y == 1)) / np.sum(y == 1)\n",
        "        accuracies[i, j] = accuracy\n",
        "        precisions[i, j] = precision\n",
        "        recalls[i, j] = recall\n",
        "        print(f\"Iteration {i+1}, LR2 with threshold {threshold}: Accuracy = {accuracy:.3f}, Precision = {precision:.3f}, Recall = {recall:.3f}\")\n",
        "\n",
        "print(f\"Average accuracy for 0.5, 0.3, 0.4, 0.6, 0.7 threshold: {np.mean(accuracies, axis=0)}\")\n",
        "print(f\"Average precision for 0.5, 0.3, 0.4, 0.6, 0.7 threshold: {np.mean(precisions, axis=0)}\")\n",
        "print(f\"Average recall for 0.5, 0.3, 0.4, 0.6, 0.7 threshold: {np.mean(recalls, axis=0)}\")"
      ],
      "metadata": {
        "colab": {
          "base_uri": "https://localhost:8080/"
        },
        "id": "BxHX7o2xlU5t",
        "outputId": "5131c3ff-6a65-4e9d-f368-434da3653462"
      },
      "execution_count": null,
      "outputs": [
        {
          "output_type": "stream",
          "name": "stdout",
          "text": [
            "Iteration 1, LR2 with threshold 0.5: Accuracy = 0.984, Precision = 0.981, Recall = 0.994\n",
            "Iteration 1, LR2 with threshold 0.3: Accuracy = 0.960, Precision = 0.939, Recall = 1.000\n",
            "Iteration 1, LR2 with threshold 0.4: Accuracy = 0.974, Precision = 0.962, Recall = 0.997\n",
            "Iteration 1, LR2 with threshold 0.6: Accuracy = 0.975, Precision = 0.986, Recall = 0.975\n",
            "Iteration 1, LR2 with threshold 0.7: Accuracy = 0.965, Precision = 0.988, Recall = 0.955\n",
            "Iteration 2, LR2 with threshold 0.5: Accuracy = 0.984, Precision = 0.981, Recall = 0.994\n",
            "Iteration 2, LR2 with threshold 0.3: Accuracy = 0.960, Precision = 0.939, Recall = 1.000\n",
            "Iteration 2, LR2 with threshold 0.4: Accuracy = 0.974, Precision = 0.962, Recall = 0.997\n",
            "Iteration 2, LR2 with threshold 0.6: Accuracy = 0.975, Precision = 0.986, Recall = 0.975\n",
            "Iteration 2, LR2 with threshold 0.7: Accuracy = 0.965, Precision = 0.988, Recall = 0.955\n",
            "Iteration 3, LR2 with threshold 0.5: Accuracy = 0.984, Precision = 0.981, Recall = 0.994\n",
            "Iteration 3, LR2 with threshold 0.3: Accuracy = 0.960, Precision = 0.939, Recall = 1.000\n",
            "Iteration 3, LR2 with threshold 0.4: Accuracy = 0.974, Precision = 0.962, Recall = 0.997\n",
            "Iteration 3, LR2 with threshold 0.6: Accuracy = 0.975, Precision = 0.986, Recall = 0.975\n",
            "Iteration 3, LR2 with threshold 0.7: Accuracy = 0.965, Precision = 0.988, Recall = 0.955\n",
            "Iteration 4, LR2 with threshold 0.5: Accuracy = 0.984, Precision = 0.981, Recall = 0.994\n",
            "Iteration 4, LR2 with threshold 0.3: Accuracy = 0.960, Precision = 0.939, Recall = 1.000\n",
            "Iteration 4, LR2 with threshold 0.4: Accuracy = 0.974, Precision = 0.962, Recall = 0.997\n",
            "Iteration 4, LR2 with threshold 0.6: Accuracy = 0.975, Precision = 0.986, Recall = 0.975\n",
            "Iteration 4, LR2 with threshold 0.7: Accuracy = 0.965, Precision = 0.988, Recall = 0.955\n",
            "Iteration 5, LR2 with threshold 0.5: Accuracy = 0.984, Precision = 0.981, Recall = 0.994\n",
            "Iteration 5, LR2 with threshold 0.3: Accuracy = 0.960, Precision = 0.939, Recall = 1.000\n",
            "Iteration 5, LR2 with threshold 0.4: Accuracy = 0.974, Precision = 0.962, Recall = 0.997\n",
            "Iteration 5, LR2 with threshold 0.6: Accuracy = 0.975, Precision = 0.986, Recall = 0.975\n",
            "Iteration 5, LR2 with threshold 0.7: Accuracy = 0.965, Precision = 0.988, Recall = 0.955\n",
            "Iteration 6, LR2 with threshold 0.5: Accuracy = 0.984, Precision = 0.981, Recall = 0.994\n",
            "Iteration 6, LR2 with threshold 0.3: Accuracy = 0.960, Precision = 0.939, Recall = 1.000\n",
            "Iteration 6, LR2 with threshold 0.4: Accuracy = 0.974, Precision = 0.962, Recall = 0.997\n",
            "Iteration 6, LR2 with threshold 0.6: Accuracy = 0.975, Precision = 0.986, Recall = 0.975\n",
            "Iteration 6, LR2 with threshold 0.7: Accuracy = 0.965, Precision = 0.988, Recall = 0.955\n",
            "Iteration 7, LR2 with threshold 0.5: Accuracy = 0.984, Precision = 0.981, Recall = 0.994\n",
            "Iteration 7, LR2 with threshold 0.3: Accuracy = 0.960, Precision = 0.939, Recall = 1.000\n",
            "Iteration 7, LR2 with threshold 0.4: Accuracy = 0.974, Precision = 0.962, Recall = 0.997\n",
            "Iteration 7, LR2 with threshold 0.6: Accuracy = 0.975, Precision = 0.986, Recall = 0.975\n",
            "Iteration 7, LR2 with threshold 0.7: Accuracy = 0.965, Precision = 0.988, Recall = 0.955\n",
            "Iteration 8, LR2 with threshold 0.5: Accuracy = 0.984, Precision = 0.981, Recall = 0.994\n",
            "Iteration 8, LR2 with threshold 0.3: Accuracy = 0.960, Precision = 0.939, Recall = 1.000\n",
            "Iteration 8, LR2 with threshold 0.4: Accuracy = 0.974, Precision = 0.962, Recall = 0.997\n",
            "Iteration 8, LR2 with threshold 0.6: Accuracy = 0.975, Precision = 0.986, Recall = 0.975\n",
            "Iteration 8, LR2 with threshold 0.7: Accuracy = 0.965, Precision = 0.988, Recall = 0.955\n",
            "Iteration 9, LR2 with threshold 0.5: Accuracy = 0.984, Precision = 0.981, Recall = 0.994\n",
            "Iteration 9, LR2 with threshold 0.3: Accuracy = 0.960, Precision = 0.939, Recall = 1.000\n",
            "Iteration 9, LR2 with threshold 0.4: Accuracy = 0.974, Precision = 0.962, Recall = 0.997\n",
            "Iteration 9, LR2 with threshold 0.6: Accuracy = 0.975, Precision = 0.986, Recall = 0.975\n",
            "Iteration 9, LR2 with threshold 0.7: Accuracy = 0.965, Precision = 0.988, Recall = 0.955\n",
            "Iteration 10, LR2 with threshold 0.5: Accuracy = 0.984, Precision = 0.981, Recall = 0.994\n",
            "Iteration 10, LR2 with threshold 0.3: Accuracy = 0.960, Precision = 0.939, Recall = 1.000\n",
            "Iteration 10, LR2 with threshold 0.4: Accuracy = 0.974, Precision = 0.962, Recall = 0.997\n",
            "Iteration 10, LR2 with threshold 0.6: Accuracy = 0.975, Precision = 0.986, Recall = 0.975\n",
            "Iteration 10, LR2 with threshold 0.7: Accuracy = 0.965, Precision = 0.988, Recall = 0.955\n",
            "Average accuracy for 0.5, 0.3, 0.4, 0.6, 0.7 threshold: [0.98418278 0.95957821 0.97363796 0.97539543 0.96485062]\n",
            "Average precision for 0.5, 0.3, 0.4, 0.6, 0.7 threshold: [0.98066298 0.93947368 0.96216216 0.98583569 0.9884058 ]\n",
            "Average recall for 0.5, 0.3, 0.4, 0.6, 0.7 threshold: [0.99439776 1.         0.99719888 0.97478992 0.95518207]\n"
          ]
        }
      ]
    },
    {
      "cell_type": "code",
      "source": [
        "accuracies = np.zeros((10, 5))\n",
        "precisions = np.zeros((10, 5))\n",
        "recalls = np.zeros((10, 5))\n",
        "\n",
        "for i in range(10):\n",
        "    lr2 = LogisticRegression(alpha=0.0001)\n",
        "    theta2, cost_history2 = lr2.mini_batch_gradient_descent(X.astype(float), y.astype(float))\n",
        "    thresholds = [0.5, 0.3, 0.4, 0.6, 0.7]\n",
        "    for j, threshold in enumerate(thresholds):\n",
        "        y_pred = lr2.predict(X, theta2, threshold=threshold)\n",
        "        accuracy = np.mean(y_pred == y)\n",
        "        precision = np.sum((y_pred == 1) & (y == 1)) / np.sum(y_pred == 1)\n",
        "        recall = np.sum((y_pred == 1) & (y == 1)) / np.sum(y == 1)\n",
        "        accuracies[i, j] = accuracy\n",
        "        precisions[i, j] = precision\n",
        "        recalls[i, j] = recall\n",
        "        print(f\"Iteration {i+1}, LR2 with threshold {threshold}: Accuracy = {accuracy:.3f}, Precision = {precision:.3f}, Recall = {recall:.3f}\")\n",
        "\n",
        "print(f\"Average accuracy for 0.5, 0.3, 0.4, 0.6, 0.7 threshold: {np.mean(accuracies, axis=0)}\")\n",
        "print(f\"Average precision for 0.5, 0.3, 0.4, 0.6, 0.7 threshold: {np.mean(precisions, axis=0)}\")\n",
        "print(f\"Average recall for 0.5, 0.3, 0.4, 0.6, 0.7 threshold: {np.mean(recalls, axis=0)}\")"
      ],
      "metadata": {
        "colab": {
          "base_uri": "https://localhost:8080/"
        },
        "id": "tA3b2Km6lg8t",
        "outputId": "8024d035-6811-4765-8122-79e8f0b79c1c"
      },
      "execution_count": null,
      "outputs": [
        {
          "output_type": "stream",
          "name": "stdout",
          "text": [
            "Iteration 1, LR2 with threshold 0.5: Accuracy = 0.963, Precision = 0.969, Recall = 0.972\n",
            "Iteration 1, LR2 with threshold 0.3: Accuracy = 0.938, Precision = 0.911, Recall = 1.000\n",
            "Iteration 1, LR2 with threshold 0.4: Accuracy = 0.951, Precision = 0.932, Recall = 0.994\n",
            "Iteration 1, LR2 with threshold 0.6: Accuracy = 0.942, Precision = 0.985, Recall = 0.922\n",
            "Iteration 1, LR2 with threshold 0.7: Accuracy = 0.896, Precision = 0.990, Recall = 0.843\n",
            "Iteration 2, LR2 with threshold 0.5: Accuracy = 0.963, Precision = 0.969, Recall = 0.972\n",
            "Iteration 2, LR2 with threshold 0.3: Accuracy = 0.938, Precision = 0.911, Recall = 1.000\n",
            "Iteration 2, LR2 with threshold 0.4: Accuracy = 0.951, Precision = 0.932, Recall = 0.994\n",
            "Iteration 2, LR2 with threshold 0.6: Accuracy = 0.942, Precision = 0.985, Recall = 0.922\n",
            "Iteration 2, LR2 with threshold 0.7: Accuracy = 0.896, Precision = 0.990, Recall = 0.843\n",
            "Iteration 3, LR2 with threshold 0.5: Accuracy = 0.963, Precision = 0.969, Recall = 0.972\n",
            "Iteration 3, LR2 with threshold 0.3: Accuracy = 0.938, Precision = 0.911, Recall = 1.000\n",
            "Iteration 3, LR2 with threshold 0.4: Accuracy = 0.951, Precision = 0.932, Recall = 0.994\n",
            "Iteration 3, LR2 with threshold 0.6: Accuracy = 0.942, Precision = 0.985, Recall = 0.922\n",
            "Iteration 3, LR2 with threshold 0.7: Accuracy = 0.896, Precision = 0.990, Recall = 0.843\n",
            "Iteration 4, LR2 with threshold 0.5: Accuracy = 0.963, Precision = 0.969, Recall = 0.972\n",
            "Iteration 4, LR2 with threshold 0.3: Accuracy = 0.938, Precision = 0.911, Recall = 1.000\n",
            "Iteration 4, LR2 with threshold 0.4: Accuracy = 0.951, Precision = 0.932, Recall = 0.994\n",
            "Iteration 4, LR2 with threshold 0.6: Accuracy = 0.942, Precision = 0.985, Recall = 0.922\n",
            "Iteration 4, LR2 with threshold 0.7: Accuracy = 0.896, Precision = 0.990, Recall = 0.843\n",
            "Iteration 5, LR2 with threshold 0.5: Accuracy = 0.963, Precision = 0.969, Recall = 0.972\n",
            "Iteration 5, LR2 with threshold 0.3: Accuracy = 0.938, Precision = 0.911, Recall = 1.000\n",
            "Iteration 5, LR2 with threshold 0.4: Accuracy = 0.951, Precision = 0.932, Recall = 0.994\n",
            "Iteration 5, LR2 with threshold 0.6: Accuracy = 0.942, Precision = 0.985, Recall = 0.922\n",
            "Iteration 5, LR2 with threshold 0.7: Accuracy = 0.896, Precision = 0.990, Recall = 0.843\n",
            "Iteration 6, LR2 with threshold 0.5: Accuracy = 0.963, Precision = 0.969, Recall = 0.972\n",
            "Iteration 6, LR2 with threshold 0.3: Accuracy = 0.938, Precision = 0.911, Recall = 1.000\n",
            "Iteration 6, LR2 with threshold 0.4: Accuracy = 0.951, Precision = 0.932, Recall = 0.994\n",
            "Iteration 6, LR2 with threshold 0.6: Accuracy = 0.942, Precision = 0.985, Recall = 0.922\n",
            "Iteration 6, LR2 with threshold 0.7: Accuracy = 0.896, Precision = 0.990, Recall = 0.843\n",
            "Iteration 7, LR2 with threshold 0.5: Accuracy = 0.963, Precision = 0.969, Recall = 0.972\n",
            "Iteration 7, LR2 with threshold 0.3: Accuracy = 0.938, Precision = 0.911, Recall = 1.000\n",
            "Iteration 7, LR2 with threshold 0.4: Accuracy = 0.951, Precision = 0.932, Recall = 0.994\n",
            "Iteration 7, LR2 with threshold 0.6: Accuracy = 0.942, Precision = 0.985, Recall = 0.922\n",
            "Iteration 7, LR2 with threshold 0.7: Accuracy = 0.896, Precision = 0.990, Recall = 0.843\n",
            "Iteration 8, LR2 with threshold 0.5: Accuracy = 0.963, Precision = 0.969, Recall = 0.972\n",
            "Iteration 8, LR2 with threshold 0.3: Accuracy = 0.938, Precision = 0.911, Recall = 1.000\n",
            "Iteration 8, LR2 with threshold 0.4: Accuracy = 0.951, Precision = 0.932, Recall = 0.994\n",
            "Iteration 8, LR2 with threshold 0.6: Accuracy = 0.942, Precision = 0.985, Recall = 0.922\n",
            "Iteration 8, LR2 with threshold 0.7: Accuracy = 0.896, Precision = 0.990, Recall = 0.843\n",
            "Iteration 9, LR2 with threshold 0.5: Accuracy = 0.963, Precision = 0.969, Recall = 0.972\n",
            "Iteration 9, LR2 with threshold 0.3: Accuracy = 0.938, Precision = 0.911, Recall = 1.000\n",
            "Iteration 9, LR2 with threshold 0.4: Accuracy = 0.951, Precision = 0.932, Recall = 0.994\n",
            "Iteration 9, LR2 with threshold 0.6: Accuracy = 0.942, Precision = 0.985, Recall = 0.922\n",
            "Iteration 9, LR2 with threshold 0.7: Accuracy = 0.896, Precision = 0.990, Recall = 0.843\n",
            "Iteration 10, LR2 with threshold 0.5: Accuracy = 0.963, Precision = 0.969, Recall = 0.972\n",
            "Iteration 10, LR2 with threshold 0.3: Accuracy = 0.938, Precision = 0.911, Recall = 1.000\n",
            "Iteration 10, LR2 with threshold 0.4: Accuracy = 0.951, Precision = 0.932, Recall = 0.994\n",
            "Iteration 10, LR2 with threshold 0.6: Accuracy = 0.942, Precision = 0.985, Recall = 0.922\n",
            "Iteration 10, LR2 with threshold 0.7: Accuracy = 0.896, Precision = 0.990, Recall = 0.843\n",
            "Average accuracy for 0.5, 0.3, 0.4, 0.6, 0.7 threshold: [0.96309315 0.93848858 0.95079086 0.94200351 0.89630931]\n",
            "Average precision for 0.5, 0.3, 0.4, 0.6, 0.7 threshold: [0.96927374 0.91071429 0.93175853 0.98502994 0.99013158]\n",
            "Average recall for 0.5, 0.3, 0.4, 0.6, 0.7 threshold: [0.9719888  1.         0.99439776 0.92156863 0.84313725]\n"
          ]
        }
      ]
    },
    {
      "cell_type": "markdown",
      "source": [
        "### Stochaistic Gradient Descent With Different Learning Rates (Alpha)"
      ],
      "metadata": {
        "id": "gQAWSUo8ln-A"
      }
    },
    {
      "cell_type": "code",
      "source": [
        "accuracies = np.zeros((10, 5))\n",
        "precisions = np.zeros((10, 5))\n",
        "recalls = np.zeros((10, 5))\n",
        "\n",
        "for i in range(10):\n",
        "    lr2 = LogisticRegression(alpha=0.01)\n",
        "    theta2, cost_history2 = lr2.stochastic_gradient_descent(X.astype(float), y.astype(float))\n",
        "    thresholds = [0.5, 0.3, 0.4, 0.6, 0.7]\n",
        "    for j, threshold in enumerate(thresholds):\n",
        "        y_pred = lr2.predict(X, theta2, threshold=threshold)\n",
        "        accuracy = np.mean(y_pred == y)\n",
        "        precision = np.sum((y_pred == 1) & (y == 1)) / np.sum(y_pred == 1)\n",
        "        recall = np.sum((y_pred == 1) & (y == 1)) / np.sum(y == 1)\n",
        "        accuracies[i, j] = accuracy\n",
        "        precisions[i, j] = precision\n",
        "        recalls[i, j] = recall\n",
        "        print(f\"Iteration {i+1}, LR2 with threshold {threshold}: Accuracy = {accuracy:.3f}, Precision = {precision:.3f}, Recall = {recall:.3f}\")\n",
        "\n",
        "print(f\"Average accuracy for 0.5, 0.3, 0.4, 0.6, 0.7 threshold: {np.mean(accuracies, axis=0)}\")\n",
        "print(f\"Average precision for 0.5, 0.3, 0.4, 0.6, 0.7 threshold: {np.mean(precisions, axis=0)}\")\n",
        "print(f\"Average recall for 0.5, 0.3, 0.4, 0.6, 0.7 threshold: {np.mean(recalls, axis=0)}\")"
      ],
      "metadata": {
        "id": "WsdbJ2oWSwXR",
        "colab": {
          "base_uri": "https://localhost:8080/"
        },
        "outputId": "9f97203b-c448-4738-bdea-1d8530f9785d"
      },
      "execution_count": null,
      "outputs": [
        {
          "output_type": "stream",
          "name": "stdout",
          "text": [
            "Iteration 1, LR2 with threshold 0.5: Accuracy = 0.991, Precision = 0.989, Recall = 0.997\n",
            "Iteration 1, LR2 with threshold 0.3: Accuracy = 0.989, Precision = 0.983, Recall = 1.000\n",
            "Iteration 1, LR2 with threshold 0.4: Accuracy = 0.988, Precision = 0.983, Recall = 0.997\n",
            "Iteration 1, LR2 with threshold 0.6: Accuracy = 0.982, Precision = 0.989, Recall = 0.983\n",
            "Iteration 1, LR2 with threshold 0.7: Accuracy = 0.979, Precision = 0.989, Recall = 0.978\n",
            "Iteration 2, LR2 with threshold 0.5: Accuracy = 0.991, Precision = 0.989, Recall = 0.997\n",
            "Iteration 2, LR2 with threshold 0.3: Accuracy = 0.988, Precision = 0.981, Recall = 1.000\n",
            "Iteration 2, LR2 with threshold 0.4: Accuracy = 0.989, Precision = 0.986, Recall = 0.997\n",
            "Iteration 2, LR2 with threshold 0.6: Accuracy = 0.986, Precision = 0.989, Recall = 0.989\n",
            "Iteration 2, LR2 with threshold 0.7: Accuracy = 0.981, Precision = 0.989, Recall = 0.980\n",
            "Iteration 3, LR2 with threshold 0.5: Accuracy = 0.991, Precision = 0.989, Recall = 0.997\n",
            "Iteration 3, LR2 with threshold 0.3: Accuracy = 0.989, Precision = 0.983, Recall = 1.000\n",
            "Iteration 3, LR2 with threshold 0.4: Accuracy = 0.989, Precision = 0.986, Recall = 0.997\n",
            "Iteration 3, LR2 with threshold 0.6: Accuracy = 0.988, Precision = 0.989, Recall = 0.992\n",
            "Iteration 3, LR2 with threshold 0.7: Accuracy = 0.981, Precision = 0.989, Recall = 0.980\n",
            "Iteration 4, LR2 with threshold 0.5: Accuracy = 0.989, Precision = 0.986, Recall = 0.997\n",
            "Iteration 4, LR2 with threshold 0.3: Accuracy = 0.989, Precision = 0.983, Recall = 1.000\n",
            "Iteration 4, LR2 with threshold 0.4: Accuracy = 0.989, Precision = 0.986, Recall = 0.997\n",
            "Iteration 4, LR2 with threshold 0.6: Accuracy = 0.986, Precision = 0.989, Recall = 0.989\n",
            "Iteration 4, LR2 with threshold 0.7: Accuracy = 0.981, Precision = 0.989, Recall = 0.980\n",
            "Iteration 5, LR2 with threshold 0.5: Accuracy = 0.991, Precision = 0.989, Recall = 0.997\n",
            "Iteration 5, LR2 with threshold 0.3: Accuracy = 0.988, Precision = 0.981, Recall = 1.000\n",
            "Iteration 5, LR2 with threshold 0.4: Accuracy = 0.989, Precision = 0.986, Recall = 0.997\n",
            "Iteration 5, LR2 with threshold 0.6: Accuracy = 0.984, Precision = 0.989, Recall = 0.986\n",
            "Iteration 5, LR2 with threshold 0.7: Accuracy = 0.981, Precision = 0.989, Recall = 0.980\n",
            "Iteration 6, LR2 with threshold 0.5: Accuracy = 0.989, Precision = 0.986, Recall = 0.997\n",
            "Iteration 6, LR2 with threshold 0.3: Accuracy = 0.988, Precision = 0.981, Recall = 1.000\n",
            "Iteration 6, LR2 with threshold 0.4: Accuracy = 0.989, Precision = 0.986, Recall = 0.997\n",
            "Iteration 6, LR2 with threshold 0.6: Accuracy = 0.986, Precision = 0.989, Recall = 0.989\n",
            "Iteration 6, LR2 with threshold 0.7: Accuracy = 0.982, Precision = 0.989, Recall = 0.983\n",
            "Iteration 7, LR2 with threshold 0.5: Accuracy = 0.989, Precision = 0.986, Recall = 0.997\n",
            "Iteration 7, LR2 with threshold 0.3: Accuracy = 0.989, Precision = 0.983, Recall = 1.000\n",
            "Iteration 7, LR2 with threshold 0.4: Accuracy = 0.988, Precision = 0.983, Recall = 0.997\n",
            "Iteration 7, LR2 with threshold 0.6: Accuracy = 0.986, Precision = 0.989, Recall = 0.989\n",
            "Iteration 7, LR2 with threshold 0.7: Accuracy = 0.981, Precision = 0.989, Recall = 0.980\n",
            "Iteration 8, LR2 with threshold 0.5: Accuracy = 0.991, Precision = 0.989, Recall = 0.997\n",
            "Iteration 8, LR2 with threshold 0.3: Accuracy = 0.988, Precision = 0.981, Recall = 1.000\n",
            "Iteration 8, LR2 with threshold 0.4: Accuracy = 0.988, Precision = 0.983, Recall = 0.997\n",
            "Iteration 8, LR2 with threshold 0.6: Accuracy = 0.984, Precision = 0.989, Recall = 0.986\n",
            "Iteration 8, LR2 with threshold 0.7: Accuracy = 0.981, Precision = 0.989, Recall = 0.980\n",
            "Iteration 9, LR2 with threshold 0.5: Accuracy = 0.991, Precision = 0.989, Recall = 0.997\n",
            "Iteration 9, LR2 with threshold 0.3: Accuracy = 0.989, Precision = 0.983, Recall = 1.000\n",
            "Iteration 9, LR2 with threshold 0.4: Accuracy = 0.989, Precision = 0.986, Recall = 0.997\n",
            "Iteration 9, LR2 with threshold 0.6: Accuracy = 0.984, Precision = 0.989, Recall = 0.986\n",
            "Iteration 9, LR2 with threshold 0.7: Accuracy = 0.981, Precision = 0.989, Recall = 0.980\n",
            "Iteration 10, LR2 with threshold 0.5: Accuracy = 0.989, Precision = 0.986, Recall = 0.997\n",
            "Iteration 10, LR2 with threshold 0.3: Accuracy = 0.989, Precision = 0.983, Recall = 1.000\n",
            "Iteration 10, LR2 with threshold 0.4: Accuracy = 0.989, Precision = 0.986, Recall = 0.997\n",
            "Iteration 10, LR2 with threshold 0.6: Accuracy = 0.986, Precision = 0.989, Recall = 0.989\n",
            "Iteration 10, LR2 with threshold 0.7: Accuracy = 0.981, Precision = 0.989, Recall = 0.980\n",
            "Average accuracy for 0.5, 0.3, 0.4, 0.6, 0.7 threshold: [0.99050967 0.9887522  0.98892794 0.98523726 0.98066784]\n",
            "Average precision for 0.5, 0.3, 0.4, 0.6, 0.7 threshold: [0.98779317 0.98239034 0.98533233 0.98878289 0.98870055]\n",
            "Average recall for 0.5, 0.3, 0.4, 0.6, 0.7 threshold: [0.99719888 1.         0.99719888 0.98767507 0.98039216]\n"
          ]
        }
      ]
    },
    {
      "cell_type": "code",
      "source": [
        "accuracies = np.zeros((10, 5))\n",
        "precisions = np.zeros((10, 5))\n",
        "recalls = np.zeros((10, 5))\n",
        "\n",
        "for i in range(10):\n",
        "    lr2 = LogisticRegression(alpha=0.001)\n",
        "    theta2, cost_history2 = lr2.stochastic_gradient_descent(X.astype(float), y.astype(float))\n",
        "    thresholds = [0.5, 0.3, 0.4, 0.6, 0.7]\n",
        "    for j, threshold in enumerate(thresholds):\n",
        "        y_pred = lr2.predict(X, theta2, threshold=threshold)\n",
        "        accuracy = np.mean(y_pred == y)\n",
        "        precision = np.sum((y_pred == 1) & (y == 1)) / np.sum(y_pred == 1)\n",
        "        recall = np.sum((y_pred == 1) & (y == 1)) / np.sum(y == 1)\n",
        "        accuracies[i, j] = accuracy\n",
        "        precisions[i, j] = precision\n",
        "        recalls[i, j] = recall\n",
        "        print(f\"Iteration {i+1}, LR2 with threshold {threshold}: Accuracy = {accuracy:.3f}, Precision = {precision:.3f}, Recall = {recall:.3f}\")\n",
        "\n",
        "print(f\"Average accuracy for 0.5, 0.3, 0.4, 0.6, 0.7 threshold: {np.mean(accuracies, axis=0)}\")\n",
        "print(f\"Average precision for 0.5, 0.3, 0.4, 0.6, 0.7 threshold: {np.mean(precisions, axis=0)}\")\n",
        "print(f\"Average recall for 0.5, 0.3, 0.4, 0.6, 0.7 threshold: {np.mean(recalls, axis=0)}\")"
      ],
      "metadata": {
        "colab": {
          "base_uri": "https://localhost:8080/"
        },
        "id": "ZlV48aSJmE8n",
        "outputId": "4eca2d5d-d0d8-4098-e84f-dfd526c5f437"
      },
      "execution_count": null,
      "outputs": [
        {
          "output_type": "stream",
          "name": "stdout",
          "text": [
            "Iteration 1, LR2 with threshold 0.5: Accuracy = 0.988, Precision = 0.986, Recall = 0.994\n",
            "Iteration 1, LR2 with threshold 0.3: Accuracy = 0.986, Precision = 0.978, Recall = 1.000\n",
            "Iteration 1, LR2 with threshold 0.4: Accuracy = 0.989, Precision = 0.983, Recall = 1.000\n",
            "Iteration 1, LR2 with threshold 0.6: Accuracy = 0.986, Precision = 0.986, Recall = 0.992\n",
            "Iteration 1, LR2 with threshold 0.7: Accuracy = 0.975, Precision = 0.989, Recall = 0.972\n",
            "Iteration 2, LR2 with threshold 0.5: Accuracy = 0.988, Precision = 0.986, Recall = 0.994\n",
            "Iteration 2, LR2 with threshold 0.3: Accuracy = 0.986, Precision = 0.978, Recall = 1.000\n",
            "Iteration 2, LR2 with threshold 0.4: Accuracy = 0.989, Precision = 0.983, Recall = 1.000\n",
            "Iteration 2, LR2 with threshold 0.6: Accuracy = 0.986, Precision = 0.986, Recall = 0.992\n",
            "Iteration 2, LR2 with threshold 0.7: Accuracy = 0.975, Precision = 0.989, Recall = 0.972\n",
            "Iteration 3, LR2 with threshold 0.5: Accuracy = 0.988, Precision = 0.986, Recall = 0.994\n",
            "Iteration 3, LR2 with threshold 0.3: Accuracy = 0.986, Precision = 0.978, Recall = 1.000\n",
            "Iteration 3, LR2 with threshold 0.4: Accuracy = 0.989, Precision = 0.983, Recall = 1.000\n",
            "Iteration 3, LR2 with threshold 0.6: Accuracy = 0.986, Precision = 0.986, Recall = 0.992\n",
            "Iteration 3, LR2 with threshold 0.7: Accuracy = 0.975, Precision = 0.989, Recall = 0.972\n",
            "Iteration 4, LR2 with threshold 0.5: Accuracy = 0.988, Precision = 0.986, Recall = 0.994\n",
            "Iteration 4, LR2 with threshold 0.3: Accuracy = 0.986, Precision = 0.978, Recall = 1.000\n",
            "Iteration 4, LR2 with threshold 0.4: Accuracy = 0.989, Precision = 0.983, Recall = 1.000\n",
            "Iteration 4, LR2 with threshold 0.6: Accuracy = 0.986, Precision = 0.986, Recall = 0.992\n",
            "Iteration 4, LR2 with threshold 0.7: Accuracy = 0.975, Precision = 0.989, Recall = 0.972\n",
            "Iteration 5, LR2 with threshold 0.5: Accuracy = 0.988, Precision = 0.986, Recall = 0.994\n",
            "Iteration 5, LR2 with threshold 0.3: Accuracy = 0.986, Precision = 0.978, Recall = 1.000\n",
            "Iteration 5, LR2 with threshold 0.4: Accuracy = 0.989, Precision = 0.983, Recall = 1.000\n",
            "Iteration 5, LR2 with threshold 0.6: Accuracy = 0.986, Precision = 0.986, Recall = 0.992\n",
            "Iteration 5, LR2 with threshold 0.7: Accuracy = 0.975, Precision = 0.989, Recall = 0.972\n",
            "Iteration 6, LR2 with threshold 0.5: Accuracy = 0.988, Precision = 0.986, Recall = 0.994\n",
            "Iteration 6, LR2 with threshold 0.3: Accuracy = 0.986, Precision = 0.978, Recall = 1.000\n",
            "Iteration 6, LR2 with threshold 0.4: Accuracy = 0.989, Precision = 0.983, Recall = 1.000\n",
            "Iteration 6, LR2 with threshold 0.6: Accuracy = 0.986, Precision = 0.986, Recall = 0.992\n",
            "Iteration 6, LR2 with threshold 0.7: Accuracy = 0.977, Precision = 0.989, Recall = 0.975\n",
            "Iteration 7, LR2 with threshold 0.5: Accuracy = 0.988, Precision = 0.986, Recall = 0.994\n",
            "Iteration 7, LR2 with threshold 0.3: Accuracy = 0.986, Precision = 0.978, Recall = 1.000\n",
            "Iteration 7, LR2 with threshold 0.4: Accuracy = 0.989, Precision = 0.983, Recall = 1.000\n",
            "Iteration 7, LR2 with threshold 0.6: Accuracy = 0.986, Precision = 0.986, Recall = 0.992\n",
            "Iteration 7, LR2 with threshold 0.7: Accuracy = 0.975, Precision = 0.989, Recall = 0.972\n",
            "Iteration 8, LR2 with threshold 0.5: Accuracy = 0.988, Precision = 0.986, Recall = 0.994\n",
            "Iteration 8, LR2 with threshold 0.3: Accuracy = 0.986, Precision = 0.978, Recall = 1.000\n",
            "Iteration 8, LR2 with threshold 0.4: Accuracy = 0.989, Precision = 0.983, Recall = 1.000\n",
            "Iteration 8, LR2 with threshold 0.6: Accuracy = 0.986, Precision = 0.986, Recall = 0.992\n",
            "Iteration 8, LR2 with threshold 0.7: Accuracy = 0.979, Precision = 0.989, Recall = 0.978\n",
            "Iteration 9, LR2 with threshold 0.5: Accuracy = 0.988, Precision = 0.986, Recall = 0.994\n",
            "Iteration 9, LR2 with threshold 0.3: Accuracy = 0.986, Precision = 0.978, Recall = 1.000\n",
            "Iteration 9, LR2 with threshold 0.4: Accuracy = 0.989, Precision = 0.983, Recall = 1.000\n",
            "Iteration 9, LR2 with threshold 0.6: Accuracy = 0.986, Precision = 0.986, Recall = 0.992\n",
            "Iteration 9, LR2 with threshold 0.7: Accuracy = 0.977, Precision = 0.989, Recall = 0.975\n",
            "Iteration 10, LR2 with threshold 0.5: Accuracy = 0.988, Precision = 0.986, Recall = 0.994\n",
            "Iteration 10, LR2 with threshold 0.3: Accuracy = 0.986, Precision = 0.978, Recall = 1.000\n",
            "Iteration 10, LR2 with threshold 0.4: Accuracy = 0.989, Precision = 0.983, Recall = 1.000\n",
            "Iteration 10, LR2 with threshold 0.6: Accuracy = 0.986, Precision = 0.986, Recall = 0.992\n",
            "Iteration 10, LR2 with threshold 0.7: Accuracy = 0.975, Precision = 0.989, Recall = 0.972\n",
            "Average accuracy for 0.5, 0.3, 0.4, 0.6, 0.7 threshold: [0.98769772 0.98594025 0.98945518 0.98594025 0.97609842]\n",
            "Average precision for 0.5, 0.3, 0.4, 0.6, 0.7 threshold: [0.98611111 0.97808219 0.98347107 0.98607242 0.98861692]\n",
            "Average recall for 0.5, 0.3, 0.4, 0.6, 0.7 threshold: [0.99439776 1.         1.         0.99159664 0.97310924]\n"
          ]
        }
      ]
    },
    {
      "cell_type": "code",
      "source": [
        "accuracies = np.zeros((10, 5))\n",
        "precisions = np.zeros((10, 5))\n",
        "recalls = np.zeros((10, 5))\n",
        "\n",
        "for i in range(10):\n",
        "    lr2 = LogisticRegression(alpha=0.0001)\n",
        "    theta2, cost_history2 = lr2.stochastic_gradient_descent(X.astype(float), y.astype(float))\n",
        "    thresholds = [0.5, 0.3, 0.4, 0.6, 0.7]\n",
        "    for j, threshold in enumerate(thresholds):\n",
        "        y_pred = lr2.predict(X, theta2, threshold=threshold)\n",
        "        accuracy = np.mean(y_pred == y)\n",
        "        precision = np.sum((y_pred == 1) & (y == 1)) / np.sum(y_pred == 1)\n",
        "        recall = np.sum((y_pred == 1) & (y == 1)) / np.sum(y == 1)\n",
        "        accuracies[i, j] = accuracy\n",
        "        precisions[i, j] = precision\n",
        "        recalls[i, j] = recall\n",
        "        print(f\"Iteration {i+1}, LR2 with threshold {threshold}: Accuracy = {accuracy:.3f}, Precision = {precision:.3f}, Recall = {recall:.3f}\")\n",
        "    \n",
        "print(f\"Average accuracy for 0.5, 0.3, 0.4, 0.6, 0.7 threshold: {np.mean(accuracies, axis=0)}\")\n",
        "print(f\"Average precision for 0.5, 0.3, 0.4, 0.6, 0.7 threshold: {np.mean(precisions, axis=0)}\")\n",
        "print(f\"Average recall for 0.5, 0.3, 0.4, 0.6, 0.7 threshold: {np.mean(recalls, axis=0)}\")"
      ],
      "metadata": {
        "colab": {
          "base_uri": "https://localhost:8080/"
        },
        "id": "Jg8z_YrpmMnW",
        "outputId": "c3cd8afe-d8db-4e5f-e1b7-e5b03827e148"
      },
      "execution_count": null,
      "outputs": [
        {
          "output_type": "stream",
          "name": "stdout",
          "text": [
            "Iteration 1, LR2 with threshold 0.5: Accuracy = 0.984, Precision = 0.981, Recall = 0.994\n",
            "Iteration 1, LR2 with threshold 0.3: Accuracy = 0.967, Precision = 0.949, Recall = 1.000\n",
            "Iteration 1, LR2 with threshold 0.4: Accuracy = 0.977, Precision = 0.967, Recall = 0.997\n",
            "Iteration 1, LR2 with threshold 0.6: Accuracy = 0.979, Precision = 0.986, Recall = 0.980\n",
            "Iteration 1, LR2 with threshold 0.7: Accuracy = 0.967, Precision = 0.988, Recall = 0.958\n",
            "Iteration 2, LR2 with threshold 0.5: Accuracy = 0.984, Precision = 0.981, Recall = 0.994\n",
            "Iteration 2, LR2 with threshold 0.3: Accuracy = 0.967, Precision = 0.949, Recall = 1.000\n",
            "Iteration 2, LR2 with threshold 0.4: Accuracy = 0.977, Precision = 0.967, Recall = 0.997\n",
            "Iteration 2, LR2 with threshold 0.6: Accuracy = 0.979, Precision = 0.986, Recall = 0.980\n",
            "Iteration 2, LR2 with threshold 0.7: Accuracy = 0.965, Precision = 0.986, Recall = 0.958\n",
            "Iteration 3, LR2 with threshold 0.5: Accuracy = 0.984, Precision = 0.981, Recall = 0.994\n",
            "Iteration 3, LR2 with threshold 0.3: Accuracy = 0.967, Precision = 0.949, Recall = 1.000\n",
            "Iteration 3, LR2 with threshold 0.4: Accuracy = 0.977, Precision = 0.967, Recall = 0.997\n",
            "Iteration 3, LR2 with threshold 0.6: Accuracy = 0.979, Precision = 0.986, Recall = 0.980\n",
            "Iteration 3, LR2 with threshold 0.7: Accuracy = 0.967, Precision = 0.988, Recall = 0.958\n",
            "Iteration 4, LR2 with threshold 0.5: Accuracy = 0.984, Precision = 0.981, Recall = 0.994\n",
            "Iteration 4, LR2 with threshold 0.3: Accuracy = 0.967, Precision = 0.949, Recall = 1.000\n",
            "Iteration 4, LR2 with threshold 0.4: Accuracy = 0.977, Precision = 0.967, Recall = 0.997\n",
            "Iteration 4, LR2 with threshold 0.6: Accuracy = 0.979, Precision = 0.986, Recall = 0.980\n",
            "Iteration 4, LR2 with threshold 0.7: Accuracy = 0.967, Precision = 0.988, Recall = 0.958\n",
            "Iteration 5, LR2 with threshold 0.5: Accuracy = 0.984, Precision = 0.981, Recall = 0.994\n",
            "Iteration 5, LR2 with threshold 0.3: Accuracy = 0.967, Precision = 0.949, Recall = 1.000\n",
            "Iteration 5, LR2 with threshold 0.4: Accuracy = 0.977, Precision = 0.967, Recall = 0.997\n",
            "Iteration 5, LR2 with threshold 0.6: Accuracy = 0.979, Precision = 0.986, Recall = 0.980\n",
            "Iteration 5, LR2 with threshold 0.7: Accuracy = 0.967, Precision = 0.988, Recall = 0.958\n",
            "Iteration 6, LR2 with threshold 0.5: Accuracy = 0.984, Precision = 0.981, Recall = 0.994\n",
            "Iteration 6, LR2 with threshold 0.3: Accuracy = 0.967, Precision = 0.949, Recall = 1.000\n",
            "Iteration 6, LR2 with threshold 0.4: Accuracy = 0.977, Precision = 0.967, Recall = 0.997\n",
            "Iteration 6, LR2 with threshold 0.6: Accuracy = 0.979, Precision = 0.986, Recall = 0.980\n",
            "Iteration 6, LR2 with threshold 0.7: Accuracy = 0.965, Precision = 0.986, Recall = 0.958\n",
            "Iteration 7, LR2 with threshold 0.5: Accuracy = 0.984, Precision = 0.981, Recall = 0.994\n",
            "Iteration 7, LR2 with threshold 0.3: Accuracy = 0.967, Precision = 0.949, Recall = 1.000\n",
            "Iteration 7, LR2 with threshold 0.4: Accuracy = 0.977, Precision = 0.967, Recall = 0.997\n",
            "Iteration 7, LR2 with threshold 0.6: Accuracy = 0.979, Precision = 0.986, Recall = 0.980\n",
            "Iteration 7, LR2 with threshold 0.7: Accuracy = 0.967, Precision = 0.988, Recall = 0.958\n",
            "Iteration 8, LR2 with threshold 0.5: Accuracy = 0.984, Precision = 0.981, Recall = 0.994\n",
            "Iteration 8, LR2 with threshold 0.3: Accuracy = 0.967, Precision = 0.949, Recall = 1.000\n",
            "Iteration 8, LR2 with threshold 0.4: Accuracy = 0.977, Precision = 0.967, Recall = 0.997\n",
            "Iteration 8, LR2 with threshold 0.6: Accuracy = 0.979, Precision = 0.986, Recall = 0.980\n",
            "Iteration 8, LR2 with threshold 0.7: Accuracy = 0.967, Precision = 0.988, Recall = 0.958\n",
            "Iteration 9, LR2 with threshold 0.5: Accuracy = 0.984, Precision = 0.981, Recall = 0.994\n",
            "Iteration 9, LR2 with threshold 0.3: Accuracy = 0.967, Precision = 0.949, Recall = 1.000\n",
            "Iteration 9, LR2 with threshold 0.4: Accuracy = 0.977, Precision = 0.967, Recall = 0.997\n",
            "Iteration 9, LR2 with threshold 0.6: Accuracy = 0.979, Precision = 0.986, Recall = 0.980\n",
            "Iteration 9, LR2 with threshold 0.7: Accuracy = 0.967, Precision = 0.988, Recall = 0.958\n",
            "Iteration 10, LR2 with threshold 0.5: Accuracy = 0.984, Precision = 0.981, Recall = 0.994\n",
            "Iteration 10, LR2 with threshold 0.3: Accuracy = 0.967, Precision = 0.949, Recall = 1.000\n",
            "Iteration 10, LR2 with threshold 0.4: Accuracy = 0.977, Precision = 0.967, Recall = 0.997\n",
            "Iteration 10, LR2 with threshold 0.6: Accuracy = 0.979, Precision = 0.986, Recall = 0.980\n",
            "Iteration 10, LR2 with threshold 0.7: Accuracy = 0.967, Precision = 0.988, Recall = 0.958\n",
            "Average accuracy for 0.5, 0.3, 0.4, 0.6, 0.7 threshold: [0.98418278 0.96660808 0.9771529  0.97891037 0.96625659]\n",
            "Average precision for 0.5, 0.3, 0.4, 0.6, 0.7 threshold: [0.98066298 0.94946809 0.9673913  0.98591549 0.9878696 ]\n",
            "Average recall for 0.5, 0.3, 0.4, 0.6, 0.7 threshold: [0.99439776 1.         0.99719888 0.98039216 0.95798319]\n"
          ]
        }
      ]
    },
    {
      "cell_type": "markdown",
      "source": [
        "## Plot Learning Curves"
      ],
      "metadata": {
        "id": "ssMLtbOycOqX"
      }
    },
    {
      "cell_type": "code",
      "source": [
        "plt.figure(figsize=(12, 8))\n",
        "plt.scatter([y for y in range(len(lr2.batch_gradient_descent(X.astype(float), y.astype(float))[1]))], lr2.batch_gradient_descent(X.astype(float), y.astype(float))[1], label='LR1')\n",
        "plt.title('Learning Curve')\n",
        "plt.xlabel('Iteration')\n",
        "plt.ylabel('Cost')\n",
        "plt.legend()\n",
        "plt.show()"
      ],
      "metadata": {
        "colab": {
          "base_uri": "https://localhost:8080/",
          "height": 513
        },
        "id": "WcsBdFnUb-7h",
        "outputId": "a5e9b4f2-e968-4b2b-bfe5-15523bef73e9"
      },
      "execution_count": null,
      "outputs": [
        {
          "output_type": "display_data",
          "data": {
            "text/plain": [
              "<Figure size 864x576 with 1 Axes>"
            ],
            "image/png": "[encoded data removed]"
          },
          "metadata": {
            "needs_background": "light"
          }
        }
      ]
    },
    {
      "cell_type": "code",
      "source": [
        "plt.figure(figsize=(12, 8))\n",
        "plt.scatter([y for y in range(len(lr2.mini_batch_gradient_descent(X.astype(float), y.astype(float))[1]))], lr2.mini_batch_gradient_descent(X.astype(float), y.astype(float))[1], label='LR2')\n",
        "plt.title('Learning Curve')\n",
        "plt.xlabel('Iteration')\n",
        "plt.ylabel('Cost')\n",
        "plt.legend()\n",
        "plt.show()"
      ],
      "metadata": {
        "colab": {
          "base_uri": "https://localhost:8080/",
          "height": 513
        },
        "id": "HAJRQC_tBfZJ",
        "outputId": "61e7cbcc-fdf3-4024-94f0-1e765b097afe"
      },
      "execution_count": null,
      "outputs": [
        {
          "output_type": "display_data",
          "data": {
            "text/plain": [
              "<Figure size 864x576 with 1 Axes>"
            ],
            "image/png": "[encoded data removed]"
          },
          "metadata": {
            "needs_background": "light"
          }
        }
      ]
    },
    {
      "cell_type": "code",
      "source": [
        "plt.figure(figsize=(12, 8))\n",
        "plt.scatter([y for y in range(len(lr2.mini_batch_gradient_descent(X.astype(float), y.astype(float))[1]))],lr2.mini_batch_gradient_descent(X.astype(float), y.astype(float))[1], label='LR3')\n",
        "plt.title('Learning Curve')\n",
        "plt.xlabel('Iteration')\n",
        "plt.ylabel('Cost')\n",
        "plt.legend()\n",
        "plt.show()"
      ],
      "metadata": {
        "colab": {
          "base_uri": "https://localhost:8080/",
          "height": 513
        },
        "id": "t8D-AkNkFcMh",
        "outputId": "a4eb957f-7db7-426e-a79e-cb49e261811e"
      },
      "execution_count": null,
      "outputs": [
        {
          "output_type": "display_data",
          "data": {
            "text/plain": [
              "<Figure size 864x576 with 1 Axes>"
            ],
            "image/png": "[encoded data removed]"
          },
          "metadata": {
            "needs_background": "light"
          }
        }
      ]
    },
    {
      "cell_type": "code",
      "source": [],
      "metadata": {
        "id": "BfDjI-vtPyAg"
      },
      "execution_count": null,
      "outputs": []
    }
  ]
}